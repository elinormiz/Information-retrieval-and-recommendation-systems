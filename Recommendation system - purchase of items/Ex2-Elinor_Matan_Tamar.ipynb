{
 "cells": [
  {
   "cell_type": "markdown",
   "metadata": {},
   "source": [
    "# Advanced topics in recommender systems- EX2\n",
    "---------"
   ]
  },
  {
   "cell_type": "code",
   "execution_count": 1,
   "metadata": {},
   "outputs": [],
   "source": [
    "#!pip install scikit-optimize"
   ]
  },
  {
   "cell_type": "markdown",
   "metadata": {},
   "source": [
    "## imports"
   ]
  },
  {
   "cell_type": "code",
   "execution_count": 2,
   "metadata": {},
   "outputs": [],
   "source": [
    "# import packages\n",
    "import numpy as np\n",
    "import pandas as pd\n",
    "import matplotlib.pyplot as plt\n",
    "import skopt\n",
    "from skopt import gp_minimize\n",
    "from skopt.callbacks import CheckpointSaver\n",
    "from skopt.plots import plot_convergence\n",
    "import os.path\n",
    "from tqdm import tqdm\n",
    "from math import exp\n",
    "from scipy.special import expit\n",
    "np.random.seed(42)"
   ]
  },
  {
   "cell_type": "markdown",
   "metadata": {},
   "source": [
    "## class of MF with bias"
   ]
  },
  {
   "cell_type": "code",
   "execution_count": 3,
   "metadata": {},
   "outputs": [],
   "source": [
    "# creating new class for the Matrix Factorization\n",
    "class MatrixFactorizationWithBiases:\n",
    "    # the class get seed, hidden_dimension and option to print the metrics\n",
    "    def __init__(self, seed, hidden_dimension, print_metrics=True):\n",
    "        # define attricutes or seed with the inputs\n",
    "        self.h_len = hidden_dimension\n",
    "        np.random.seed(seed)\n",
    "        self.print_metrics = print_metrics\n",
    "        # initialize another attributes we need for MF\n",
    "        self.results = {}\n",
    "        self.user_map = None\n",
    "        self.item_map = None\n",
    "        self.global_bias = None\n",
    "        self.item_biases = None\n",
    "        self.x_u = None\n",
    "        self.y_i = None\n",
    "        self.b_i = None   # check\n",
    "        self.lamda_bi = None\n",
    "        self.lamda_xu = None\n",
    "        self.lamda_yi = None\n",
    "        self.epochs = None\n",
    "\n",
    "    # conert results to dataframe from dictionary\n",
    "    def get_results(self):\n",
    "        return pd.DataFrame.from_dict(self.results)\n",
    "    \n",
    "    \n",
    "    def record(self, epoch, **kwargs):\n",
    "        epoch = \"{:02d}\".format(epoch)\n",
    "        temp = f\"| epoch   # {epoch} :\"\n",
    "        # for each parameter save the key\n",
    "        for key, value in kwargs.items():\n",
    "            key = f\"{key}\"\n",
    "            # if key is not in the dictionary initialize it with empty list \n",
    "            if not self.results.get(key):\n",
    "                self.results[key] = []\n",
    "            # append the value\n",
    "            self.results[key].append(value)\n",
    "            val = '{:.4}'.format(value)\n",
    "            result = \"{:<32}\".format(F\"  {key} : {val}\")\n",
    "            temp += result\n",
    "        print(temp)\n",
    "        \n",
    "\n",
    "    def set_params(self, **kwargs):\n",
    "        # for each key and value set the value in the key attribute\n",
    "        for key, value in kwargs.items():\n",
    "            setattr(self, key, value)\n",
    "\n",
    "    def fit(self, train, user_map, item_map, validation= None):\n",
    "        pass\n",
    "    \n",
    " \n",
    "    def l2_loss(self):\n",
    "        # initialize loss to 0\n",
    "        loss = 0\n",
    "        # create list of parameters \n",
    "        parameters = [self.b_i, self.x_u, self.y_i]\n",
    "        # create list of parameters of regularization\n",
    "        regularizations = [self.l2_bi, self.l2_xu, self.l2_yi]\n",
    "        # compute the loss \n",
    "        for i in range(len(parameters)):\n",
    "            loss += regularizations[i] * np.sum(np.square(parameters[i]))\n",
    "        # return the total loss (regularization + prediction error)\n",
    "        return loss\n",
    "    \n",
    "    def sigmoid_inner_scalar(self, user, item):\n",
    "        # caculatr the sigmoid by the equation\n",
    "        return self.item_biases[item] + self.x_u[user, :].dot(self.y_i[item, :].T)\n",
    "\n",
    " \n",
    "    def accuracy_vs_epoch(self,epoch):\n",
    "        # get the train and validation accuracy\n",
    "        train_accuracy = self.results['train_percent_right']\n",
    "        validation_accuracy = self.results['validation_percent_right']\n",
    "        # define list with all the epochs\n",
    "        epochs = [i for i in range(1, epoch+1)]\n",
    "        # plot train accuracy and valisation accuracy vs epochs\n",
    "        plt.plot(epochs, train_accuracy, label='Train Accuracy')\n",
    "        plt.plot(epochs, validation_accuracy, label='Validation Accuracy')\n",
    "        # add xticks, legend and labels to x,y axis\n",
    "        plt.xticks(np.arange(1, epoch+1, step=1))\n",
    "        plt.legend(loc ='upper right')\n",
    "        plt.xlabel('Epoch')\n",
    "        plt.ylabel('Accuracy')\n",
    "        plt.show()"
   ]
  },
  {
   "cell_type": "markdown",
   "metadata": {},
   "source": [
    "## class of config"
   ]
  },
  {
   "cell_type": "code",
   "execution_count": 4,
   "metadata": {},
   "outputs": [],
   "source": [
    "# for creating the parameters for BPR\n",
    "class Config:\n",
    "    def __init__(self, **kwargs):\n",
    "        self._set_attributes(kwargs)\n",
    "\n",
    "    def _set_attributes(self, kwargs):\n",
    "        for key, value in kwargs.items():\n",
    "            setattr(self, key, value)\n",
    "\n",
    "    def add_attributes(self, **kwargs):\n",
    "        self._set_attributes(kwargs)"
   ]
  },
  {
   "cell_type": "markdown",
   "metadata": {},
   "source": [
    "## functions for running the models"
   ]
  },
  {
   "cell_type": "code",
   "execution_count": 5,
   "metadata": {},
   "outputs": [],
   "source": [
    "def preprocess_for_mf(train, validation=None):\n",
    "    # learn the indices of the train set\n",
    "    # create dictionary with indeces and values of items\n",
    "    dict_item = {k: v for v, k in enumerate(train[ITEM_COL].unique())}\n",
    "    # create dictionary with indeces and values of users\n",
    "    dict_user = {k: v for v, k in enumerate(train[USER_COL].unique())}\n",
    "    # mapping from the old indices (for items and users) to the new ones\n",
    "    train[ITEM_COL] = train[ITEM_COL].map(dict_item)\n",
    "    train[USER_COL] = train[USER_COL].map(dict_user)\n",
    "\n",
    "    # if we send validation set\n",
    "    if validation is not None:\n",
    "        # mapping from the old indices (for items and users) to the new ones for the validation set too\n",
    "        validation[ITEM_COL] = validation[ITEM_COL].map(dict_item)\n",
    "        validation[USER_COL] = validation[USER_COL].map(dict_user)\n",
    "        # all the indexes that are not appear in the train set but indeed in the validation set to -1\n",
    "        validation.fillna(-1, inplace=True)\n",
    "        # change valudation to integers\n",
    "        validation = validation.astype('int64')\n",
    "        return train,validation,dict_user,dict_item\n",
    "    return train, dict_user, dict_item\n",
    "\n",
    "\n",
    "def run_exp(model, train, user_map, item_map, validation):\n",
    "    # if need to search the best parameters\n",
    "    if HYPER_PARAM_SEARCH:\n",
    "        # save current state after each iteration\n",
    "        checkpoint_saver = CheckpointSaver(CHECKPOINT_NAME)\n",
    "        # optimize the hyper paremters\n",
    "        res_gp = gp_minimize(objective, space, n_calls=HYPER_PARAM_SEARCH_N_ITER, random_state=SEED, \n",
    "                             callback=[checkpoint_saver])\n",
    "        # store an skopt optimization result into a file.\n",
    "        skopt.dump(res_gp, HYPER_PARAM_FILE_NAME, store_objective=False)\n",
    "        # plot the convergence\n",
    "        plot_convergence(res_gp)\n",
    "    # if do not need to search\n",
    "    else:\n",
    "        # fit the model\n",
    "        model.fit(train, user_map, item_map, validation)\n",
    "        # get  measures\n",
    "        results = model.calculate_precision_at_k(train, validation)\n",
    "        # print the results\n",
    "        print(results)"
   ]
  },
  {
   "cell_type": "markdown",
   "metadata": {},
   "source": [
    "----------\n",
    "# SGD Class for early stopping"
   ]
  },
  {
   "cell_type": "code",
   "execution_count": 6,
   "metadata": {},
   "outputs": [],
   "source": [
    "class SgdEarlyStopping:\n",
    "    # get number of iterations for stop condition and minimum epoch\n",
    "    def __init__(self, n_iter=3, min_epoch=6):\n",
    "        # n_iter- if accuracy is decreasing for n_iter then stop\n",
    "        # min_epoch- don't stop before min_epcoch\n",
    "        # initializr parameters\n",
    "        self.n_iter = n_iter\n",
    "        self.last_value = 0\n",
    "        self.last_last_value = 0\n",
    "        self.consecutive_decreasing_acc = 0\n",
    "        self.min_epoch = min_epoch\n",
    "    \n",
    "    # def function for stop\n",
    "    def stop(self, epoch, error):\n",
    "        # check if epoch is bigger than the minimum epoch\n",
    "        if epoch >= self.min_epoch:\n",
    "            # if the accuracy is lower than the last value\n",
    "            if error < self.last_value:\n",
    "                # increase by 1 the number of times we had lower accuracy\n",
    "                self.consecutive_decreasing_acc += 1\n",
    "            # if the accuracy is not lower, set to zero\n",
    "            else:\n",
    "                self.consecutive_decreasing_acc = 0\n",
    "            # check if the accuracy decrease for 3 times at least and return True\n",
    "            if self.consecutive_decreasing_acc >= self.n_iter:\n",
    "                return True\n",
    "        # if not stop change the values of  last value and last last value\n",
    "        self.last_last_value = self.last_value\n",
    "        self.last_value = error\n",
    "        return False"
   ]
  },
  {
   "cell_type": "markdown",
   "metadata": {},
   "source": [
    "----------\n",
    "# BPR Class"
   ]
  },
  {
   "cell_type": "code",
   "execution_count": 25,
   "metadata": {},
   "outputs": [],
   "source": [
    "# create class for BPR only for SGD that heiress from the class MatrixFactorizationWithBiases\n",
    "class BPRMatrixFactorizationWithBiasesSGD(MatrixFactorizationWithBiases):\n",
    "    def __init__(self, config):\n",
    "        # initialization parameters of the model\n",
    "        super().__init__(config.seed, config.hidden_dimension, config.print_metrics)\n",
    "        self.n_users = config.n_users\n",
    "        self.n_items = config.n_items\n",
    "        self.lr_xu= config.lr_xu\n",
    "        self.lr_yi = config.lr_yi\n",
    "        self.lr_bi = config.lr_bi\n",
    "        self.negative_sampler = None\n",
    "        self.early_stopping = None\n",
    "        self.l2_xu = config.l2_xu\n",
    "        self.l2_yi = config.l2_yi\n",
    "        self.l2_bi = config.l2_bi\n",
    "        self.epochs = config.epochs\n",
    "        self.results = {}\n",
    "        self.negative_sampler_type = config.negative_sampler_type\n",
    "        np.random.seed(SEED)\n",
    "        self.error = None\n",
    "    \n",
    "    # initialization of model's weights\n",
    "    def weight_init(self, user_map, item_map):\n",
    "        # define user map and item map\n",
    "        self.user_map, self.item_map = user_map, item_map\n",
    "        # initialize x_u, y_i by random numbers from normal distribution\n",
    "        self.x_u = np.random.normal(scale=0.2 / self.h_len, size=(self.n_users, self.h_len))\n",
    "        self.y_i = np.random.normal(scale=0.2 / self.h_len, size=(self.n_items, self.h_len))\n",
    "        # initialize the biases of items to 0 array\n",
    "        self.b_i = np.zeros(self.n_items)\n",
    "    \n",
    "    # define fit function \n",
    "    def fit(self, train, user_map, item_map, validation=None):\n",
    "        # initialize the results\n",
    "        self.results = {}\n",
    "        # call to negative sampler class for sampling negative items\n",
    "        self.negative_sampler = NegativeSampler(train, method=self.negative_sampler_type)\n",
    "        self.negative_sampler.create_negative_samples(train)\n",
    "        # create object of early stopping\n",
    "        self.early_stopping = SgdEarlyStopping()\n",
    "        # initialize parameters\n",
    "        self.weight_init(user_map, item_map)\n",
    "    \n",
    "        # for each epoch \n",
    "        for epoch in range(1, self.epochs + 1):\n",
    "            print('epoch:',epoch)\n",
    "            # get the negative samples\n",
    "            train_with_negative_samples = self.negative_sampler.get(epoch)\n",
    "            #t2= pd.DataFrame(train_with_negative_samples)\n",
    "            #print (t2[t2.isna().any(axis=1)])\n",
    "            # shffuel the train \n",
    "            np.random.shuffle(train_with_negative_samples)\n",
    "            # apply run_epoch with the train data (calculate error and updating parameters)\n",
    "            self.run_epoch(train_with_negative_samples, epoch)\n",
    "            # calculate measures for train set\n",
    "            train_percent_right, train_log_likelihood = self.percent_right_and_log_likelihood(train_with_negative_samples)\n",
    "            train_objective = train_log_likelihood - self.l2_loss()\n",
    "            # define dictionary for parameters of objective and precent of right\n",
    "            convergence_params = {'train_objective': train_objective, 'train_percent_right': train_percent_right}\n",
    "            # if we have validation\n",
    "            if validation is not None:\n",
    "                # calculate measures for validation set\n",
    "                validation_percent_right, validation_log_likelihood = self.percent_right_and_log_likelihood(validation.values)\n",
    "                validation_objective = validation_log_likelihood - self.l2_loss()\n",
    "                # set the error to validation error\n",
    "                self.error = validation_percent_right\n",
    "                # append to the dictionary parameters of validation...\n",
    "                convergence_params.update({'validation_objective': validation_objective, 'validation_percent_right': validation_percent_right})\n",
    "                # check if need to stop (by the current epoch and validation error)\n",
    "                if self.early_stopping.stop(epoch, validation_percent_right):\n",
    "                    # update the results with the errors value\n",
    "                    self.record(epoch, **convergence_params)\n",
    "                     # update the error and break\n",
    "                    self.error = self.early_stopping.last_last_value\n",
    "                    break\n",
    "            # update the results with the errors value\n",
    "            self.record(epoch, **convergence_params)\n",
    "        # if need to search parameters plot train and validation error vs epoch\n",
    "        if HYPER_PARAM_SEARCH:\n",
    "            self.accuracy_vs_epoch(epoch)\n",
    "        # return error\n",
    "        return self.error\n",
    "\n",
    "\n",
    "    def run_epoch(self, data, epoch):\n",
    "        # for each row in tha data\n",
    "        for row in data:\n",
    "            # get the values in the row (user, item_positive, item_negative)\n",
    "            u, i_positive, i_negative = row\n",
    "            # convert float to int for slicing\n",
    "            #print ('u', u, type(u), 'i_positive', i_positive, type(i_positive),'i_negative', i_negative, type(i_negative) )\n",
    "            u = int(u)\n",
    "            i_positive = int(i_positive)\n",
    "            i_negative = int(i_negative)\n",
    "            #print ('u', u, type(u), 'i_positive', i_positive, type(i_positive),'i_negative', i_negative, type(i_negative) )\n",
    "            #print ('----------------------------------')\n",
    "            # compute prediction error\n",
    "            error = 1 - self.sigmoid(self.sigmoid_inner_scalar_pair(u, i_positive, i_negative))\n",
    "            # update all parameters\n",
    "            self.b_i[i_positive] += self.lr_bi * (error - self.l2_bi * self.b_i[i_positive])\n",
    "            self.b_i[i_negative] += self.lr_bi * (-error - self.l2_bi * self.b_i[i_negative])\n",
    "            self.x_u[u, :] += self.lr_xu * (error * (self.y_i[i_positive, :] - self.y_i[i_negative, :]) - self.l2_xu * self.x_u[u, :])\n",
    "            self.y_i[i_positive, :] += self.lr_yi * (error * self.x_u[u, :] - self.l2_yi * self.y_i[i_positive, :])\n",
    "            self.y_i[i_negative, :] +=self.lr_yi * (error * (-self.x_u[u, :]) - self.l2_yi * self.y_i[i_negative, :])\n",
    "    \n",
    "    # compute sigmoid\n",
    "    def sigmoid(self, x):\n",
    "        try:\n",
    "            exponent = exp(-x)\n",
    "        except OverflowError:\n",
    "            exponent = float('inf')\n",
    "        return 1 / (1 + exponent)\n",
    "    \n",
    "    # compute sigmpid for 2 items by the equation\n",
    "    def sigmoid_inner_scalar_pair(self, u, i_positive, i_negative):\n",
    "        # convert float to int for slicing\n",
    "        u = int(u)\n",
    "        i_positive = int(i_positive)\n",
    "        i_negative = int(i_negative)\n",
    "        return self.x_u[u,:].dot(self.y_i[i_positive, :].T - self.y_i[i_negative, :].T) + self.b_i[i_positive] - self.b_i[i_negative]\n",
    "    \n",
    "    def calculate_precision_at_k(self, train, val):\n",
    "        # get the unique values of items\n",
    "        unique_items = set([i for i in range(self.n_items)])\n",
    "        # initialize zeros with the number of users\n",
    "        ranks_all_items = np.zeros(self.n_users)\n",
    "        # intialize zeros with the number of users- for items the user didn't rank\n",
    "        ranks_items_user_did_not_rank = np.zeros(self.n_users)\n",
    "        # for each user\n",
    "        for user in range(self.n_users):\n",
    "            # get the users' items from the validation set\n",
    "            user_validation_item = val[val[USER_COL] == user][POSITIVE_COL].values[0]\n",
    "            # get the items that the user ranked in the training set\n",
    "            user_unique_items = set(train[train[USER_COL] == user][ITEM_COL])\n",
    "            # get a list of the items that are in the validation set but the user didn't rank them on the training set\n",
    "            user_items_did_not_rank = list(unique_items.difference(user_unique_items))\n",
    "            # calc by logistic sigmoid\n",
    "            relative_ranks = pd.Series(expit(self.y_i.dot(self.x_u[user, :]) + self.b_i))\n",
    "            # get the rank for items didn't rank and rank in in descending order and get the validation items\n",
    "            ranks_items_user_did_not_rank[user] = relative_ranks.take(user_items_did_not_rank).rank(ascending=False)[\n",
    "                user_validation_item]\n",
    "            \n",
    "            # update rank for user\n",
    "            ranks_all_items[user] = relative_ranks.rank(ascending=False)[user_validation_item]\n",
    "            \n",
    "        # initialize dictionary for results\n",
    "        results_dict = {}\n",
    "        # record measures in the dictionary\n",
    "        for k in K_LIST_FOR_PRECISION_AT_K:\n",
    "            results_dict[F\"precision_at_{k}_all_items\"] = np.sum(ranks_all_items <= k) / self.n_users\n",
    "            results_dict[F\"precision_at_{k}_items_user_did_not_rank\"] = np.sum(\n",
    "                ranks_items_user_did_not_rank <= k) / self.n_users\n",
    "        results_dict[F\"mpr_all_items\"] = np.mean(ranks_all_items / self.n_items)\n",
    "        return results_dict\n",
    "\n",
    "    def percent_right_and_log_likelihood(self, x):\n",
    "        # convert to int and initilaize log likelihood and counter\n",
    "        x = x.astype(int)\n",
    "        log_likelihood = 0\n",
    "        counter = 0\n",
    "        # for each row\n",
    "        for row in x:\n",
    "            # get the user and the 2 items\n",
    "            u, i_positive, i_negative = row\n",
    "            # get the prediction and update the counter if it's larger than 0.5\n",
    "            prediction = self.sigmoid(self.sigmoid_inner_scalar_pair(u, i_positive, i_negative))\n",
    "            counter += (prediction > 0.5)\n",
    "            # add the log likelihood to the summerize likelihood\n",
    "            log_likelihood += np.log(prediction) \n",
    "         # the percentage of the items that we corrected from the whole sampels\n",
    "        percent_right = counter / x.shape[0]  \n",
    "        return percent_right, log_likelihood\n",
    "\n",
    "    def predict_on_test_set(self):\n",
    "        # read the test data\n",
    "        test = pd.read_csv(TEST_PATH)\n",
    "        # initialize predictions\n",
    "        predictions = []\n",
    "        # for each row compute the prediction by the conditions\n",
    "        for _, row in test.iterrows():\n",
    "            # get the user and 2 items\n",
    "            user, item1, item2 = self.user_map.get(row[USER_COL]), self.item_map.get(row['Item1'], -1), self.item_map.get(row['Item2'], -1)\n",
    "            # if item2 is more likely then item1 than 1\n",
    "            # if the item does not exist we replace it with the mean\n",
    "            if item1 + item2 == -2:\n",
    "                print('both items exist in test but not in train')\n",
    "                # choose random\n",
    "                prediction = np.random.random_sample()\n",
    "            elif item1 == -1:\n",
    "                print('item1 exist in test but not in train')\n",
    "                prediction = self.sigmoid(self.b_i[item2] - np.mean(self.b_i) + self.x_u[user, :].dot(self.y_i[item2, :].T - np.mean(self.y_i, axis=0)))\n",
    "            elif item2 == -1:\n",
    "                print('item2 exist in test but not in train')\n",
    "                prediction = self.sigmoid(np.mean(self.b_i) - self.b_i[item1] + self.x_u[user, :].dot(np.mean(self.y_i, axis=0) - self.y_i[item1, :].T))\n",
    "            else:\n",
    "                prediction = self.sigmoid(self.sigmoid_inner_scalar_pair(user, item2, item1))\n",
    "            # update the list of predictions\n",
    "            predictions.append((prediction > 0.5) * 1)\n",
    "        # update new column with the predictions\n",
    "        test['Classification'] = predictions\n",
    "        # save to csv\n",
    "        test.to_csv(PREDICTION_FILE_NAME, index=False)"
   ]
  },
  {
   "cell_type": "markdown",
   "metadata": {},
   "source": [
    "------\n",
    "# Class for negative sampler"
   ]
  },
  {
   "cell_type": "code",
   "execution_count": 9,
   "metadata": {},
   "outputs": [],
   "source": [
    "#self.negative_sampler = NegativeSampler(train, method=self.negative_sampler_type)\n",
    "#self.negative_sampler.create_negative_samples(train)"
   ]
  },
  {
   "cell_type": "code",
   "execution_count": 10,
   "metadata": {},
   "outputs": [],
   "source": [
    "# the calss choose negative samples- proportionally to their item strength\n",
    "class NegativeSampler:\n",
    "    def __init__(self, train, method='popularity'):\n",
    "        # save parameters\n",
    "        self.method = method  # uniform or popularity\n",
    "        self.data = train\n",
    "        # the proportion of  item frequency from all the items in the train set\n",
    "        self.item_probabilities = None  \n",
    "        self.path = f\"{NEGATIVE_SAMPLES_FILE_NAME}.csv\"\n",
    "        self.positive_samples = None\n",
    "\n",
    "    def create_negative_samples(self, data):\n",
    "        # if we had already a file so save it\n",
    "        if os.path.isfile(self.path) and LOAD_NEGATIVE:\n",
    "            self.positive_samples = data\n",
    "        else:\n",
    "            # create new df with a column for each samples set\n",
    "            empty_df = pd.DataFrame(columns=[i for i in range(1, N_NEGATIVE_SAMPLES_SETS+1)]) \n",
    "            # save to csv\n",
    "            empty_df.to_csv(self.path, index=False)\n",
    "            # create the samples and save\n",
    "            self.create_and_save_negative_samples()\n",
    "\n",
    "    def get(self, epoch):\n",
    "        # get the samples in data frame\n",
    "        negative_samples = pd.read_csv(self.path, usecols=[epoch - 1])\n",
    "        # add to df a column with the negative samples\n",
    "        train = self.positive_samples.copy()\n",
    "        train['negative_samples'] = negative_samples.astype(int)\n",
    "        return train.values\n",
    "\n",
    "    def adjust_probabilities(self, p):\n",
    "        # renormalize for popularity\n",
    "        p = p / p.sum()  \n",
    "        # if the methos is uniform set the p \n",
    "        if self.method == 'uniform':\n",
    "            p = pd.Series(1 / p.size, p.index)\n",
    "        return p\n",
    "\n",
    "    def create_and_save_negative_samples(self):\n",
    "        print(\"Creating negative samples\")\n",
    "        # sort values by the user\n",
    "        self.data.sort_values(by=USER_COL, inplace=True)\n",
    "        self.positive_samples = self.data \n",
    "        # get the unique items\n",
    "        unique_items = set(self.data[ITEM_COL].unique())\n",
    "        # the proportion of the item frequency from all the items in the training set\n",
    "        self.item_probabilities = (self.data.iloc[:, 1].value_counts() / self.data.shape[0]).to_dict() \n",
    "        # adding negative example to each user\n",
    "        for user in tqdm(self.data[USER_COL].unique(), total=len(self.data[USER_COL].unique())):\n",
    "            # get the unique items for this user\n",
    "            user_unique_items = self.data[self.data[USER_COL] == user][ITEM_COL].unique()\n",
    "            # get the items the user didn't rank\n",
    "            user_items_did_not_rank = list(unique_items.difference(user_unique_items))\n",
    "            # set series with probabilities for the items the user didn't rank and adjust it\n",
    "            p = pd.Series({i: self.item_probabilities[i] for i in user_items_did_not_rank})\n",
    "            p = self.adjust_probabilities(p)\n",
    "            # create new data frame for negative samples\n",
    "            user_negative_samples = pd.DataFrame()\n",
    "            # get the number of unique items\n",
    "            user_n_items = len(user_unique_items)\n",
    "            # a condition for replace\n",
    "            replace_or_not = len(user_items_did_not_rank) < user_n_items\n",
    "            # for each sample we want\n",
    "            for i in range(1, N_NEGATIVE_SAMPLES_SETS):\n",
    "                # choose negative samples by probabilities\n",
    "                user_negative_samples[i] = np.random.choice(p.index,\n",
    "                                                            size=user_n_items,\n",
    "                                                            replace=replace_or_not, p=p.values)\n",
    "            # save the samples in csv\n",
    "            user_negative_samples.to_csv(self.path, mode='a', header=False, index=False)"
   ]
  },
  {
   "cell_type": "markdown",
   "metadata": {},
   "source": [
    "# Class for validation creator"
   ]
  },
  {
   "cell_type": "code",
   "execution_count": 11,
   "metadata": {},
   "outputs": [],
   "source": [
    "class ValidationCreator:\n",
    "    def __init__(self, method):\n",
    "        # save parameters\n",
    "        self.method = method # uniform or popularity\n",
    "        self.train_path = TRAIN_FILE_NAME\n",
    "        self.validation_path = VALIDATION_FILE_NAME\n",
    "\n",
    "    def get(self, train):\n",
    "        # get the train  data and validation if can\n",
    "        if os.path.isfile(self.train_path) and MF_LOAD_TRAIN_VALIDATION:\n",
    "            train, validation = pd.read_csv(self.train_path), pd.read_csv(self.validation_path)\n",
    "        else:\n",
    "            train, validation = self.split(train)\n",
    "        # if need to save so save in csv\n",
    "        if MF_SAVE_TRAIN_VALIDATION:\n",
    "            train.to_csv(self.train_path, index=False)\n",
    "            validation.to_csv(self.validation_path, index=False)\n",
    "            # read them from csv\n",
    "            train, validation = pd.read_csv(self.train_path), pd.read_csv(self.validation_path)\n",
    "        return train, validation\n",
    "\n",
    "    def split(self, data):\n",
    "        # get probabilities\n",
    "        item_probabilities = (data[ITEM_COL].value_counts() / data.shape[0]).to_dict()\n",
    "        # get the unique items\n",
    "        unique_items = set(data[ITEM_COL].unique())\n",
    "        # intialize list for validation\n",
    "        validation = []\n",
    "        print(\"Creating train & validation sets\")\n",
    "        train = data.copy()\n",
    "        # adding negative example to each user\n",
    "        for user in tqdm(data[USER_COL].unique(), total=len(data[USER_COL].unique())):\n",
    "            # get the unique items for this user\n",
    "            user_unique_items = set(data[data[USER_COL] == user][ITEM_COL].unique())\n",
    "             # get the items the user didn't rank\n",
    "            user_items_did_not_rank = unique_items.difference(user_unique_items)\n",
    "            # choose from train sample of item: 1) item rank 2) item didn't rank. then add to validation and remove from the train\n",
    "            one_did_rank, one_did_not_rank = self.choose_items(user_unique_items, user_items_did_not_rank, item_probabilities)\n",
    "            validation.append([user, one_did_rank, one_did_not_rank])\n",
    "            train = train[(train[USER_COL] != user) | ((train[USER_COL] == user) & (train[ITEM_COL] != one_did_rank))]\n",
    "        # convert the vaildation to dataframe\n",
    "        validation = pd.DataFrame(validation, columns=[USER_COL, POSITIVE_COL, NEGATIVE_COL])\n",
    "        return train, validation\n",
    "\n",
    "    def adjust_probabilities(self, p):\n",
    "        # renormalize - so sum of probabilities will sum to 1\n",
    "        p = p / p.sum()  \n",
    "        if self.method == 'uniform':\n",
    "             # if the methos is uniform set the p \n",
    "            p = pd.Series(1 / p.size, p.index)\n",
    "        return p\n",
    "\n",
    "    def choose_items(self, did_rank, did_not_rank, item_probabilities):\n",
    "        # choose items for the validation set: so 1 is positive so the user rank it and the second negative so didn't rank it\n",
    "        did_rank, did_not_rank = list(did_rank), list(did_not_rank)\n",
    "        # intialize list for all samples\n",
    "        positive_and_negative = []\n",
    "        # for each item\n",
    "        for i, items in enumerate([did_rank, did_not_rank]):\n",
    "            # set series with probabilities for the items the user didn't rank and adjust it\n",
    "            p = pd.Series({i: item_probabilities[i] for i in items})\n",
    "            p = self.adjust_probabilities(p)\n",
    "            # choose samples by probabilities\n",
    "            positive_and_negative.append(np.random.choice(p.index, p=p.values, size=1)[0])\n",
    "        return positive_and_negative"
   ]
  },
  {
   "cell_type": "markdown",
   "metadata": {},
   "source": [
    "----------\n",
    "## parameters for paths and files"
   ]
  },
  {
   "cell_type": "code",
   "execution_count": 12,
   "metadata": {},
   "outputs": [],
   "source": [
    "# define the paths for the files\n",
    "TRAIN_PATH = 'Train.csv'\n",
    "    \n",
    "# defiend the names of the columns in ths files\n",
    "USER_COL = 'UserID'\n",
    "ITEM_COL = 'ItemID'\n",
    "POSITIVE_COL = 'positive'\n",
    "NEGATIVE_COL = 'negative'\n",
    "\n",
    "# set the number of negative samples and list for all the k we want\n",
    "N_NEGATIVE_SAMPLES_SETS = 50\n",
    "K_LIST_FOR_PRECISION_AT_K = [1, 10, 50]\n"
   ]
  },
  {
   "cell_type": "markdown",
   "metadata": {},
   "source": [
    "-------\n",
    "## Implement BPR tuning with uniform method"
   ]
  },
  {
   "cell_type": "markdown",
   "metadata": {},
   "source": [
    "<b> define parameters for this running and for the tuning"
   ]
  },
  {
   "cell_type": "code",
   "execution_count": 13,
   "metadata": {},
   "outputs": [],
   "source": [
    "# define method\n",
    "NEGATIVE_SAMPLER_TYPE = 'uniform'             #  'uniform' ,'popularity'\n",
    "VALIDATION_CREATOR_SAMPLER_TYPE = 'uniform'   # 'uniform' ,'popularity'\n",
    "TEST_PATH = 'RandomTest.csv'\n",
    "\n",
    "# define names for files we need\n",
    "CHECKPOINT_NAME = f\"./checkpoint_{NEGATIVE_SAMPLER_TYPE}.pkl\"\n",
    "HYPER_PARAM_FILE_NAME = f\"HyperParamResult_{NEGATIVE_SAMPLER_TYPE}.pkl\"\n",
    "\n",
    "# results by types\n",
    "NEGATIVE_SAMPLES_FILE_NAME = F\"all_negative_samples_{NEGATIVE_SAMPLER_TYPE}\"\n",
    "RESULT_FILE_NAME = F\"validation_results_negative_sampler_{NEGATIVE_SAMPLER_TYPE}_validation_type_{VALIDATION_CREATOR_SAMPLER_TYPE}.csv\"\n",
    "TRAIN_FILE_NAME = F\"train_validation_type_{VALIDATION_CREATOR_SAMPLER_TYPE}.csv\"\n",
    "VALIDATION_FILE_NAME = F\"validation_validation_type_{VALIDATION_CREATOR_SAMPLER_TYPE}.csv\"\n",
    "PREDICTION_FILE_NAME = \"random_205948094_207331752_311244636.csv\"\n"
   ]
  },
  {
   "cell_type": "code",
   "execution_count": 14,
   "metadata": {},
   "outputs": [],
   "source": [
    "# HYPER_PARAM_SEARCH or manual config- set to TRUE to search the best parameters\n",
    "HYPER_PARAM_SEARCH = True\n",
    "# number of parameters, seed and the measure for error\n",
    "HYPER_PARAM_SEARCH_N_ITER = 10\n",
    "SEED = 42\n",
    "\n",
    "# Save and load\n",
    "MF_SAVE_TRAIN_VALIDATION = True  \n",
    "MF_LOAD_TRAIN_VALIDATION = False\n",
    "LOAD_NEGATIVE = False\n",
    "\n",
    "# hyper parameter tuning\n",
    "BPR_SPACE = [skopt.space.Real(0.01, 0.1, name='lr_xu', prior='uniform'),\n",
    "             skopt.space.Real(0.01, 0.1, name='lr_yi', prior='uniform'),\n",
    "             skopt.space.Real(0.01, 0.1, name='lr_bi', prior='uniform'),\n",
    "             skopt.space.Real(0.001, 0.01, name='l2_xu', prior='uniform'),\n",
    "             skopt.space.Real(0.001, 0.01, name='l2_yi', prior='uniform'),\n",
    "             skopt.space.Real(0.001, 0.01, name='l2_bi', prior='uniform'),\n",
    "             skopt.space.Categorical([20, 24, 28, 32, 36], name='h_len')]\n",
    "space = BPR_SPACE\n",
    "\n",
    "CONFIG = Config(\n",
    "    lr_xu=0.05,\n",
    "    lr_yi=0.01,\n",
    "    lr_bi=0.01,\n",
    "    print_metrics=True,\n",
    "    hidden_dimension=28,\n",
    "    l2_xu=0.001,\n",
    "    l2_yi=0.001,\n",
    "    l2_bi=0.001,\n",
    "    epochs=35,\n",
    "    seed=SEED,\n",
    "    negative_sampler_type=NEGATIVE_SAMPLER_TYPE,\n",
    "    validation_creator_sampler_type=VALIDATION_CREATOR_SAMPLER_TYPE)\n",
    "\n",
    "@skopt.utils.use_named_args(space)\n",
    "def objective(**params):\n",
    "    mf.set_params(**params)\n",
    "    print({i: np.round(v, 3) for i, v in mf.__dict__.items() if i in params.keys()})\n",
    "    return mf.fit(train.copy(), user_map, item_map, validation.copy())"
   ]
  },
  {
   "cell_type": "markdown",
   "metadata": {},
   "source": [
    "<b> read files:"
   ]
  },
  {
   "cell_type": "code",
   "execution_count": 15,
   "metadata": {},
   "outputs": [],
   "source": [
    "# read the csv file (train data)\n",
    "train = pd.read_csv(TRAIN_PATH)\n",
    "# appply the preprocess_for_mf function to get train, validation, dictionary for users and dictionary for items\n",
    "train, user_map, item_map = preprocess_for_mf(train.copy())"
   ]
  },
  {
   "cell_type": "markdown",
   "metadata": {},
   "source": [
    "<b> \"turn on\" tuning and run all the model"
   ]
  },
  {
   "cell_type": "code",
   "execution_count": 16,
   "metadata": {
    "scrolled": true
   },
   "outputs": [
    {
     "name": "stderr",
     "output_type": "stream",
     "text": [
      "  0%|                                                                                 | 3/6040 [00:00<04:29, 22.41it/s]"
     ]
    },
    {
     "name": "stdout",
     "output_type": "stream",
     "text": [
      "Creating train & validation sets\n"
     ]
    },
    {
     "name": "stderr",
     "output_type": "stream",
     "text": [
      "100%|██████████████████████████████████████████████████████████████████████████████| 6040/6040 [04:12<00:00, 23.90it/s]\n",
      "  0%|                                                                                         | 0/6040 [00:00<?, ?it/s]"
     ]
    },
    {
     "name": "stdout",
     "output_type": "stream",
     "text": [
      "{'h_len': 28, 'lr_xu': 0.082, 'lr_yi': 0.027, 'lr_bi': 0.08, 'l2_xu': 0.006, 'l2_yi': 0.005, 'l2_bi': 0.002}\n",
      "Creating negative samples\n"
     ]
    },
    {
     "name": "stderr",
     "output_type": "stream",
     "text": [
      "100%|██████████████████████████████████████████████████████████████████████████████| 6040/6040 [04:58<00:00, 20.24it/s]\n"
     ]
    },
    {
     "name": "stdout",
     "output_type": "stream",
     "text": [
      "epoch: 1\n",
      "| epoch   # 01 :  train_objective : -3.319e+05    train_percent_right : 0.8514    validation_objective : -2.027e+03  validation_percent_right : 0.8526\n",
      "epoch: 2\n",
      "| epoch   # 02 :  train_objective : -3.275e+05    train_percent_right : 0.8523    validation_objective : -2.027e+03  validation_percent_right : 0.8556\n",
      "epoch: 3\n",
      "| epoch   # 03 :  train_objective : -2.966e+05    train_percent_right : 0.8704    validation_objective : -1.93e+03  validation_percent_right : 0.8651\n",
      "epoch: 4\n",
      "| epoch   # 04 :  train_objective : -2.559e+05    train_percent_right : 0.892     validation_objective : -1.771e+03  validation_percent_right : 0.8786\n",
      "epoch: 5\n",
      "| epoch   # 05 :  train_objective : -2.257e+05    train_percent_right : 0.9072    validation_objective : -1.638e+03  validation_percent_right : 0.8965\n",
      "epoch: 6\n",
      "| epoch   # 06 :  train_objective : -2.04e+05     train_percent_right : 0.9178    validation_objective : -1.556e+03  validation_percent_right : 0.8997\n",
      "epoch: 7\n",
      "| epoch   # 07 :  train_objective : -1.892e+05    train_percent_right : 0.9243    validation_objective : -1.491e+03  validation_percent_right : 0.9081\n",
      "epoch: 8\n",
      "| epoch   # 08 :  train_objective : -1.783e+05    train_percent_right : 0.9296    validation_objective : -1.447e+03  validation_percent_right : 0.9119\n",
      "epoch: 9\n",
      "| epoch   # 09 :  train_objective : -1.687e+05    train_percent_right : 0.9342    validation_objective : -1.426e+03  validation_percent_right : 0.9162\n",
      "epoch: 10\n",
      "| epoch   # 10 :  train_objective : -1.607e+05    train_percent_right : 0.9378    validation_objective : -1.396e+03  validation_percent_right : 0.9185\n",
      "epoch: 11\n",
      "| epoch   # 11 :  train_objective : -1.54e+05     train_percent_right : 0.9411    validation_objective : -1.387e+03  validation_percent_right : 0.9237\n",
      "epoch: 12\n",
      "| epoch   # 12 :  train_objective : -1.479e+05    train_percent_right : 0.9438    validation_objective : -1.379e+03  validation_percent_right : 0.9252\n",
      "epoch: 13\n",
      "| epoch   # 13 :  train_objective : -1.429e+05    train_percent_right : 0.9462    validation_objective : -1.38e+03  validation_percent_right : 0.9265\n",
      "epoch: 14\n",
      "| epoch   # 14 :  train_objective : -1.385e+05    train_percent_right : 0.9482    validation_objective : -1.378e+03  validation_percent_right : 0.9257\n",
      "epoch: 15\n",
      "| epoch   # 15 :  train_objective : -1.348e+05    train_percent_right : 0.9501    validation_objective : -1.38e+03  validation_percent_right : 0.9253\n",
      "epoch: 16\n",
      "| epoch   # 16 :  train_objective : -1.307e+05    train_percent_right : 0.9522    validation_objective : -1.387e+03  validation_percent_right : 0.9255\n",
      "epoch: 17\n",
      "| epoch   # 17 :  train_objective : -1.275e+05    train_percent_right : 0.9539    validation_objective : -1.391e+03  validation_percent_right : 0.9267\n",
      "epoch: 18\n",
      "| epoch   # 18 :  train_objective : -1.247e+05    train_percent_right : 0.9553    validation_objective : -1.394e+03  validation_percent_right : 0.927\n",
      "epoch: 19\n",
      "| epoch   # 19 :  train_objective : -1.222e+05    train_percent_right : 0.9564    validation_objective : -1.389e+03  validation_percent_right : 0.931\n",
      "epoch: 20\n",
      "| epoch   # 20 :  train_objective : -1.201e+05    train_percent_right : 0.9574    validation_objective : -1.389e+03  validation_percent_right : 0.929\n",
      "epoch: 21\n",
      "| epoch   # 21 :  train_objective : -1.185e+05    train_percent_right : 0.9583    validation_objective : -1.399e+03  validation_percent_right : 0.9296\n",
      "epoch: 22\n",
      "| epoch   # 22 :  train_objective : -1.165e+05    train_percent_right : 0.9589    validation_objective : -1.4e+03  validation_percent_right : 0.9321\n",
      "epoch: 23\n",
      "| epoch   # 23 :  train_objective : -1.153e+05    train_percent_right : 0.9595    validation_objective : -1.422e+03  validation_percent_right : 0.9318\n",
      "epoch: 24\n",
      "| epoch   # 24 :  train_objective : -1.149e+05    train_percent_right : 0.9597    validation_objective : -1.431e+03  validation_percent_right : 0.9308\n",
      "epoch: 25\n",
      "| epoch   # 25 :  train_objective : -1.139e+05    train_percent_right : 0.9601    validation_objective : -1.441e+03  validation_percent_right : 0.9316\n",
      "epoch: 26\n",
      "| epoch   # 26 :  train_objective : -1.126e+05    train_percent_right : 0.9606    validation_objective : -1.44e+03  validation_percent_right : 0.9323\n",
      "epoch: 27\n",
      "| epoch   # 27 :  train_objective : -1.121e+05    train_percent_right : 0.9607    validation_objective : -1.44e+03  validation_percent_right : 0.9321\n",
      "epoch: 28\n",
      "| epoch   # 28 :  train_objective : -1.115e+05    train_percent_right : 0.9614    validation_objective : -1.46e+03  validation_percent_right : 0.9318\n",
      "epoch: 29\n",
      "| epoch   # 29 :  train_objective : -1.107e+05    train_percent_right : 0.9616    validation_objective : -1.45e+03  validation_percent_right : 0.9326\n",
      "epoch: 30\n",
      "| epoch   # 30 :  train_objective : -1.106e+05    train_percent_right : 0.9616    validation_objective : -1.452e+03  validation_percent_right : 0.9339\n",
      "epoch: 31\n",
      "| epoch   # 31 :  train_objective : -1.098e+05    train_percent_right : 0.9619    validation_objective : -1.44e+03  validation_percent_right : 0.9346\n",
      "epoch: 32\n",
      "| epoch   # 32 :  train_objective : -1.099e+05    train_percent_right : 0.9617    validation_objective : -1.443e+03  validation_percent_right : 0.9325\n",
      "epoch: 33\n",
      "| epoch   # 33 :  train_objective : -1.093e+05    train_percent_right : 0.9622    validation_objective : -1.464e+03  validation_percent_right : 0.9306\n",
      "epoch: 34\n",
      "| epoch   # 34 :  train_objective : -1.093e+05    train_percent_right : 0.9621    validation_objective : -1.456e+03  validation_percent_right : 0.9323\n",
      "epoch: 35\n",
      "| epoch   # 35 :  train_objective : -1.091e+05    train_percent_right : 0.9622    validation_objective : -1.454e+03  validation_percent_right : 0.9326\n"
     ]
    },
    {
     "data": {
      "image/png": "[encoded data removed]",
      "text/plain": [
       "<Figure size 432x288 with 1 Axes>"
      ]
     },
     "metadata": {
      "needs_background": "light"
     },
     "output_type": "display_data"
    },
    {
     "name": "stdout",
     "output_type": "stream",
     "text": [
      "{'h_len': 20, 'lr_xu': 0.04, 'lr_yi': 0.023, 'lr_bi': 0.069, 'l2_xu': 0.002, 'l2_yi': 0.007, 'l2_bi': 0.009}\n",
      "Creating negative samples\n"
     ]
    },
    {
     "name": "stderr",
     "output_type": "stream",
     "text": [
      "100%|██████████████████████████████████████████████████████████████████████████████| 6040/6040 [06:14<00:00, 16.14it/s]\n"
     ]
    },
    {
     "name": "stdout",
     "output_type": "stream",
     "text": [
      "epoch: 1\n",
      "| epoch   # 01 :  train_objective : -3.361e+05    train_percent_right : 0.8517    validation_objective : -2.098e+03  validation_percent_right : 0.8548\n",
      "epoch: 2\n",
      "| epoch   # 02 :  train_objective : -3.336e+05    train_percent_right : 0.8523    validation_objective : -2.096e+03  validation_percent_right : 0.8541\n",
      "epoch: 3\n",
      "| epoch   # 03 :  train_objective : -3.316e+05    train_percent_right : 0.8528    validation_objective : -2.099e+03  validation_percent_right : 0.8561\n",
      "epoch: 4\n",
      "| epoch   # 04 :  train_objective : -3.194e+05    train_percent_right : 0.8603    validation_objective : -2.062e+03  validation_percent_right : 0.8608\n",
      "epoch: 5\n",
      "| epoch   # 05 :  train_objective : -2.866e+05    train_percent_right : 0.8794    validation_objective : -1.956e+03  validation_percent_right : 0.8714\n",
      "epoch: 6\n",
      "| epoch   # 06 :  train_objective : -2.562e+05    train_percent_right : 0.8958    validation_objective : -1.827e+03  validation_percent_right : 0.8816\n",
      "epoch: 7\n",
      "| epoch   # 07 :  train_objective : -2.331e+05    train_percent_right : 0.9075    validation_objective : -1.71e+03  validation_percent_right : 0.8914\n",
      "epoch: 8\n",
      "| epoch   # 08 :  train_objective : -2.155e+05    train_percent_right : 0.9159    validation_objective : -1.63e+03  validation_percent_right : 0.9003\n",
      "epoch: 9\n",
      "| epoch   # 09 :  train_objective : -2.043e+05    train_percent_right : 0.9207    validation_objective : -1.564e+03  validation_percent_right : 0.9048\n",
      "epoch: 10\n",
      "| epoch   # 10 :  train_objective : -1.947e+05    train_percent_right : 0.925     validation_objective : -1.51e+03  validation_percent_right : 0.9103\n",
      "epoch: 11\n",
      "| epoch   # 11 :  train_objective : -1.871e+05    train_percent_right : 0.9286    validation_objective : -1.473e+03  validation_percent_right : 0.9147\n",
      "epoch: 12\n",
      "| epoch   # 12 :  train_objective : -1.791e+05    train_percent_right : 0.9324    validation_objective : -1.44e+03  validation_percent_right : 0.919\n",
      "epoch: 13\n",
      "| epoch   # 13 :  train_objective : -1.738e+05    train_percent_right : 0.9346    validation_objective : -1.415e+03  validation_percent_right : 0.9194\n",
      "epoch: 14\n",
      "| epoch   # 14 :  train_objective : -1.684e+05    train_percent_right : 0.9369    validation_objective : -1.4e+03  validation_percent_right : 0.9217\n",
      "epoch: 15\n",
      "| epoch   # 15 :  train_objective : -1.638e+05    train_percent_right : 0.9391    validation_objective : -1.37e+03  validation_percent_right : 0.9238\n",
      "epoch: 16\n",
      "| epoch   # 16 :  train_objective : -1.595e+05    train_percent_right : 0.9407    validation_objective : -1.361e+03  validation_percent_right : 0.9258\n",
      "epoch: 17\n",
      "| epoch   # 17 :  train_objective : -1.558e+05    train_percent_right : 0.9423    validation_objective : -1.353e+03  validation_percent_right : 0.9267\n",
      "epoch: 18\n",
      "| epoch   # 18 :  train_objective : -1.526e+05    train_percent_right : 0.9436    validation_objective : -1.335e+03  validation_percent_right : 0.9276\n",
      "epoch: 19\n",
      "| epoch   # 19 :  train_objective : -1.497e+05    train_percent_right : 0.945     validation_objective : -1.33e+03  validation_percent_right : 0.9285\n",
      "epoch: 20\n",
      "| epoch   # 20 :  train_objective : -1.475e+05    train_percent_right : 0.9459    validation_objective : -1.324e+03  validation_percent_right : 0.93\n",
      "epoch: 21\n",
      "| epoch   # 21 :  train_objective : -1.443e+05    train_percent_right : 0.9472    validation_objective : -1.325e+03  validation_percent_right : 0.926\n",
      "epoch: 22\n",
      "| epoch   # 22 :  train_objective : -1.431e+05    train_percent_right : 0.9477    validation_objective : -1.3e+03  validation_percent_right : 0.9286\n",
      "epoch: 23\n",
      "| epoch   # 23 :  train_objective : -1.406e+05    train_percent_right : 0.9485    validation_objective : -1.302e+03  validation_percent_right : 0.9291\n",
      "epoch: 24\n",
      "| epoch   # 24 :  train_objective : -1.395e+05    train_percent_right : 0.9488    validation_objective : -1.301e+03  validation_percent_right : 0.9288\n",
      "epoch: 25\n",
      "| epoch   # 25 :  train_objective : -1.387e+05    train_percent_right : 0.9491    validation_objective : -1.303e+03  validation_percent_right : 0.9303\n",
      "epoch: 26\n",
      "| epoch   # 26 :  train_objective : -1.37e+05     train_percent_right : 0.9495    validation_objective : -1.294e+03  validation_percent_right : 0.9275\n",
      "epoch: 27\n",
      "| epoch   # 27 :  train_objective : -1.355e+05    train_percent_right : 0.9503    validation_objective : -1.291e+03  validation_percent_right : 0.9298\n",
      "epoch: 28\n",
      "| epoch   # 28 :  train_objective : -1.349e+05    train_percent_right : 0.9505    validation_objective : -1.283e+03  validation_percent_right : 0.9306\n",
      "epoch: 29\n",
      "| epoch   # 29 :  train_objective : -1.342e+05    train_percent_right : 0.9505    validation_objective : -1.281e+03  validation_percent_right : 0.9285\n",
      "epoch: 30\n",
      "| epoch   # 30 :  train_objective : -1.332e+05    train_percent_right : 0.9509    validation_objective : -1.281e+03  validation_percent_right : 0.9281\n",
      "epoch: 31\n",
      "| epoch   # 31 :  train_objective : -1.328e+05    train_percent_right : 0.9508    validation_objective : -1.281e+03  validation_percent_right : 0.931\n",
      "epoch: 32\n",
      "| epoch   # 32 :  train_objective : -1.321e+05    train_percent_right : 0.9512    validation_objective : -1.273e+03  validation_percent_right : 0.9301\n",
      "epoch: 33\n",
      "| epoch   # 33 :  train_objective : -1.323e+05    train_percent_right : 0.9511    validation_objective : -1.274e+03  validation_percent_right : 0.9308\n",
      "epoch: 34\n",
      "| epoch   # 34 :  train_objective : -1.312e+05    train_percent_right : 0.9511    validation_objective : -1.273e+03  validation_percent_right : 0.9285\n",
      "epoch: 35\n",
      "| epoch   # 35 :  train_objective : -1.311e+05    train_percent_right : 0.951     validation_objective : -1.288e+03  validation_percent_right : 0.9268\n"
     ]
    },
    {
     "data": {
      "image/png": "[encoded data removed]",
      "text/plain": [
       "<Figure size 432x288 with 1 Axes>"
      ]
     },
     "metadata": {
      "needs_background": "light"
     },
     "output_type": "display_data"
    },
    {
     "name": "stderr",
     "output_type": "stream",
     "text": [
      "\r",
      "  0%|                                                                                         | 0/6040 [00:00<?, ?it/s]"
     ]
    },
    {
     "name": "stdout",
     "output_type": "stream",
     "text": [
      "{'h_len': 28, 'lr_xu': 0.099, 'lr_yi': 0.066, 'lr_bi': 0.065, 'l2_xu': 0.001, 'l2_yi': 0.001, 'l2_bi': 0.006}\n",
      "Creating negative samples\n"
     ]
    },
    {
     "name": "stderr",
     "output_type": "stream",
     "text": [
      "100%|██████████████████████████████████████████████████████████████████████████████| 6040/6040 [08:09<00:00, 12.33it/s]\n"
     ]
    },
    {
     "name": "stdout",
     "output_type": "stream",
     "text": [
      "epoch: 1\n",
      "| epoch   # 01 :  train_objective : -3.329e+05    train_percent_right : 0.8527    validation_objective : -2.059e+03  validation_percent_right : 0.855\n",
      "epoch: 2\n",
      "| epoch   # 02 :  train_objective : -2.52e+05     train_percent_right : 0.8967    validation_objective : -1.763e+03  validation_percent_right : 0.88\n",
      "epoch: 3\n",
      "| epoch   # 03 :  train_objective : -1.982e+05    train_percent_right : 0.922     validation_objective : -1.497e+03  validation_percent_right : 0.9015\n",
      "epoch: 4\n",
      "| epoch   # 04 :  train_objective : -1.669e+05    train_percent_right : 0.9358    validation_objective : -1.368e+03  validation_percent_right : 0.9151\n",
      "epoch: 5\n",
      "| epoch   # 05 :  train_objective : -1.471e+05    train_percent_right : 0.9441    validation_objective : -1.352e+03  validation_percent_right : 0.9171\n",
      "epoch: 6\n",
      "| epoch   # 06 :  train_objective : -1.349e+05    train_percent_right : 0.9492    validation_objective : -1.402e+03  validation_percent_right : 0.9147\n",
      "epoch: 7\n",
      "| epoch   # 07 :  train_objective : -1.316e+05    train_percent_right : 0.9504    validation_objective : -1.473e+03  validation_percent_right : 0.9157\n",
      "epoch: 8\n",
      "| epoch   # 08 :  train_objective : -1.449e+05    train_percent_right : 0.9477    validation_objective : -1.749e+03  validation_percent_right : 0.9051\n",
      "epoch: 9\n",
      "| epoch   # 09 :  train_objective : -1.827e+05    train_percent_right : 0.9418    validation_objective : -2.114e+03  validation_percent_right : 0.9022\n",
      "epoch: 10\n",
      "| epoch   # 10 :  train_objective : -2.804e+05    train_percent_right : 0.933     validation_objective : -2.798e+03  validation_percent_right : 0.9008\n"
     ]
    },
    {
     "data": {
      "image/png": "[encoded data removed]",
      "text/plain": [
       "<Figure size 432x288 with 1 Axes>"
      ]
     },
     "metadata": {
      "needs_background": "light"
     },
     "output_type": "display_data"
    },
    {
     "name": "stdout",
     "output_type": "stream",
     "text": [
      "{'h_len': 36, 'lr_xu': 0.014, 'lr_yi': 0.098, 'lr_bi': 0.031, 'l2_xu': 0.002, 'l2_yi': 0.007, 'l2_bi': 0.004}\n"
     ]
    },
    {
     "name": "stderr",
     "output_type": "stream",
     "text": [
      "\r",
      "  0%|                                                                                         | 0/6040 [00:00<?, ?it/s]"
     ]
    },
    {
     "name": "stdout",
     "output_type": "stream",
     "text": [
      "Creating negative samples\n"
     ]
    },
    {
     "name": "stderr",
     "output_type": "stream",
     "text": [
      "100%|██████████████████████████████████████████████████████████████████████████████| 6040/6040 [07:59<00:00, 12.61it/s]\n"
     ]
    },
    {
     "name": "stdout",
     "output_type": "stream",
     "text": [
      "epoch: 1\n",
      "| epoch   # 01 :  train_objective : -3.413e+05    train_percent_right : 0.8518    validation_objective : -2.065e+03  validation_percent_right : 0.8561\n",
      "epoch: 2\n",
      "| epoch   # 02 :  train_objective : -3.329e+05    train_percent_right : 0.8526    validation_objective : -2.039e+03  validation_percent_right : 0.8558\n",
      "epoch: 3\n",
      "| epoch   # 03 :  train_objective : -3.23e+05     train_percent_right : 0.8572    validation_objective : -2.024e+03  validation_percent_right : 0.8565\n",
      "epoch: 4\n",
      "| epoch   # 04 :  train_objective : -2.893e+05    train_percent_right : 0.8765    validation_objective : -1.927e+03  validation_percent_right : 0.8664\n",
      "epoch: 5\n",
      "| epoch   # 05 :  train_objective : -2.588e+05    train_percent_right : 0.8925    validation_objective : -1.811e+03  validation_percent_right : 0.8796\n",
      "epoch: 6\n",
      "| epoch   # 06 :  train_objective : -2.357e+05    train_percent_right : 0.9042    validation_objective : -1.725e+03  validation_percent_right : 0.8886\n",
      "epoch: 7\n",
      "| epoch   # 07 :  train_objective : -2.203e+05    train_percent_right : 0.9118    validation_objective : -1.646e+03  validation_percent_right : 0.895\n",
      "epoch: 8\n",
      "| epoch   # 08 :  train_objective : -2.095e+05    train_percent_right : 0.9172    validation_objective : -1.596e+03  validation_percent_right : 0.8998\n",
      "epoch: 9\n",
      "| epoch   # 09 :  train_objective : -2.01e+05     train_percent_right : 0.9208    validation_objective : -1.558e+03  validation_percent_right : 0.9066\n",
      "epoch: 10\n",
      "| epoch   # 10 :  train_objective : -1.935e+05    train_percent_right : 0.9246    validation_objective : -1.518e+03  validation_percent_right : 0.9103\n",
      "epoch: 11\n",
      "| epoch   # 11 :  train_objective : -1.876e+05    train_percent_right : 0.9275    validation_objective : -1.496e+03  validation_percent_right : 0.9118\n",
      "epoch: 12\n",
      "| epoch   # 12 :  train_objective : -1.816e+05    train_percent_right : 0.9303    validation_objective : -1.471e+03  validation_percent_right : 0.9142\n",
      "epoch: 13\n",
      "| epoch   # 13 :  train_objective : -1.766e+05    train_percent_right : 0.9328    validation_objective : -1.446e+03  validation_percent_right : 0.9164\n",
      "epoch: 14\n",
      "| epoch   # 14 :  train_objective : -1.726e+05    train_percent_right : 0.9347    validation_objective : -1.434e+03  validation_percent_right : 0.9166\n",
      "epoch: 15\n",
      "| epoch   # 15 :  train_objective : -1.675e+05    train_percent_right : 0.9371    validation_objective : -1.416e+03  validation_percent_right : 0.9182\n",
      "epoch: 16\n",
      "| epoch   # 16 :  train_objective : -1.643e+05    train_percent_right : 0.9387    validation_objective : -1.41e+03  validation_percent_right : 0.9184\n",
      "epoch: 17\n",
      "| epoch   # 17 :  train_objective : -1.603e+05    train_percent_right : 0.9407    validation_objective : -1.396e+03  validation_percent_right : 0.9209\n",
      "epoch: 18\n",
      "| epoch   # 18 :  train_objective : -1.578e+05    train_percent_right : 0.9416    validation_objective : -1.378e+03  validation_percent_right : 0.9207\n",
      "epoch: 19\n",
      "| epoch   # 19 :  train_objective : -1.539e+05    train_percent_right : 0.9437    validation_objective : -1.377e+03  validation_percent_right : 0.9224\n",
      "epoch: 20\n",
      "| epoch   # 20 :  train_objective : -1.511e+05    train_percent_right : 0.945     validation_objective : -1.359e+03  validation_percent_right : 0.9233\n",
      "epoch: 21\n",
      "| epoch   # 21 :  train_objective : -1.483e+05    train_percent_right : 0.9464    validation_objective : -1.344e+03  validation_percent_right : 0.9233\n",
      "epoch: 22\n",
      "| epoch   # 22 :  train_objective : -1.448e+05    train_percent_right : 0.9482    validation_objective : -1.35e+03  validation_percent_right : 0.9245\n",
      "epoch: 23\n",
      "| epoch   # 23 :  train_objective : -1.433e+05    train_percent_right : 0.9486    validation_objective : -1.348e+03  validation_percent_right : 0.9265\n",
      "epoch: 24\n",
      "| epoch   # 24 :  train_objective : -1.409e+05    train_percent_right : 0.9499    validation_objective : -1.358e+03  validation_percent_right : 0.9265\n",
      "epoch: 25\n",
      "| epoch   # 25 :  train_objective : -1.384e+05    train_percent_right : 0.9511    validation_objective : -1.346e+03  validation_percent_right : 0.923\n",
      "epoch: 26\n",
      "| epoch   # 26 :  train_objective : -1.361e+05    train_percent_right : 0.9523    validation_objective : -1.33e+03  validation_percent_right : 0.9248\n",
      "epoch: 27\n",
      "| epoch   # 27 :  train_objective : -1.349e+05    train_percent_right : 0.9529    validation_objective : -1.333e+03  validation_percent_right : 0.9263\n",
      "epoch: 28\n",
      "| epoch   # 28 :  train_objective : -1.329e+05    train_percent_right : 0.954     validation_objective : -1.33e+03  validation_percent_right : 0.9258\n",
      "epoch: 29\n",
      "| epoch   # 29 :  train_objective : -1.313e+05    train_percent_right : 0.9545    validation_objective : -1.343e+03  validation_percent_right : 0.926\n",
      "epoch: 30\n",
      "| epoch   # 30 :  train_objective : -1.3e+05      train_percent_right : 0.9552    validation_objective : -1.333e+03  validation_percent_right : 0.9276\n",
      "epoch: 31\n",
      "| epoch   # 31 :  train_objective : -1.279e+05    train_percent_right : 0.9561    validation_objective : -1.336e+03  validation_percent_right : 0.9273\n",
      "epoch: 32\n",
      "| epoch   # 32 :  train_objective : -1.271e+05    train_percent_right : 0.9567    validation_objective : -1.309e+03  validation_percent_right : 0.9272\n",
      "epoch: 33\n",
      "| epoch   # 33 :  train_objective : -1.255e+05    train_percent_right : 0.9573    validation_objective : -1.324e+03  validation_percent_right : 0.928\n",
      "epoch: 34\n",
      "| epoch   # 34 :  train_objective : -1.245e+05    train_percent_right : 0.9579    validation_objective : -1.317e+03  validation_percent_right : 0.9286\n",
      "epoch: 35\n",
      "| epoch   # 35 :  train_objective : -1.23e+05     train_percent_right : 0.9584    validation_objective : -1.308e+03  validation_percent_right : 0.9276\n"
     ]
    },
    {
     "data": {
      "image/png": "[encoded data removed]",
      "text/plain": [
       "<Figure size 432x288 with 1 Axes>"
      ]
     },
     "metadata": {
      "needs_background": "light"
     },
     "output_type": "display_data"
    },
    {
     "name": "stderr",
     "output_type": "stream",
     "text": [
      "\r",
      "  0%|                                                                                         | 0/6040 [00:00<?, ?it/s]"
     ]
    },
    {
     "name": "stdout",
     "output_type": "stream",
     "text": [
      "{'h_len': 28, 'lr_xu': 0.052, 'lr_yi': 0.087, 'lr_bi': 0.071, 'l2_xu': 0.005, 'l2_yi': 0.001, 'l2_bi': 0.009}\n",
      "Creating negative samples\n"
     ]
    },
    {
     "name": "stderr",
     "output_type": "stream",
     "text": [
      "100%|██████████████████████████████████████████████████████████████████████████████| 6040/6040 [07:02<00:00, 14.29it/s]\n"
     ]
    },
    {
     "name": "stdout",
     "output_type": "stream",
     "text": [
      "epoch: 1\n",
      "| epoch   # 01 :  train_objective : -3.356e+05    train_percent_right : 0.8517    validation_objective : -2.098e+03  validation_percent_right : 0.8536\n",
      "epoch: 2\n",
      "| epoch   # 02 :  train_objective : -2.888e+05    train_percent_right : 0.8786    validation_objective : -1.946e+03  validation_percent_right : 0.868\n",
      "epoch: 3\n",
      "| epoch   # 03 :  train_objective : -2.261e+05    train_percent_right : 0.9106    validation_objective : -1.653e+03  validation_percent_right : 0.8934\n",
      "epoch: 4\n",
      "| epoch   # 04 :  train_objective : -1.932e+05    train_percent_right : 0.9252    validation_objective : -1.475e+03  validation_percent_right : 0.9113\n",
      "epoch: 5\n",
      "| epoch   # 05 :  train_objective : -1.709e+05    train_percent_right : 0.935     validation_objective : -1.4e+03  validation_percent_right : 0.9132\n",
      "epoch: 6\n",
      "| epoch   # 06 :  train_objective : -1.543e+05    train_percent_right : 0.9423    validation_objective : -1.351e+03  validation_percent_right : 0.9238\n",
      "epoch: 7\n",
      "| epoch   # 07 :  train_objective : -1.397e+05    train_percent_right : 0.9484    validation_objective : -1.342e+03  validation_percent_right : 0.9204\n",
      "epoch: 8\n",
      "| epoch   # 08 :  train_objective : -1.295e+05    train_percent_right : 0.9524    validation_objective : -1.384e+03  validation_percent_right : 0.919\n",
      "epoch: 9\n",
      "| epoch   # 09 :  train_objective : -1.228e+05    train_percent_right : 0.9547    validation_objective : -1.391e+03  validation_percent_right : 0.922\n",
      "epoch: 10\n",
      "| epoch   # 10 :  train_objective : -1.19e+05     train_percent_right : 0.956     validation_objective : -1.44e+03  validation_percent_right : 0.9195\n",
      "epoch: 11\n",
      "| epoch   # 11 :  train_objective : -1.174e+05    train_percent_right : 0.9564    validation_objective : -1.524e+03  validation_percent_right : 0.9139\n",
      "epoch: 12\n",
      "| epoch   # 12 :  train_objective : -1.199e+05    train_percent_right : 0.9554    validation_objective : -1.58e+03  validation_percent_right : 0.918\n",
      "epoch: 13\n",
      "| epoch   # 13 :  train_objective : -1.218e+05    train_percent_right : 0.9548    validation_objective : -1.689e+03  validation_percent_right : 0.9164\n",
      "epoch: 14\n",
      "| epoch   # 14 :  train_objective : -1.296e+05    train_percent_right : 0.953     validation_objective : -1.748e+03  validation_percent_right : 0.9157\n",
      "epoch: 15\n",
      "| epoch   # 15 :  train_objective : -1.387e+05    train_percent_right : 0.9515    validation_objective : -1.859e+03  validation_percent_right : 0.9161\n",
      "epoch: 16\n",
      "| epoch   # 16 :  train_objective : -1.554e+05    train_percent_right : 0.9482    validation_objective : -2.149e+03  validation_percent_right : 0.9071\n",
      "epoch: 17\n",
      "| epoch   # 17 :  train_objective : -1.8e+05      train_percent_right : 0.9456    validation_objective : -2.234e+03  validation_percent_right : 0.9108\n",
      "epoch: 18\n",
      "| epoch   # 18 :  train_objective : -2.156e+05    train_percent_right : 0.9424    validation_objective : -2.651e+03  validation_percent_right : 0.9093\n",
      "epoch: 19\n",
      "| epoch   # 19 :  train_objective : -2.739e+05    train_percent_right : 0.9387    validation_objective : -3.394e+03  validation_percent_right : 0.902\n",
      "epoch: 20\n",
      "| epoch   # 20 :  train_objective : -3.727e+05    train_percent_right : 0.9348    validation_objective : -4.39e+03  validation_percent_right : 0.8978\n"
     ]
    },
    {
     "data": {
      "image/png": "[encoded data removed]",
      "text/plain": [
       "<Figure size 432x288 with 1 Axes>"
      ]
     },
     "metadata": {
      "needs_background": "light"
     },
     "output_type": "display_data"
    },
    {
     "name": "stderr",
     "output_type": "stream",
     "text": [
      "\r",
      "  0%|                                                                                         | 0/6040 [00:00<?, ?it/s]"
     ]
    },
    {
     "name": "stdout",
     "output_type": "stream",
     "text": [
      "{'h_len': 32, 'lr_xu': 0.045, 'lr_yi': 0.011, 'lr_bi': 0.031, 'l2_xu': 0.003, 'l2_yi': 0.007, 'l2_bi': 0.006}\n",
      "Creating negative samples\n"
     ]
    },
    {
     "name": "stderr",
     "output_type": "stream",
     "text": [
      "100%|██████████████████████████████████████████████████████████████████████████████| 6040/6040 [06:18<00:00, 15.95it/s]\n"
     ]
    },
    {
     "name": "stdout",
     "output_type": "stream",
     "text": [
      "epoch: 1\n",
      "| epoch   # 01 :  train_objective : -3.423e+05    train_percent_right : 0.8523    validation_objective : -2.088e+03  validation_percent_right : 0.8551\n",
      "epoch: 2\n",
      "| epoch   # 02 :  train_objective : -3.332e+05    train_percent_right : 0.8532    validation_objective : -2.063e+03  validation_percent_right : 0.854\n",
      "epoch: 3\n",
      "| epoch   # 03 :  train_objective : -3.314e+05    train_percent_right : 0.8527    validation_objective : -2.052e+03  validation_percent_right : 0.8573\n",
      "epoch: 4\n",
      "| epoch   # 04 :  train_objective : -3.299e+05    train_percent_right : 0.8535    validation_objective : -2.057e+03  validation_percent_right : 0.8523\n",
      "epoch: 5\n",
      "| epoch   # 05 :  train_objective : -3.195e+05    train_percent_right : 0.8596    validation_objective : -2.026e+03  validation_percent_right : 0.8568\n",
      "epoch: 6\n",
      "| epoch   # 06 :  train_objective : -2.983e+05    train_percent_right : 0.8718    validation_objective : -1.967e+03  validation_percent_right : 0.8646\n",
      "epoch: 7\n",
      "| epoch   # 07 :  train_objective : -2.771e+05    train_percent_right : 0.8831    validation_objective : -1.89e+03  validation_percent_right : 0.872\n",
      "epoch: 8\n",
      "| epoch   # 08 :  train_objective : -2.594e+05    train_percent_right : 0.8926    validation_objective : -1.805e+03  validation_percent_right : 0.8811\n",
      "epoch: 9\n",
      "| epoch   # 09 :  train_objective : -2.432e+05    train_percent_right : 0.9007    validation_objective : -1.729e+03  validation_percent_right : 0.8892\n",
      "epoch: 10\n",
      "| epoch   # 10 :  train_objective : -2.287e+05    train_percent_right : 0.9082    validation_objective : -1.665e+03  validation_percent_right : 0.8965\n",
      "epoch: 11\n",
      "| epoch   # 11 :  train_objective : -2.157e+05    train_percent_right : 0.9147    validation_objective : -1.595e+03  validation_percent_right : 0.9003\n",
      "epoch: 12\n",
      "| epoch   # 12 :  train_objective : -2.062e+05    train_percent_right : 0.9189    validation_objective : -1.549e+03  validation_percent_right : 0.906\n",
      "epoch: 13\n",
      "| epoch   # 13 :  train_objective : -1.986e+05    train_percent_right : 0.9225    validation_objective : -1.508e+03  validation_percent_right : 0.9089\n",
      "epoch: 14\n",
      "| epoch   # 14 :  train_objective : -1.922e+05    train_percent_right : 0.9252    validation_objective : -1.481e+03  validation_percent_right : 0.9091\n",
      "epoch: 15\n",
      "| epoch   # 15 :  train_objective : -1.869e+05    train_percent_right : 0.9277    validation_objective : -1.447e+03  validation_percent_right : 0.9146\n",
      "epoch: 16\n",
      "| epoch   # 16 :  train_objective : -1.814e+05    train_percent_right : 0.9302    validation_objective : -1.423e+03  validation_percent_right : 0.9182\n",
      "epoch: 17\n",
      "| epoch   # 17 :  train_objective : -1.769e+05    train_percent_right : 0.9324    validation_objective : -1.404e+03  validation_percent_right : 0.92\n",
      "epoch: 18\n",
      "| epoch   # 18 :  train_objective : -1.733e+05    train_percent_right : 0.934     validation_objective : -1.397e+03  validation_percent_right : 0.9228\n",
      "epoch: 19\n",
      "| epoch   # 19 :  train_objective : -1.69e+05     train_percent_right : 0.9358    validation_objective : -1.391e+03  validation_percent_right : 0.923\n",
      "epoch: 20\n",
      "| epoch   # 20 :  train_objective : -1.657e+05    train_percent_right : 0.9372    validation_objective : -1.381e+03  validation_percent_right : 0.924\n",
      "epoch: 21\n",
      "| epoch   # 21 :  train_objective : -1.624e+05    train_percent_right : 0.9389    validation_objective : -1.367e+03  validation_percent_right : 0.9245\n",
      "epoch: 22\n",
      "| epoch   # 22 :  train_objective : -1.598e+05    train_percent_right : 0.9402    validation_objective : -1.356e+03  validation_percent_right : 0.928\n",
      "epoch: 23\n",
      "| epoch   # 23 :  train_objective : -1.563e+05    train_percent_right : 0.9416    validation_objective : -1.348e+03  validation_percent_right : 0.9278\n",
      "epoch: 24\n",
      "| epoch   # 24 :  train_objective : -1.538e+05    train_percent_right : 0.9427    validation_objective : -1.341e+03  validation_percent_right : 0.9278\n",
      "epoch: 25\n",
      "| epoch   # 25 :  train_objective : -1.51e+05     train_percent_right : 0.9441    validation_objective : -1.334e+03  validation_percent_right : 0.9301\n",
      "epoch: 26\n",
      "| epoch   # 26 :  train_objective : -1.484e+05    train_percent_right : 0.9452    validation_objective : -1.331e+03  validation_percent_right : 0.9305\n",
      "epoch: 27\n",
      "| epoch   # 27 :  train_objective : -1.464e+05    train_percent_right : 0.9463    validation_objective : -1.323e+03  validation_percent_right : 0.9298\n",
      "epoch: 28\n",
      "| epoch   # 28 :  train_objective : -1.441e+05    train_percent_right : 0.9475    validation_objective : -1.328e+03  validation_percent_right : 0.9311\n",
      "epoch: 29\n",
      "| epoch   # 29 :  train_objective : -1.417e+05    train_percent_right : 0.9483    validation_objective : -1.33e+03  validation_percent_right : 0.9308\n",
      "epoch: 30\n",
      "| epoch   # 30 :  train_objective : -1.394e+05    train_percent_right : 0.9494    validation_objective : -1.324e+03  validation_percent_right : 0.9306\n",
      "epoch: 31\n",
      "| epoch   # 31 :  train_objective : -1.379e+05    train_percent_right : 0.9503    validation_objective : -1.328e+03  validation_percent_right : 0.9315\n",
      "epoch: 32\n",
      "| epoch   # 32 :  train_objective : -1.357e+05    train_percent_right : 0.9513    validation_objective : -1.32e+03  validation_percent_right : 0.93\n",
      "epoch: 33\n",
      "| epoch   # 33 :  train_objective : -1.349e+05    train_percent_right : 0.9514    validation_objective : -1.318e+03  validation_percent_right : 0.9311\n",
      "epoch: 34\n",
      "| epoch   # 34 :  train_objective : -1.326e+05    train_percent_right : 0.9526    validation_objective : -1.317e+03  validation_percent_right : 0.9315\n",
      "epoch: 35\n",
      "| epoch   # 35 :  train_objective : -1.316e+05    train_percent_right : 0.953     validation_objective : -1.326e+03  validation_percent_right : 0.9316\n"
     ]
    },
    {
     "data": {
      "image/png": "[encoded data removed]",
      "text/plain": [
       "<Figure size 432x288 with 1 Axes>"
      ]
     },
     "metadata": {
      "needs_background": "light"
     },
     "output_type": "display_data"
    },
    {
     "name": "stderr",
     "output_type": "stream",
     "text": [
      "\r",
      "  0%|                                                                                         | 0/6040 [00:00<?, ?it/s]"
     ]
    },
    {
     "name": "stdout",
     "output_type": "stream",
     "text": [
      "{'h_len': 28, 'lr_xu': 0.026, 'lr_yi': 0.045, 'lr_bi': 0.026, 'l2_xu': 0.008, 'l2_yi': 0.005, 'l2_bi': 0.003}\n",
      "Creating negative samples\n"
     ]
    },
    {
     "name": "stderr",
     "output_type": "stream",
     "text": [
      "100%|██████████████████████████████████████████████████████████████████████████████| 6040/6040 [05:02<00:00, 20.00it/s]\n"
     ]
    },
    {
     "name": "stdout",
     "output_type": "stream",
     "text": [
      "epoch: 1\n",
      "| epoch   # 01 :  train_objective : -3.431e+05    train_percent_right : 0.8524    validation_objective : -2.073e+03  validation_percent_right : 0.8578\n",
      "epoch: 2\n",
      "| epoch   # 02 :  train_objective : -3.331e+05    train_percent_right : 0.8525    validation_objective : -2.029e+03  validation_percent_right : 0.854\n",
      "epoch: 3\n",
      "| epoch   # 03 :  train_objective : -3.252e+05    train_percent_right : 0.8556    validation_objective : -2.012e+03  validation_percent_right : 0.8588\n",
      "epoch: 4\n",
      "| epoch   # 04 :  train_objective : -2.952e+05    train_percent_right : 0.8725    validation_objective : -1.926e+03  validation_percent_right : 0.8657\n",
      "epoch: 5\n",
      "| epoch   # 05 :  train_objective : -2.642e+05    train_percent_right : 0.889     validation_objective : -1.812e+03  validation_percent_right : 0.8767\n",
      "epoch: 6\n",
      "| epoch   # 06 :  train_objective : -2.378e+05    train_percent_right : 0.9025    validation_objective : -1.696e+03  validation_percent_right : 0.8891\n",
      "epoch: 7\n",
      "| epoch   # 07 :  train_objective : -2.191e+05    train_percent_right : 0.9116    validation_objective : -1.612e+03  validation_percent_right : 0.8988\n",
      "epoch: 8\n",
      "| epoch   # 08 :  train_objective : -2.05e+05     train_percent_right : 0.9182    validation_objective : -1.544e+03  validation_percent_right : 0.9048\n",
      "epoch: 9\n",
      "| epoch   # 09 :  train_objective : -1.954e+05    train_percent_right : 0.9225    validation_objective : -1.509e+03  validation_percent_right : 0.9068\n",
      "epoch: 10\n",
      "| epoch   # 10 :  train_objective : -1.872e+05    train_percent_right : 0.9263    validation_objective : -1.473e+03  validation_percent_right : 0.9108\n",
      "epoch: 11\n",
      "| epoch   # 11 :  train_objective : -1.805e+05    train_percent_right : 0.9296    validation_objective : -1.446e+03  validation_percent_right : 0.9159\n",
      "epoch: 12\n",
      "| epoch   # 12 :  train_objective : -1.741e+05    train_percent_right : 0.9326    validation_objective : -1.417e+03  validation_percent_right : 0.9177\n",
      "epoch: 13\n",
      "| epoch   # 13 :  train_objective : -1.696e+05    train_percent_right : 0.9348    validation_objective : -1.407e+03  validation_percent_right : 0.9187\n",
      "epoch: 14\n",
      "| epoch   # 14 :  train_objective : -1.645e+05    train_percent_right : 0.9372    validation_objective : -1.392e+03  validation_percent_right : 0.921\n",
      "epoch: 15\n",
      "| epoch   # 15 :  train_objective : -1.603e+05    train_percent_right : 0.9391    validation_objective : -1.378e+03  validation_percent_right : 0.9227\n",
      "epoch: 16\n",
      "| epoch   # 16 :  train_objective : -1.569e+05    train_percent_right : 0.941     validation_objective : -1.366e+03  validation_percent_right : 0.9247\n",
      "epoch: 17\n",
      "| epoch   # 17 :  train_objective : -1.533e+05    train_percent_right : 0.9425    validation_objective : -1.367e+03  validation_percent_right : 0.926\n",
      "epoch: 18\n",
      "| epoch   # 18 :  train_objective : -1.51e+05     train_percent_right : 0.9439    validation_objective : -1.359e+03  validation_percent_right : 0.9272\n",
      "epoch: 19\n",
      "| epoch   # 19 :  train_objective : -1.479e+05    train_percent_right : 0.9454    validation_objective : -1.349e+03  validation_percent_right : 0.9263\n",
      "epoch: 20\n",
      "| epoch   # 20 :  train_objective : -1.453e+05    train_percent_right : 0.9467    validation_objective : -1.351e+03  validation_percent_right : 0.926\n",
      "epoch: 21\n",
      "| epoch   # 21 :  train_objective : -1.424e+05    train_percent_right : 0.9481    validation_objective : -1.348e+03  validation_percent_right : 0.9283\n",
      "epoch: 22\n",
      "| epoch   # 22 :  train_objective : -1.403e+05    train_percent_right : 0.9492    validation_objective : -1.357e+03  validation_percent_right : 0.9258\n",
      "epoch: 23\n",
      "| epoch   # 23 :  train_objective : -1.381e+05    train_percent_right : 0.9502    validation_objective : -1.355e+03  validation_percent_right : 0.9273\n",
      "epoch: 24\n",
      "| epoch   # 24 :  train_objective : -1.363e+05    train_percent_right : 0.9512    validation_objective : -1.357e+03  validation_percent_right : 0.9303\n",
      "epoch: 25\n",
      "| epoch   # 25 :  train_objective : -1.342e+05    train_percent_right : 0.9523    validation_objective : -1.349e+03  validation_percent_right : 0.9291\n",
      "epoch: 26\n",
      "| epoch   # 26 :  train_objective : -1.33e+05     train_percent_right : 0.9528    validation_objective : -1.341e+03  validation_percent_right : 0.9316\n",
      "epoch: 27\n",
      "| epoch   # 27 :  train_objective : -1.311e+05    train_percent_right : 0.9538    validation_objective : -1.339e+03  validation_percent_right : 0.9339\n",
      "epoch: 28\n",
      "| epoch   # 28 :  train_objective : -1.3e+05      train_percent_right : 0.9542    validation_objective : -1.35e+03  validation_percent_right : 0.9313\n",
      "epoch: 29\n",
      "| epoch   # 29 :  train_objective : -1.287e+05    train_percent_right : 0.9551    validation_objective : -1.349e+03  validation_percent_right : 0.9336\n",
      "epoch: 30\n",
      "| epoch   # 30 :  train_objective : -1.28e+05     train_percent_right : 0.9552    validation_objective : -1.347e+03  validation_percent_right : 0.9323\n",
      "epoch: 31\n",
      "| epoch   # 31 :  train_objective : -1.268e+05    train_percent_right : 0.9559    validation_objective : -1.362e+03  validation_percent_right : 0.93\n",
      "epoch: 32\n",
      "| epoch   # 32 :  train_objective : -1.255e+05    train_percent_right : 0.9564    validation_objective : -1.362e+03  validation_percent_right : 0.932\n",
      "epoch: 33\n",
      "| epoch   # 33 :  train_objective : -1.252e+05    train_percent_right : 0.9567    validation_objective : -1.355e+03  validation_percent_right : 0.9325\n",
      "epoch: 34\n",
      "| epoch   # 34 :  train_objective : -1.247e+05    train_percent_right : 0.9567    validation_objective : -1.351e+03  validation_percent_right : 0.9326\n",
      "epoch: 35\n",
      "| epoch   # 35 :  train_objective : -1.242e+05    train_percent_right : 0.9571    validation_objective : -1.344e+03  validation_percent_right : 0.9315\n"
     ]
    },
    {
     "data": {
      "image/png": "[encoded data removed]",
      "text/plain": [
       "<Figure size 432x288 with 1 Axes>"
      ]
     },
     "metadata": {
      "needs_background": "light"
     },
     "output_type": "display_data"
    },
    {
     "name": "stderr",
     "output_type": "stream",
     "text": [
      "\r",
      "  0%|                                                                                         | 0/6040 [00:00<?, ?it/s]"
     ]
    },
    {
     "name": "stdout",
     "output_type": "stream",
     "text": [
      "{'h_len': 24, 'lr_xu': 0.013, 'lr_yi': 0.086, 'lr_bi': 0.05, 'l2_xu': 0.005, 'l2_yi': 0.009, 'l2_bi': 0.008}\n",
      "Creating negative samples\n"
     ]
    },
    {
     "name": "stderr",
     "output_type": "stream",
     "text": [
      "100%|██████████████████████████████████████████████████████████████████████████████| 6040/6040 [04:54<00:00, 20.50it/s]\n"
     ]
    },
    {
     "name": "stdout",
     "output_type": "stream",
     "text": [
      "epoch: 1\n",
      "| epoch   # 01 :  train_objective : -3.367e+05    train_percent_right : 0.8522    validation_objective : -2.085e+03  validation_percent_right : 0.8548\n",
      "epoch: 2\n",
      "| epoch   # 02 :  train_objective : -3.319e+05    train_percent_right : 0.8524    validation_objective : -2.078e+03  validation_percent_right : 0.8556\n",
      "epoch: 3\n",
      "| epoch   # 03 :  train_objective : -3.302e+05    train_percent_right : 0.8534    validation_objective : -2.073e+03  validation_percent_right : 0.8541\n",
      "epoch: 4\n",
      "| epoch   # 04 :  train_objective : -3.115e+05    train_percent_right : 0.8646    validation_objective : -2.026e+03  validation_percent_right : 0.8606\n",
      "epoch: 5\n",
      "| epoch   # 05 :  train_objective : -2.854e+05    train_percent_right : 0.8793    validation_objective : -1.953e+03  validation_percent_right : 0.8707\n",
      "epoch: 6\n",
      "| epoch   # 06 :  train_objective : -2.623e+05    train_percent_right : 0.8916    validation_objective : -1.866e+03  validation_percent_right : 0.8785\n",
      "epoch: 7\n",
      "| epoch   # 07 :  train_objective : -2.44e+05     train_percent_right : 0.9017    validation_objective : -1.809e+03  validation_percent_right : 0.8846\n",
      "epoch: 8\n",
      "| epoch   # 08 :  train_objective : -2.311e+05    train_percent_right : 0.908     validation_objective : -1.745e+03  validation_percent_right : 0.8932\n",
      "epoch: 9\n",
      "| epoch   # 09 :  train_objective : -2.214e+05    train_percent_right : 0.9131    validation_objective : -1.702e+03  validation_percent_right : 0.8967\n",
      "epoch: 10\n",
      "| epoch   # 10 :  train_objective : -2.132e+05    train_percent_right : 0.9169    validation_objective : -1.664e+03  validation_percent_right : 0.9008\n",
      "epoch: 11\n",
      "| epoch   # 11 :  train_objective : -2.069e+05    train_percent_right : 0.92      validation_objective : -1.633e+03  validation_percent_right : 0.9023\n",
      "epoch: 12\n",
      "| epoch   # 12 :  train_objective : -2.018e+05    train_percent_right : 0.9225    validation_objective : -1.603e+03  validation_percent_right : 0.9083\n",
      "epoch: 13\n",
      "| epoch   # 13 :  train_objective : -1.972e+05    train_percent_right : 0.9246    validation_objective : -1.584e+03  validation_percent_right : 0.9089\n",
      "epoch: 14\n",
      "| epoch   # 14 :  train_objective : -1.931e+05    train_percent_right : 0.9269    validation_objective : -1.566e+03  validation_percent_right : 0.9114\n",
      "epoch: 15\n",
      "| epoch   # 15 :  train_objective : -1.894e+05    train_percent_right : 0.9285    validation_objective : -1.55e+03  validation_percent_right : 0.9123\n",
      "epoch: 16\n",
      "| epoch   # 16 :  train_objective : -1.856e+05    train_percent_right : 0.9304    validation_objective : -1.536e+03  validation_percent_right : 0.9166\n",
      "epoch: 17\n",
      "| epoch   # 17 :  train_objective : -1.823e+05    train_percent_right : 0.932     validation_objective : -1.536e+03  validation_percent_right : 0.9166\n",
      "epoch: 18\n",
      "| epoch   # 18 :  train_objective : -1.795e+05    train_percent_right : 0.9332    validation_objective : -1.513e+03  validation_percent_right : 0.9159\n",
      "epoch: 19\n",
      "| epoch   # 19 :  train_objective : -1.773e+05    train_percent_right : 0.9344    validation_objective : -1.504e+03  validation_percent_right : 0.9202\n",
      "epoch: 20\n",
      "| epoch   # 20 :  train_objective : -1.742e+05    train_percent_right : 0.9361    validation_objective : -1.492e+03  validation_percent_right : 0.9207\n",
      "epoch: 21\n",
      "| epoch   # 21 :  train_objective : -1.719e+05    train_percent_right : 0.9371    validation_objective : -1.49e+03  validation_percent_right : 0.9209\n",
      "epoch: 22\n",
      "| epoch   # 22 :  train_objective : -1.707e+05    train_percent_right : 0.9378    validation_objective : -1.492e+03  validation_percent_right : 0.9195\n",
      "epoch: 23\n",
      "| epoch   # 23 :  train_objective : -1.676e+05    train_percent_right : 0.9387    validation_objective : -1.474e+03  validation_percent_right : 0.9212\n",
      "epoch: 24\n",
      "| epoch   # 24 :  train_objective : -1.662e+05    train_percent_right : 0.9394    validation_objective : -1.473e+03  validation_percent_right : 0.9222\n",
      "epoch: 25\n",
      "| epoch   # 25 :  train_objective : -1.645e+05    train_percent_right : 0.9405    validation_objective : -1.471e+03  validation_percent_right : 0.9217\n",
      "epoch: 26\n",
      "| epoch   # 26 :  train_objective : -1.627e+05    train_percent_right : 0.9413    validation_objective : -1.474e+03  validation_percent_right : 0.919\n",
      "epoch: 27\n",
      "| epoch   # 27 :  train_objective : -1.615e+05    train_percent_right : 0.9415    validation_objective : -1.451e+03  validation_percent_right : 0.9257\n",
      "epoch: 28\n",
      "| epoch   # 28 :  train_objective : -1.598e+05    train_percent_right : 0.9426    validation_objective : -1.455e+03  validation_percent_right : 0.9227\n",
      "epoch: 29\n",
      "| epoch   # 29 :  train_objective : -1.58e+05     train_percent_right : 0.9435    validation_objective : -1.452e+03  validation_percent_right : 0.925\n",
      "epoch: 30\n",
      "| epoch   # 30 :  train_objective : -1.565e+05    train_percent_right : 0.9445    validation_objective : -1.451e+03  validation_percent_right : 0.9248\n",
      "epoch: 31\n",
      "| epoch   # 31 :  train_objective : -1.556e+05    train_percent_right : 0.9446    validation_objective : -1.441e+03  validation_percent_right : 0.9242\n",
      "epoch: 32\n",
      "| epoch   # 32 :  train_objective : -1.542e+05    train_percent_right : 0.9452    validation_objective : -1.437e+03  validation_percent_right : 0.9267\n",
      "epoch: 33\n",
      "| epoch   # 33 :  train_objective : -1.533e+05    train_percent_right : 0.9456    validation_objective : -1.45e+03  validation_percent_right : 0.9263\n",
      "epoch: 34\n",
      "| epoch   # 34 :  train_objective : -1.525e+05    train_percent_right : 0.9459    validation_objective : -1.447e+03  validation_percent_right : 0.9268\n",
      "epoch: 35\n",
      "| epoch   # 35 :  train_objective : -1.514e+05    train_percent_right : 0.9467    validation_objective : -1.446e+03  validation_percent_right : 0.9248\n"
     ]
    },
    {
     "data": {
      "image/png": "[encoded data removed]",
      "text/plain": [
       "<Figure size 432x288 with 1 Axes>"
      ]
     },
     "metadata": {
      "needs_background": "light"
     },
     "output_type": "display_data"
    },
    {
     "name": "stderr",
     "output_type": "stream",
     "text": [
      "\r",
      "  0%|                                                                                         | 0/6040 [00:00<?, ?it/s]"
     ]
    },
    {
     "name": "stdout",
     "output_type": "stream",
     "text": [
      "{'h_len': 28, 'lr_xu': 0.061, 'lr_yi': 0.057, 'lr_bi': 0.097, 'l2_xu': 0.009, 'l2_yi': 0.008, 'l2_bi': 0.006}\n",
      "Creating negative samples\n"
     ]
    },
    {
     "name": "stderr",
     "output_type": "stream",
     "text": [
      "100%|██████████████████████████████████████████████████████████████████████████████| 6040/6040 [05:00<00:00, 20.13it/s]\n"
     ]
    },
    {
     "name": "stdout",
     "output_type": "stream",
     "text": [
      "epoch: 1\n",
      "| epoch   # 01 :  train_objective : -3.333e+05    train_percent_right : 0.8514    validation_objective : -2.067e+03  validation_percent_right : 0.8536\n",
      "epoch: 2\n",
      "| epoch   # 02 :  train_objective : -3.204e+05    train_percent_right : 0.8585    validation_objective : -2.053e+03  validation_percent_right : 0.8561\n",
      "epoch: 3\n",
      "| epoch   # 03 :  train_objective : -2.664e+05    train_percent_right : 0.8879    validation_objective : -1.859e+03  validation_percent_right : 0.8765\n",
      "epoch: 4\n",
      "| epoch   # 04 :  train_objective : -2.253e+05    train_percent_right : 0.9095    validation_objective : -1.7e+03  validation_percent_right : 0.8925\n",
      "epoch: 5\n",
      "| epoch   # 05 :  train_objective : -2.02e+05     train_percent_right : 0.9211    validation_objective : -1.603e+03  validation_percent_right : 0.904\n",
      "epoch: 6\n",
      "| epoch   # 06 :  train_objective : -1.868e+05    train_percent_right : 0.9283    validation_objective : -1.541e+03  validation_percent_right : 0.9113\n",
      "epoch: 7\n",
      "| epoch   # 07 :  train_objective : -1.761e+05    train_percent_right : 0.9334    validation_objective : -1.504e+03  validation_percent_right : 0.9169\n",
      "epoch: 8\n",
      "| epoch   # 08 :  train_objective : -1.687e+05    train_percent_right : 0.9368    validation_objective : -1.486e+03  validation_percent_right : 0.9202\n",
      "epoch: 9\n",
      "| epoch   # 09 :  train_objective : -1.625e+05    train_percent_right : 0.9401    validation_objective : -1.479e+03  validation_percent_right : 0.9219\n",
      "epoch: 10\n",
      "| epoch   # 10 :  train_objective : -1.561e+05    train_percent_right : 0.9434    validation_objective : -1.48e+03  validation_percent_right : 0.9235\n",
      "epoch: 11\n",
      "| epoch   # 11 :  train_objective : -1.512e+05    train_percent_right : 0.9459    validation_objective : -1.471e+03  validation_percent_right : 0.925\n",
      "epoch: 12\n",
      "| epoch   # 12 :  train_objective : -1.459e+05    train_percent_right : 0.9486    validation_objective : -1.476e+03  validation_percent_right : 0.925\n",
      "epoch: 13\n",
      "| epoch   # 13 :  train_objective : -1.412e+05    train_percent_right : 0.9511    validation_objective : -1.461e+03  validation_percent_right : 0.9253\n",
      "epoch: 14\n",
      "| epoch   # 14 :  train_objective : -1.388e+05    train_percent_right : 0.9523    validation_objective : -1.49e+03  validation_percent_right : 0.924\n",
      "epoch: 15\n",
      "| epoch   # 15 :  train_objective : -1.356e+05    train_percent_right : 0.9539    validation_objective : -1.476e+03  validation_percent_right : 0.9273\n",
      "epoch: 16\n",
      "| epoch   # 16 :  train_objective : -1.329e+05    train_percent_right : 0.9553    validation_objective : -1.478e+03  validation_percent_right : 0.9306\n",
      "epoch: 17\n",
      "| epoch   # 17 :  train_objective : -1.316e+05    train_percent_right : 0.9559    validation_objective : -1.484e+03  validation_percent_right : 0.9288\n",
      "epoch: 18\n",
      "| epoch   # 18 :  train_objective : -1.298e+05    train_percent_right : 0.9567    validation_objective : -1.489e+03  validation_percent_right : 0.9257\n",
      "epoch: 19\n",
      "| epoch   # 19 :  train_objective : -1.277e+05    train_percent_right : 0.9577    validation_objective : -1.492e+03  validation_percent_right : 0.9267\n",
      "epoch: 20\n",
      "| epoch   # 20 :  train_objective : -1.269e+05    train_percent_right : 0.9583    validation_objective : -1.484e+03  validation_percent_right : 0.9316\n",
      "epoch: 21\n",
      "| epoch   # 21 :  train_objective : -1.259e+05    train_percent_right : 0.9587    validation_objective : -1.493e+03  validation_percent_right : 0.9313\n",
      "epoch: 22\n",
      "| epoch   # 22 :  train_objective : -1.251e+05    train_percent_right : 0.9588    validation_objective : -1.504e+03  validation_percent_right : 0.9283\n",
      "epoch: 23\n",
      "| epoch   # 23 :  train_objective : -1.246e+05    train_percent_right : 0.9593    validation_objective : -1.495e+03  validation_percent_right : 0.9305\n",
      "epoch: 24\n",
      "| epoch   # 24 :  train_objective : -1.243e+05    train_percent_right : 0.9593    validation_objective : -1.501e+03  validation_percent_right : 0.9311\n",
      "epoch: 25\n",
      "| epoch   # 25 :  train_objective : -1.236e+05    train_percent_right : 0.9593    validation_objective : -1.505e+03  validation_percent_right : 0.932\n",
      "epoch: 26\n",
      "| epoch   # 26 :  train_objective : -1.227e+05    train_percent_right : 0.9598    validation_objective : -1.503e+03  validation_percent_right : 0.9336\n",
      "epoch: 27\n",
      "| epoch   # 27 :  train_objective : -1.232e+05    train_percent_right : 0.9598    validation_objective : -1.514e+03  validation_percent_right : 0.931\n",
      "epoch: 28\n",
      "| epoch   # 28 :  train_objective : -1.224e+05    train_percent_right : 0.96      validation_objective : -1.519e+03  validation_percent_right : 0.9331\n",
      "epoch: 29\n",
      "| epoch   # 29 :  train_objective : -1.22e+05     train_percent_right : 0.9603    validation_objective : -1.517e+03  validation_percent_right : 0.9298\n",
      "epoch: 30\n",
      "| epoch   # 30 :  train_objective : -1.219e+05    train_percent_right : 0.9601    validation_objective : -1.516e+03  validation_percent_right : 0.9298\n",
      "epoch: 31\n",
      "| epoch   # 31 :  train_objective : -1.222e+05    train_percent_right : 0.96      validation_objective : -1.534e+03  validation_percent_right : 0.9303\n",
      "epoch: 32\n",
      "| epoch   # 32 :  train_objective : -1.223e+05    train_percent_right : 0.9599    validation_objective : -1.523e+03  validation_percent_right : 0.9278\n",
      "epoch: 33\n",
      "| epoch   # 33 :  train_objective : -1.218e+05    train_percent_right : 0.9602    validation_objective : -1.511e+03  validation_percent_right : 0.9311\n",
      "epoch: 34\n",
      "| epoch   # 34 :  train_objective : -1.214e+05    train_percent_right : 0.9602    validation_objective : -1.522e+03  validation_percent_right : 0.9301\n",
      "epoch: 35\n",
      "| epoch   # 35 :  train_objective : -1.212e+05    train_percent_right : 0.9605    validation_objective : -1.534e+03  validation_percent_right : 0.9296\n"
     ]
    },
    {
     "data": {
      "image/png": "[encoded data removed]",
      "text/plain": [
       "<Figure size 432x288 with 1 Axes>"
      ]
     },
     "metadata": {
      "needs_background": "light"
     },
     "output_type": "display_data"
    },
    {
     "name": "stdout",
     "output_type": "stream",
     "text": [
      "{'h_len': 28, 'lr_xu': 0.097, 'lr_yi': 0.065, 'lr_bi': 0.035, 'l2_xu': 0.004, 'l2_yi': 0.002, 'l2_bi': 0.001}\n",
      "Creating negative samples\n"
     ]
    },
    {
     "name": "stderr",
     "output_type": "stream",
     "text": [
      "100%|██████████████████████████████████████████████████████████████████████████████| 6040/6040 [05:07<00:00, 19.64it/s]\n"
     ]
    },
    {
     "name": "stdout",
     "output_type": "stream",
     "text": [
      "epoch: 1\n",
      "| epoch   # 01 :  train_objective : -3.342e+05    train_percent_right : 0.8546    validation_objective : -2.026e+03  validation_percent_right : 0.856\n",
      "epoch: 2\n",
      "| epoch   # 02 :  train_objective : -2.523e+05    train_percent_right : 0.8953    validation_objective : -1.723e+03  validation_percent_right : 0.8823\n",
      "epoch: 3\n",
      "| epoch   # 03 :  train_objective : -2.006e+05    train_percent_right : 0.9196    validation_objective : -1.477e+03  validation_percent_right : 0.9053\n",
      "epoch: 4\n",
      "| epoch   # 04 :  train_objective : -1.721e+05    train_percent_right : 0.9324    validation_objective : -1.377e+03  validation_percent_right : 0.9136\n",
      "epoch: 5\n",
      "| epoch   # 05 :  train_objective : -1.53e+05     train_percent_right : 0.9406    validation_objective : -1.354e+03  validation_percent_right : 0.9159\n",
      "epoch: 6\n",
      "| epoch   # 06 :  train_objective : -1.382e+05    train_percent_right : 0.9476    validation_objective : -1.323e+03  validation_percent_right : 0.9195\n",
      "epoch: 7\n",
      "| epoch   # 07 :  train_objective : -1.284e+05    train_percent_right : 0.9518    validation_objective : -1.361e+03  validation_percent_right : 0.9217\n",
      "epoch: 8\n",
      "| epoch   # 08 :  train_objective : -1.222e+05    train_percent_right : 0.9541    validation_objective : -1.42e+03  validation_percent_right : 0.9227\n",
      "epoch: 9\n",
      "| epoch   # 09 :  train_objective : -1.214e+05    train_percent_right : 0.9544    validation_objective : -1.582e+03  validation_percent_right : 0.9139\n",
      "epoch: 10\n",
      "| epoch   # 10 :  train_objective : -1.26e+05     train_percent_right : 0.953     validation_objective : -1.671e+03  validation_percent_right : 0.9147\n",
      "epoch: 11\n",
      "| epoch   # 11 :  train_objective : -1.336e+05    train_percent_right : 0.951     validation_objective : -1.826e+03  validation_percent_right : 0.9139\n",
      "epoch: 12\n",
      "| epoch   # 12 :  train_objective : -1.49e+05     train_percent_right : 0.9477    validation_objective : -1.945e+03  validation_percent_right : 0.9118\n",
      "epoch: 13\n",
      "| epoch   # 13 :  train_objective : -1.795e+05    train_percent_right : 0.9432    validation_objective : -2.379e+03  validation_percent_right : 0.9041\n"
     ]
    },
    {
     "data": {
      "image/png": "[encoded data removed]",
      "text/plain": [
       "<Figure size 432x288 with 1 Axes>"
      ]
     },
     "metadata": {
      "needs_background": "light"
     },
     "output_type": "display_data"
    },
    {
     "data": {
      "image/png": "[encoded data removed]",
      "text/plain": [
       "<Figure size 432x288 with 1 Axes>"
      ]
     },
     "metadata": {
      "needs_background": "light"
     },
     "output_type": "display_data"
    }
   ],
   "source": [
    "# create validation set\n",
    "validation_creator = ValidationCreator(CONFIG.validation_creator_sampler_type)\n",
    "train, validation = validation_creator.get(train.copy())\n",
    "# add attributes to config\n",
    "CONFIG.add_attributes(n_users=len(user_map), n_items=len(item_map))\n",
    "# create matrix factorization object\n",
    "mf = BPRMatrixFactorizationWithBiasesSGD(CONFIG)\n",
    "# run the model\n",
    "run_exp(mf, train.copy(), user_map, item_map, validation)"
   ]
  },
  {
   "cell_type": "markdown",
   "metadata": {},
   "source": [
    "<b> show the results of tuning"
   ]
  },
  {
   "cell_type": "code",
   "execution_count": 17,
   "metadata": {
    "scrolled": true
   },
   "outputs": [
    {
     "data": {
      "text/html": [
       "<style  type=\"text/css\" >\n",
       "#T_ca2d594d_622c_11ec_a235_9c305b6fce10row0_col7{\n",
       "            width:  10em;\n",
       "             height:  80%;\n",
       "            background:  linear-gradient(90deg,#86BDEE 100.0%, transparent 100.0%);\n",
       "        }#T_ca2d594d_622c_11ec_a235_9c305b6fce10row1_col7,#T_ca2d594d_622c_11ec_a235_9c305b6fce10row2_col7{\n",
       "            width:  10em;\n",
       "             height:  80%;\n",
       "            background:  linear-gradient(90deg,#86BDEE 99.9%, transparent 99.9%);\n",
       "        }#T_ca2d594d_622c_11ec_a235_9c305b6fce10row3_col7{\n",
       "            width:  10em;\n",
       "             height:  80%;\n",
       "            background:  linear-gradient(90deg,#86BDEE 99.7%, transparent 99.7%);\n",
       "        }#T_ca2d594d_622c_11ec_a235_9c305b6fce10row4_col7{\n",
       "            width:  10em;\n",
       "             height:  80%;\n",
       "            background:  linear-gradient(90deg,#86BDEE 99.5%, transparent 99.5%);\n",
       "        }#T_ca2d594d_622c_11ec_a235_9c305b6fce10row5_col7{\n",
       "            width:  10em;\n",
       "             height:  80%;\n",
       "            background:  linear-gradient(90deg,#86BDEE 99.4%, transparent 99.4%);\n",
       "        }#T_ca2d594d_622c_11ec_a235_9c305b6fce10row6_col7{\n",
       "            width:  10em;\n",
       "             height:  80%;\n",
       "            background:  linear-gradient(90deg,#86BDEE 99.2%, transparent 99.2%);\n",
       "        }#T_ca2d594d_622c_11ec_a235_9c305b6fce10row7_col7{\n",
       "            width:  10em;\n",
       "             height:  80%;\n",
       "            background:  linear-gradient(90deg,#86BDEE 98.0%, transparent 98.0%);\n",
       "        }#T_ca2d594d_622c_11ec_a235_9c305b6fce10row8_col7{\n",
       "            width:  10em;\n",
       "             height:  80%;\n",
       "            background:  linear-gradient(90deg,#86BDEE 97.5%, transparent 97.5%);\n",
       "        }#T_ca2d594d_622c_11ec_a235_9c305b6fce10row9_col7{\n",
       "            width:  10em;\n",
       "             height:  80%;\n",
       "            background:  linear-gradient(90deg,#86BDEE 97.1%, transparent 97.1%);\n",
       "        }</style><table id=\"T_ca2d594d_622c_11ec_a235_9c305b6fce10\" ><thead>    <tr>        <th class=\"blank level0\" ></th>        <th class=\"col_heading level0 col0\" >lr_xu</th>        <th class=\"col_heading level0 col1\" >lr_yi</th>        <th class=\"col_heading level0 col2\" >lr_bi</th>        <th class=\"col_heading level0 col3\" >lambda_xu</th>        <th class=\"col_heading level0 col4\" >lambda_yi</th>        <th class=\"col_heading level0 col5\" >lambda_bi</th>        <th class=\"col_heading level0 col6\" >hidden_dimension_size</th>        <th class=\"col_heading level0 col7\" >result</th>    </tr></thead><tbody>\n",
       "                <tr>\n",
       "                        <th id=\"T_ca2d594d_622c_11ec_a235_9c305b6fce10level0_row0\" class=\"row_heading level0 row0\" >0</th>\n",
       "                        <td id=\"T_ca2d594d_622c_11ec_a235_9c305b6fce10row0_col0\" class=\"data row0 col0\" >0.081689</td>\n",
       "                        <td id=\"T_ca2d594d_622c_11ec_a235_9c305b6fce10row0_col1\" class=\"data row0 col1\" >0.026509</td>\n",
       "                        <td id=\"T_ca2d594d_622c_11ec_a235_9c305b6fce10row0_col2\" class=\"data row0 col2\" >0.080172</td>\n",
       "                        <td id=\"T_ca2d594d_622c_11ec_a235_9c305b6fce10row0_col3\" class=\"data row0 col3\" >0.006372</td>\n",
       "                        <td id=\"T_ca2d594d_622c_11ec_a235_9c305b6fce10row0_col4\" class=\"data row0 col4\" >0.005012</td>\n",
       "                        <td id=\"T_ca2d594d_622c_11ec_a235_9c305b6fce10row0_col5\" class=\"data row0 col5\" >0.001900</td>\n",
       "                        <td id=\"T_ca2d594d_622c_11ec_a235_9c305b6fce10row0_col6\" class=\"data row0 col6\" >28</td>\n",
       "                        <td id=\"T_ca2d594d_622c_11ec_a235_9c305b6fce10row0_col7\" class=\"data row0 col7\" >0.932616</td>\n",
       "            </tr>\n",
       "            <tr>\n",
       "                        <th id=\"T_ca2d594d_622c_11ec_a235_9c305b6fce10level0_row1\" class=\"row_heading level0 row1\" >5</th>\n",
       "                        <td id=\"T_ca2d594d_622c_11ec_a235_9c305b6fce10row1_col0\" class=\"data row1 col0\" >0.044687</td>\n",
       "                        <td id=\"T_ca2d594d_622c_11ec_a235_9c305b6fce10row1_col1\" class=\"data row1 col1\" >0.011437</td>\n",
       "                        <td id=\"T_ca2d594d_622c_11ec_a235_9c305b6fce10row1_col2\" class=\"data row1 col2\" >0.030780</td>\n",
       "                        <td id=\"T_ca2d594d_622c_11ec_a235_9c305b6fce10row1_col3\" class=\"data row1 col3\" >0.003169</td>\n",
       "                        <td id=\"T_ca2d594d_622c_11ec_a235_9c305b6fce10row1_col4\" class=\"data row1 col4\" >0.007149</td>\n",
       "                        <td id=\"T_ca2d594d_622c_11ec_a235_9c305b6fce10row1_col5\" class=\"data row1 col5\" >0.006490</td>\n",
       "                        <td id=\"T_ca2d594d_622c_11ec_a235_9c305b6fce10row1_col6\" class=\"data row1 col6\" >32</td>\n",
       "                        <td id=\"T_ca2d594d_622c_11ec_a235_9c305b6fce10row1_col7\" class=\"data row1 col7\" >0.931623</td>\n",
       "            </tr>\n",
       "            <tr>\n",
       "                        <th id=\"T_ca2d594d_622c_11ec_a235_9c305b6fce10level0_row2\" class=\"row_heading level0 row2\" >6</th>\n",
       "                        <td id=\"T_ca2d594d_622c_11ec_a235_9c305b6fce10row2_col0\" class=\"data row2 col0\" >0.025603</td>\n",
       "                        <td id=\"T_ca2d594d_622c_11ec_a235_9c305b6fce10row2_col1\" class=\"data row2 col1\" >0.045195</td>\n",
       "                        <td id=\"T_ca2d594d_622c_11ec_a235_9c305b6fce10row2_col2\" class=\"data row2 col2\" >0.026401</td>\n",
       "                        <td id=\"T_ca2d594d_622c_11ec_a235_9c305b6fce10row2_col3\" class=\"data row2 col3\" >0.007798</td>\n",
       "                        <td id=\"T_ca2d594d_622c_11ec_a235_9c305b6fce10row2_col4\" class=\"data row2 col4\" >0.004826</td>\n",
       "                        <td id=\"T_ca2d594d_622c_11ec_a235_9c305b6fce10row2_col5\" class=\"data row2 col5\" >0.002871</td>\n",
       "                        <td id=\"T_ca2d594d_622c_11ec_a235_9c305b6fce10row2_col6\" class=\"data row2 col6\" >28</td>\n",
       "                        <td id=\"T_ca2d594d_622c_11ec_a235_9c305b6fce10row2_col7\" class=\"data row2 col7\" >0.931457</td>\n",
       "            </tr>\n",
       "            <tr>\n",
       "                        <th id=\"T_ca2d594d_622c_11ec_a235_9c305b6fce10level0_row3\" class=\"row_heading level0 row3\" >8</th>\n",
       "                        <td id=\"T_ca2d594d_622c_11ec_a235_9c305b6fce10row3_col0\" class=\"data row3 col0\" >0.061340</td>\n",
       "                        <td id=\"T_ca2d594d_622c_11ec_a235_9c305b6fce10row3_col1\" class=\"data row3 col1\" >0.056875</td>\n",
       "                        <td id=\"T_ca2d594d_622c_11ec_a235_9c305b6fce10row3_col2\" class=\"data row3 col2\" >0.096505</td>\n",
       "                        <td id=\"T_ca2d594d_622c_11ec_a235_9c305b6fce10row3_col3\" class=\"data row3 col3\" >0.008601</td>\n",
       "                        <td id=\"T_ca2d594d_622c_11ec_a235_9c305b6fce10row3_col4\" class=\"data row3 col4\" >0.007726</td>\n",
       "                        <td id=\"T_ca2d594d_622c_11ec_a235_9c305b6fce10row3_col5\" class=\"data row3 col5\" >0.005857</td>\n",
       "                        <td id=\"T_ca2d594d_622c_11ec_a235_9c305b6fce10row3_col6\" class=\"data row3 col6\" >28</td>\n",
       "                        <td id=\"T_ca2d594d_622c_11ec_a235_9c305b6fce10row3_col7\" class=\"data row3 col7\" >0.929636</td>\n",
       "            </tr>\n",
       "            <tr>\n",
       "                        <th id=\"T_ca2d594d_622c_11ec_a235_9c305b6fce10level0_row4\" class=\"row_heading level0 row4\" >3</th>\n",
       "                        <td id=\"T_ca2d594d_622c_11ec_a235_9c305b6fce10row4_col0\" class=\"data row4 col0\" >0.014200</td>\n",
       "                        <td id=\"T_ca2d594d_622c_11ec_a235_9c305b6fce10row4_col1\" class=\"data row4 col1\" >0.097638</td>\n",
       "                        <td id=\"T_ca2d594d_622c_11ec_a235_9c305b6fce10row4_col2\" class=\"data row4 col2\" >0.030949</td>\n",
       "                        <td id=\"T_ca2d594d_622c_11ec_a235_9c305b6fce10row4_col3\" class=\"data row4 col3\" >0.001815</td>\n",
       "                        <td id=\"T_ca2d594d_622c_11ec_a235_9c305b6fce10row4_col4\" class=\"data row4 col4\" >0.006565</td>\n",
       "                        <td id=\"T_ca2d594d_622c_11ec_a235_9c305b6fce10row4_col5\" class=\"data row4 col5\" >0.004442</td>\n",
       "                        <td id=\"T_ca2d594d_622c_11ec_a235_9c305b6fce10row4_col6\" class=\"data row4 col6\" >36</td>\n",
       "                        <td id=\"T_ca2d594d_622c_11ec_a235_9c305b6fce10row4_col7\" class=\"data row4 col7\" >0.927649</td>\n",
       "            </tr>\n",
       "            <tr>\n",
       "                        <th id=\"T_ca2d594d_622c_11ec_a235_9c305b6fce10level0_row5\" class=\"row_heading level0 row5\" >1</th>\n",
       "                        <td id=\"T_ca2d594d_622c_11ec_a235_9c305b6fce10row5_col0\" class=\"data row5 col0\" >0.040034</td>\n",
       "                        <td id=\"T_ca2d594d_622c_11ec_a235_9c305b6fce10row5_col1\" class=\"data row5 col1\" >0.022858</td>\n",
       "                        <td id=\"T_ca2d594d_622c_11ec_a235_9c305b6fce10row5_col2\" class=\"data row5 col2\" >0.068580</td>\n",
       "                        <td id=\"T_ca2d594d_622c_11ec_a235_9c305b6fce10row5_col3\" class=\"data row5 col3\" >0.001508</td>\n",
       "                        <td id=\"T_ca2d594d_622c_11ec_a235_9c305b6fce10row5_col4\" class=\"data row5 col4\" >0.007498</td>\n",
       "                        <td id=\"T_ca2d594d_622c_11ec_a235_9c305b6fce10row5_col5\" class=\"data row5 col5\" >0.009447</td>\n",
       "                        <td id=\"T_ca2d594d_622c_11ec_a235_9c305b6fce10row5_col6\" class=\"data row5 col6\" >20</td>\n",
       "                        <td id=\"T_ca2d594d_622c_11ec_a235_9c305b6fce10row5_col7\" class=\"data row5 col7\" >0.926821</td>\n",
       "            </tr>\n",
       "            <tr>\n",
       "                        <th id=\"T_ca2d594d_622c_11ec_a235_9c305b6fce10level0_row6\" class=\"row_heading level0 row6\" >7</th>\n",
       "                        <td id=\"T_ca2d594d_622c_11ec_a235_9c305b6fce10row6_col0\" class=\"data row6 col0\" >0.012818</td>\n",
       "                        <td id=\"T_ca2d594d_622c_11ec_a235_9c305b6fce10row6_col1\" class=\"data row6 col1\" >0.085806</td>\n",
       "                        <td id=\"T_ca2d594d_622c_11ec_a235_9c305b6fce10row6_col2\" class=\"data row6 col2\" >0.050478</td>\n",
       "                        <td id=\"T_ca2d594d_622c_11ec_a235_9c305b6fce10row6_col3\" class=\"data row6 col3\" >0.004556</td>\n",
       "                        <td id=\"T_ca2d594d_622c_11ec_a235_9c305b6fce10row6_col4\" class=\"data row6 col4\" >0.009340</td>\n",
       "                        <td id=\"T_ca2d594d_622c_11ec_a235_9c305b6fce10row6_col5\" class=\"data row6 col5\" >0.007545</td>\n",
       "                        <td id=\"T_ca2d594d_622c_11ec_a235_9c305b6fce10row6_col6\" class=\"data row6 col6\" >24</td>\n",
       "                        <td id=\"T_ca2d594d_622c_11ec_a235_9c305b6fce10row6_col7\" class=\"data row6 col7\" >0.924834</td>\n",
       "            </tr>\n",
       "            <tr>\n",
       "                        <th id=\"T_ca2d594d_622c_11ec_a235_9c305b6fce10level0_row7\" class=\"row_heading level0 row7\" >9</th>\n",
       "                        <td id=\"T_ca2d594d_622c_11ec_a235_9c305b6fce10row7_col0\" class=\"data row7 col0\" >0.096873</td>\n",
       "                        <td id=\"T_ca2d594d_622c_11ec_a235_9c305b6fce10row7_col1\" class=\"data row7 col1\" >0.064633</td>\n",
       "                        <td id=\"T_ca2d594d_622c_11ec_a235_9c305b6fce10row7_col2\" class=\"data row7 col2\" >0.034840</td>\n",
       "                        <td id=\"T_ca2d594d_622c_11ec_a235_9c305b6fce10row7_col3\" class=\"data row7 col3\" >0.003666</td>\n",
       "                        <td id=\"T_ca2d594d_622c_11ec_a235_9c305b6fce10row7_col4\" class=\"data row7 col4\" >0.002487</td>\n",
       "                        <td id=\"T_ca2d594d_622c_11ec_a235_9c305b6fce10row7_col5\" class=\"data row7 col5\" >0.001141</td>\n",
       "                        <td id=\"T_ca2d594d_622c_11ec_a235_9c305b6fce10row7_col6\" class=\"data row7 col6\" >28</td>\n",
       "                        <td id=\"T_ca2d594d_622c_11ec_a235_9c305b6fce10row7_col7\" class=\"data row7 col7\" >0.913907</td>\n",
       "            </tr>\n",
       "            <tr>\n",
       "                        <th id=\"T_ca2d594d_622c_11ec_a235_9c305b6fce10level0_row8\" class=\"row_heading level0 row8\" >4</th>\n",
       "                        <td id=\"T_ca2d594d_622c_11ec_a235_9c305b6fce10row8_col0\" class=\"data row8 col0\" >0.052009</td>\n",
       "                        <td id=\"T_ca2d594d_622c_11ec_a235_9c305b6fce10row8_col1\" class=\"data row8 col1\" >0.087395</td>\n",
       "                        <td id=\"T_ca2d594d_622c_11ec_a235_9c305b6fce10row8_col2\" class=\"data row8 col2\" >0.071228</td>\n",
       "                        <td id=\"T_ca2d594d_622c_11ec_a235_9c305b6fce10row8_col3\" class=\"data row8 col3\" >0.005054</td>\n",
       "                        <td id=\"T_ca2d594d_622c_11ec_a235_9c305b6fce10row8_col4\" class=\"data row8 col4\" >0.001119</td>\n",
       "                        <td id=\"T_ca2d594d_622c_11ec_a235_9c305b6fce10row8_col5\" class=\"data row8 col5\" >0.009480</td>\n",
       "                        <td id=\"T_ca2d594d_622c_11ec_a235_9c305b6fce10row8_col6\" class=\"data row8 col6\" >28</td>\n",
       "                        <td id=\"T_ca2d594d_622c_11ec_a235_9c305b6fce10row8_col7\" class=\"data row8 col7\" >0.909272</td>\n",
       "            </tr>\n",
       "            <tr>\n",
       "                        <th id=\"T_ca2d594d_622c_11ec_a235_9c305b6fce10level0_row9\" class=\"row_heading level0 row9\" >2</th>\n",
       "                        <td id=\"T_ca2d594d_622c_11ec_a235_9c305b6fce10row9_col0\" class=\"data row9 col0\" >0.099299</td>\n",
       "                        <td id=\"T_ca2d594d_622c_11ec_a235_9c305b6fce10row9_col1\" class=\"data row9 col1\" >0.065573</td>\n",
       "                        <td id=\"T_ca2d594d_622c_11ec_a235_9c305b6fce10row9_col2\" class=\"data row9 col2\" >0.065049</td>\n",
       "                        <td id=\"T_ca2d594d_622c_11ec_a235_9c305b6fce10row9_col3\" class=\"data row9 col3\" >0.001064</td>\n",
       "                        <td id=\"T_ca2d594d_622c_11ec_a235_9c305b6fce10row9_col4\" class=\"data row9 col4\" >0.001208</td>\n",
       "                        <td id=\"T_ca2d594d_622c_11ec_a235_9c305b6fce10row9_col5\" class=\"data row9 col5\" >0.005723</td>\n",
       "                        <td id=\"T_ca2d594d_622c_11ec_a235_9c305b6fce10row9_col6\" class=\"data row9 col6\" >28</td>\n",
       "                        <td id=\"T_ca2d594d_622c_11ec_a235_9c305b6fce10row9_col7\" class=\"data row9 col7\" >0.905132</td>\n",
       "            </tr>\n",
       "    </tbody></table>"
      ],
      "text/plain": [
       "<pandas.io.formats.style.Styler at 0x1a5477c2250>"
      ]
     },
     "execution_count": 17,
     "metadata": {},
     "output_type": "execute_result"
    }
   ],
   "source": [
    "# load the pickl file for the parameters from the tuning\n",
    "res = skopt.load(r\"checkpoint_uniform.pkl\")\n",
    "# conevrt the result to df\n",
    "sgd_results = pd.DataFrame(res.x_iters, columns = ['lr_xu', 'lr_yi','lr_bi','lambda_xu','lambda_yi','lambda_bi','hidden_dimension_size'])\n",
    "# put the result column with the correct values\n",
    "sgd_results['result'] = res.func_vals \n",
    "# sort the result by the score from the largest to the smallest\n",
    "sgd_results = sgd_results.sort_values(by = 'result', ascending= False)\n",
    "# display the results\n",
    "sgd_results.style.bar(subset=['result'], align='mid', color=['#86BDEE'])"
   ]
  },
  {
   "cell_type": "markdown",
   "metadata": {},
   "source": [
    "<b> define the BPR config by the best parameters with uniform method"
   ]
  },
  {
   "cell_type": "code",
   "execution_count": 18,
   "metadata": {},
   "outputs": [],
   "source": [
    "BPR_CONFIG_uniform = Config(\n",
    "    print_metrics=True,\n",
    "    hidden_dimension=28,\n",
    "    lr_xu=0.081689,\n",
    "    lr_yi=0.026509,\n",
    "    lr_bi=0.080172,\n",
    "    l2_xu=0.006372,\n",
    "    l2_yi=0.005012,\n",
    "    l2_bi=0.001900,\n",
    "    epochs=31,\n",
    "    seed=SEED,\n",
    "    negative_sampler_type=NEGATIVE_SAMPLER_TYPE,\n",
    "    validation_creator_sampler_type=VALIDATION_CREATOR_SAMPLER_TYPE)"
   ]
  },
  {
   "cell_type": "markdown",
   "metadata": {},
   "source": [
    "<b> caculate MPR and HIT RATIO at k on validation set"
   ]
  },
  {
   "cell_type": "code",
   "execution_count": 19,
   "metadata": {},
   "outputs": [],
   "source": [
    "# HYPER_PARAM_SEARCH or manual config- set to TRUE to search the best parameters\n",
    "HYPER_PARAM_SEARCH = False\n",
    "\n",
    "# Save and load\n",
    "MF_SAVE_TRAIN_VALIDATION = False  \n",
    "MF_LOAD_TRAIN_VALIDATION = True\n",
    "LOAD_NEGATIVE = True\n",
    "\n",
    "CONFIG = BPR_CONFIG_uniform\n",
    "\n",
    "@skopt.utils.use_named_args(space)\n",
    "def objective(**params):\n",
    "    mf.set_params(**params)\n",
    "    print({i: np.round(v, 3) for i, v in mf.__dict__.items() if i in params.keys()})\n",
    "    return mf.fit(train.copy(), user_map, item_map, validation.copy())"
   ]
  },
  {
   "cell_type": "code",
   "execution_count": 20,
   "metadata": {
    "scrolled": true
   },
   "outputs": [
    {
     "name": "stdout",
     "output_type": "stream",
     "text": [
      "epoch: 1\n",
      "| epoch   # 01 :  train_objective : -3.314e+05    train_percent_right : 0.8514    validation_objective : -2.023e+03  validation_percent_right : 0.8553\n",
      "epoch: 2\n",
      "| epoch   # 02 :  train_objective : -3.283e+05    train_percent_right : 0.852     validation_objective : -2.019e+03  validation_percent_right : 0.8528\n",
      "epoch: 3\n",
      "| epoch   # 03 :  train_objective : -2.996e+05    train_percent_right : 0.869     validation_objective : -1.943e+03  validation_percent_right : 0.8599\n",
      "epoch: 4\n",
      "| epoch   # 04 :  train_objective : -2.542e+05    train_percent_right : 0.8929    validation_objective : -1.762e+03  validation_percent_right : 0.8791\n",
      "epoch: 5\n",
      "| epoch   # 05 :  train_objective : -2.233e+05    train_percent_right : 0.9084    validation_objective : -1.627e+03  validation_percent_right : 0.895\n",
      "epoch: 6\n",
      "| epoch   # 06 :  train_objective : -2.022e+05    train_percent_right : 0.9186    validation_objective : -1.528e+03  validation_percent_right : 0.9026\n",
      "epoch: 7\n",
      "| epoch   # 07 :  train_objective : -1.889e+05    train_percent_right : 0.9246    validation_objective : -1.473e+03  validation_percent_right : 0.9106\n",
      "epoch: 8\n",
      "| epoch   # 08 :  train_objective : -1.778e+05    train_percent_right : 0.9295    validation_objective : -1.44e+03  validation_percent_right : 0.9131\n",
      "epoch: 9\n",
      "| epoch   # 09 :  train_objective : -1.684e+05    train_percent_right : 0.9343    validation_objective : -1.421e+03  validation_percent_right : 0.9167\n",
      "epoch: 10\n",
      "| epoch   # 10 :  train_objective : -1.611e+05    train_percent_right : 0.9375    validation_objective : -1.402e+03  validation_percent_right : 0.9171\n",
      "epoch: 11\n",
      "| epoch   # 11 :  train_objective : -1.54e+05     train_percent_right : 0.9413    validation_objective : -1.385e+03  validation_percent_right : 0.9202\n",
      "epoch: 12\n",
      "| epoch   # 12 :  train_objective : -1.481e+05    train_percent_right : 0.9438    validation_objective : -1.381e+03  validation_percent_right : 0.924\n",
      "epoch: 13\n",
      "| epoch   # 13 :  train_objective : -1.424e+05    train_percent_right : 0.9464    validation_objective : -1.38e+03  validation_percent_right : 0.9233\n",
      "epoch: 14\n",
      "| epoch   # 14 :  train_objective : -1.384e+05    train_percent_right : 0.9487    validation_objective : -1.367e+03  validation_percent_right : 0.9276\n",
      "epoch: 15\n",
      "| epoch   # 15 :  train_objective : -1.338e+05    train_percent_right : 0.9508    validation_objective : -1.384e+03  validation_percent_right : 0.9275\n",
      "epoch: 16\n",
      "| epoch   # 16 :  train_objective : -1.3e+05      train_percent_right : 0.9525    validation_objective : -1.379e+03  validation_percent_right : 0.9263\n",
      "epoch: 17\n",
      "| epoch   # 17 :  train_objective : -1.27e+05     train_percent_right : 0.9541    validation_objective : -1.368e+03  validation_percent_right : 0.929\n",
      "epoch: 18\n",
      "| epoch   # 18 :  train_objective : -1.246e+05    train_percent_right : 0.9551    validation_objective : -1.364e+03  validation_percent_right : 0.9291\n",
      "epoch: 19\n",
      "| epoch   # 19 :  train_objective : -1.224e+05    train_percent_right : 0.9563    validation_objective : -1.392e+03  validation_percent_right : 0.9263\n",
      "epoch: 20\n",
      "| epoch   # 20 :  train_objective : -1.197e+05    train_percent_right : 0.9576    validation_objective : -1.392e+03  validation_percent_right : 0.9286\n",
      "epoch: 21\n",
      "| epoch   # 21 :  train_objective : -1.184e+05    train_percent_right : 0.9582    validation_objective : -1.386e+03  validation_percent_right : 0.93\n",
      "epoch: 22\n",
      "| epoch   # 22 :  train_objective : -1.164e+05    train_percent_right : 0.9591    validation_objective : -1.402e+03  validation_percent_right : 0.932\n",
      "epoch: 23\n",
      "| epoch   # 23 :  train_objective : -1.151e+05    train_percent_right : 0.9597    validation_objective : -1.404e+03  validation_percent_right : 0.9328\n",
      "epoch: 24\n",
      "| epoch   # 24 :  train_objective : -1.142e+05    train_percent_right : 0.9599    validation_objective : -1.384e+03  validation_percent_right : 0.9344\n",
      "epoch: 25\n",
      "| epoch   # 25 :  train_objective : -1.138e+05    train_percent_right : 0.9601    validation_objective : -1.401e+03  validation_percent_right : 0.9318\n",
      "epoch: 26\n",
      "| epoch   # 26 :  train_objective : -1.128e+05    train_percent_right : 0.9606    validation_objective : -1.422e+03  validation_percent_right : 0.9316\n",
      "epoch: 27\n",
      "| epoch   # 27 :  train_objective : -1.119e+05    train_percent_right : 0.9611    validation_objective : -1.434e+03  validation_percent_right : 0.9311\n",
      "{'precision_at_1_all_items': 0.0051324503311258275, 'precision_at_1_items_user_did_not_rank': 0.027980132450331124, 'precision_at_10_all_items': 0.06821192052980132, 'precision_at_10_items_user_did_not_rank': 0.16837748344370862, 'precision_at_50_all_items': 0.25645695364238413, 'precision_at_50_items_user_did_not_rank': 0.41241721854304636, 'mpr_all_items': 0.08779374569893916}\n"
     ]
    }
   ],
   "source": [
    "# read the train data ans get the user and item map\n",
    "train = pd.read_csv(TRAIN_PATH)\n",
    "train_2, user_map, item_map = preprocess_for_mf(train.copy())\n",
    "# create validation set\n",
    "validation_creator = ValidationCreator(CONFIG.validation_creator_sampler_type)\n",
    "# read the train and validation (we created before)\n",
    "train_2, validation_2 = validation_creator.get(train_2.copy())\n",
    "# add attributes to config\n",
    "CONFIG.add_attributes(n_users=len(user_map), n_items=len(item_map))\n",
    "# create matrix factorization object\n",
    "mf = BPRMatrixFactorizationWithBiasesSGD(CONFIG)\n",
    "# run the model\n",
    "run_exp(mf, train_2.copy(), user_map, item_map, validation_2)"
   ]
  },
  {
   "cell_type": "markdown",
   "metadata": {},
   "source": [
    "<b> Run the final models with uniform </b> <br>\n",
    "run with the best parameters we got from the tuning"
   ]
  },
  {
   "cell_type": "code",
   "execution_count": 26,
   "metadata": {
    "scrolled": true
   },
   "outputs": [
    {
     "name": "stderr",
     "output_type": "stream",
     "text": [
      "\r",
      "  0%|                                                                                         | 0/6040 [00:00<?, ?it/s]"
     ]
    },
    {
     "name": "stdout",
     "output_type": "stream",
     "text": [
      "Creating negative samples\n"
     ]
    },
    {
     "name": "stderr",
     "output_type": "stream",
     "text": [
      "100%|██████████████████████████████████████████████████████████████████████████████| 6040/6040 [05:45<00:00, 17.50it/s]\n"
     ]
    },
    {
     "name": "stdout",
     "output_type": "stream",
     "text": [
      "epoch: 1\n",
      "| epoch   # 01 :  train_objective : -3.334e+05    train_percent_right : 0.8515  \n",
      "epoch: 2\n",
      "| epoch   # 02 :  train_objective : -3.289e+05    train_percent_right : 0.8531  \n",
      "epoch: 3\n",
      "| epoch   # 03 :  train_objective : -2.966e+05    train_percent_right : 0.8713  \n",
      "epoch: 4\n",
      "| epoch   # 04 :  train_objective : -2.533e+05    train_percent_right : 0.8944  \n",
      "epoch: 5\n",
      "| epoch   # 05 :  train_objective : -2.219e+05    train_percent_right : 0.9097  \n",
      "epoch: 6\n",
      "| epoch   # 06 :  train_objective : -2.03e+05     train_percent_right : 0.9186  \n",
      "epoch: 7\n",
      "| epoch   # 07 :  train_objective : -1.88e+05     train_percent_right : 0.9258  \n",
      "epoch: 8\n",
      "| epoch   # 08 :  train_objective : -1.773e+05    train_percent_right : 0.9305  \n",
      "epoch: 9\n",
      "| epoch   # 09 :  train_objective : -1.686e+05    train_percent_right : 0.9343  \n",
      "epoch: 10\n",
      "| epoch   # 10 :  train_objective : -1.62e+05     train_percent_right : 0.9378  \n",
      "epoch: 11\n",
      "| epoch   # 11 :  train_objective : -1.56e+05     train_percent_right : 0.9405  \n",
      "epoch: 12\n",
      "| epoch   # 12 :  train_objective : -1.503e+05    train_percent_right : 0.9431  \n",
      "epoch: 13\n",
      "| epoch   # 13 :  train_objective : -1.447e+05    train_percent_right : 0.9457  \n",
      "epoch: 14\n",
      "| epoch   # 14 :  train_objective : -1.405e+05    train_percent_right : 0.9481  \n",
      "epoch: 15\n",
      "| epoch   # 15 :  train_objective : -1.364e+05    train_percent_right : 0.95    \n",
      "epoch: 16\n",
      "| epoch   # 16 :  train_objective : -1.323e+05    train_percent_right : 0.9518  \n",
      "epoch: 17\n",
      "| epoch   # 17 :  train_objective : -1.289e+05    train_percent_right : 0.9533  \n",
      "epoch: 18\n",
      "| epoch   # 18 :  train_objective : -1.259e+05    train_percent_right : 0.955   \n",
      "epoch: 19\n",
      "| epoch   # 19 :  train_objective : -1.234e+05    train_percent_right : 0.956   \n",
      "epoch: 20\n",
      "| epoch   # 20 :  train_objective : -1.209e+05    train_percent_right : 0.9575  \n",
      "epoch: 21\n",
      "| epoch   # 21 :  train_objective : -1.194e+05    train_percent_right : 0.958   \n",
      "epoch: 22\n",
      "| epoch   # 22 :  train_objective : -1.173e+05    train_percent_right : 0.9592  \n",
      "epoch: 23\n",
      "| epoch   # 23 :  train_objective : -1.154e+05    train_percent_right : 0.9598  \n",
      "epoch: 24\n",
      "| epoch   # 24 :  train_objective : -1.15e+05     train_percent_right : 0.9599  \n",
      "epoch: 25\n",
      "| epoch   # 25 :  train_objective : -1.144e+05    train_percent_right : 0.9603  \n",
      "epoch: 26\n",
      "| epoch   # 26 :  train_objective : -1.135e+05    train_percent_right : 0.9606  \n",
      "epoch: 27\n",
      "| epoch   # 27 :  train_objective : -1.124e+05    train_percent_right : 0.9611  \n",
      "epoch: 28\n",
      "| epoch   # 28 :  train_objective : -1.122e+05    train_percent_right : 0.9612  \n",
      "epoch: 29\n",
      "| epoch   # 29 :  train_objective : -1.119e+05    train_percent_right : 0.9609  \n",
      "epoch: 30\n",
      "| epoch   # 30 :  train_objective : -1.108e+05    train_percent_right : 0.9618  \n",
      "epoch: 31\n",
      "| epoch   # 31 :  train_objective : -1.115e+05    train_percent_right : 0.9614  \n",
      "item2 exist in test but not in train\n",
      "item1 exist in test but not in train\n"
     ]
    }
   ],
   "source": [
    "LOAD_NEGATIVE = False\n",
    "# Final Run on all of the train data\n",
    "# read the train data ans get the user and item map\n",
    "train = pd.read_csv(TRAIN_PATH)\n",
    "train_3, user_map, item_map = preprocess_for_mf(train.copy())\n",
    "# define the config\n",
    "config = CONFIG\n",
    "# create matrix factorization object\n",
    "mf = BPRMatrixFactorizationWithBiasesSGD(CONFIG)\n",
    "# fit the data\n",
    "mf.fit(train_3, user_map, item_map)\n",
    "# predict for test\n",
    "mf.predict_on_test_set()"
   ]
  },
  {
   "cell_type": "markdown",
   "metadata": {},
   "source": [
    "-------\n",
    "## Implement BPR tuning with popularity method"
   ]
  },
  {
   "cell_type": "markdown",
   "metadata": {},
   "source": [
    "<b> define parameters for this running and for the tuning"
   ]
  },
  {
   "cell_type": "code",
   "execution_count": 33,
   "metadata": {},
   "outputs": [],
   "source": [
    "# define method\n",
    "NEGATIVE_SAMPLER_TYPE = 'popularity'             #  'uniform' ,'popularity'\n",
    "VALIDATION_CREATOR_SAMPLER_TYPE = 'popularity'   # 'uniform' ,'popularity'\n",
    "TEST_PATH = 'PopularityTest.csv'\n",
    "\n",
    "# define names for files we need\n",
    "CHECKPOINT_NAME = f\"./checkpoint_{NEGATIVE_SAMPLER_TYPE}.pkl\"\n",
    "HYPER_PARAM_FILE_NAME = f\"HyperParamResult_{NEGATIVE_SAMPLER_TYPE}.pkl\"\n",
    "\n",
    "# results by types\n",
    "NEGATIVE_SAMPLES_FILE_NAME = F\"all_negative_samples_{NEGATIVE_SAMPLER_TYPE}\"\n",
    "RESULT_FILE_NAME = F\"validation_results_negative_sampler_{NEGATIVE_SAMPLER_TYPE}_validation_type_{VALIDATION_CREATOR_SAMPLER_TYPE}.csv\"\n",
    "TRAIN_FILE_NAME = F\"train_validation_type_{VALIDATION_CREATOR_SAMPLER_TYPE}.csv\"\n",
    "VALIDATION_FILE_NAME = F\"validation_validation_type_{VALIDATION_CREATOR_SAMPLER_TYPE}.csv\"\n",
    "PREDICTION_FILE_NAME = \"popularity_205948094_207331752_311244636.csv\""
   ]
  },
  {
   "cell_type": "code",
   "execution_count": 34,
   "metadata": {},
   "outputs": [],
   "source": [
    "# HYPER_PARAM_SEARCH or manual config- set to TRUE to search the best parameters\n",
    "HYPER_PARAM_SEARCH = True\n",
    "# number of parameters, seed and the measure for error\n",
    "HYPER_PARAM_SEARCH_N_ITER = 10\n",
    "SEED = 42\n",
    "\n",
    "# Save and load\n",
    "MF_SAVE_TRAIN_VALIDATION = True  \n",
    "MF_LOAD_TRAIN_VALIDATION = False\n",
    "LOAD_NEGATIVE = False\n",
    "\n",
    "# hyper parameter tuning\n",
    "BPR_SPACE = [skopt.space.Real(0.01, 0.1, name='lr_xu', prior='uniform'),\n",
    "             skopt.space.Real(0.01, 0.1, name='lr_yi', prior='uniform'),\n",
    "             skopt.space.Real(0.01, 0.1, name='lr_bi', prior='uniform'),\n",
    "             skopt.space.Real(0.001, 0.01, name='l2_xu', prior='uniform'),\n",
    "             skopt.space.Real(0.001, 0.01, name='l2_yi', prior='uniform'),\n",
    "             skopt.space.Real(0.001, 0.01, name='l2_bi', prior='uniform'),\n",
    "             skopt.space.Categorical([20, 24, 28, 32, 36], name='h_len')]\n",
    "space = BPR_SPACE\n",
    "\n",
    "CONFIG = Config(\n",
    "    lr_xu=0.05,\n",
    "    lr_yi=0.01,\n",
    "    lr_bi=0.01,\n",
    "    print_metrics=True,\n",
    "    hidden_dimension=28,\n",
    "    l2_xu=0.001,\n",
    "    l2_yi=0.001,\n",
    "    l2_bi=0.001,\n",
    "    epochs=35,\n",
    "    seed=SEED,\n",
    "    negative_sampler_type=NEGATIVE_SAMPLER_TYPE,\n",
    "    validation_creator_sampler_type=VALIDATION_CREATOR_SAMPLER_TYPE)\n",
    "\n",
    "@skopt.utils.use_named_args(space)\n",
    "def objective(**params):\n",
    "    mf.set_params(**params)\n",
    "    print({i: np.round(v, 3) for i, v in mf.__dict__.items() if i in params.keys()})\n",
    "    return mf.fit(train.copy(), user_map, item_map, validation.copy())"
   ]
  },
  {
   "cell_type": "markdown",
   "metadata": {},
   "source": [
    "<b> read file:"
   ]
  },
  {
   "cell_type": "code",
   "execution_count": 37,
   "metadata": {},
   "outputs": [],
   "source": [
    "# read the csv file (train data)\n",
    "train = pd.read_csv(TRAIN_PATH)\n",
    "# appply the preprocess_for_mf function to get train, validation, dictionary for users and dictionary for items\n",
    "train, user_map, item_map = preprocess_for_mf(train.copy())"
   ]
  },
  {
   "cell_type": "markdown",
   "metadata": {},
   "source": [
    "<b> \"turn on\" tuning and run all the model"
   ]
  },
  {
   "cell_type": "code",
   "execution_count": 38,
   "metadata": {
    "scrolled": true
   },
   "outputs": [
    {
     "name": "stderr",
     "output_type": "stream",
     "text": [
      "  0%|                                                                                 | 3/6040 [00:00<03:49, 26.28it/s]"
     ]
    },
    {
     "name": "stdout",
     "output_type": "stream",
     "text": [
      "Creating train & validation sets\n"
     ]
    },
    {
     "name": "stderr",
     "output_type": "stream",
     "text": [
      "100%|██████████████████████████████████████████████████████████████████████████████| 6040/6040 [04:14<00:00, 23.73it/s]\n",
      "  0%|                                                                                         | 0/6040 [00:00<?, ?it/s]"
     ]
    },
    {
     "name": "stdout",
     "output_type": "stream",
     "text": [
      "{'h_len': 28, 'lr_xu': 0.082, 'lr_yi': 0.027, 'lr_bi': 0.08, 'l2_xu': 0.006, 'l2_yi': 0.005, 'l2_bi': 0.002}\n",
      "Creating negative samples\n"
     ]
    },
    {
     "name": "stderr",
     "output_type": "stream",
     "text": [
      "100%|██████████████████████████████████████████████████████████████████████████████| 6040/6040 [05:37<00:00, 17.90it/s]\n"
     ]
    },
    {
     "name": "stdout",
     "output_type": "stream",
     "text": [
      "epoch: 1\n",
      "| epoch   # 01 :  train_objective : -6.379e+05    train_percent_right : 0.6195    validation_objective : -3.183e+03  validation_percent_right : 0.7624\n",
      "epoch: 2\n",
      "| epoch   # 02 :  train_objective : -4.539e+05    train_percent_right : 0.7837    validation_objective : -2.471e+03  validation_percent_right : 0.8394\n",
      "epoch: 3\n",
      "| epoch   # 03 :  train_objective : -3.643e+05    train_percent_right : 0.8359    validation_objective : -2.148e+03  validation_percent_right : 0.8627\n",
      "epoch: 4\n",
      "| epoch   # 04 :  train_objective : -3.21e+05     train_percent_right : 0.8592    validation_objective : -2.077e+03  validation_percent_right : 0.8674\n",
      "epoch: 5\n",
      "| epoch   # 05 :  train_objective : -2.911e+05    train_percent_right : 0.8753    validation_objective : -2.037e+03  validation_percent_right : 0.8745\n",
      "epoch: 6\n",
      "| epoch   # 06 :  train_objective : -2.681e+05    train_percent_right : 0.887     validation_objective : -2.088e+03  validation_percent_right : 0.8667\n",
      "epoch: 7\n",
      "| epoch   # 07 :  train_objective : -2.535e+05    train_percent_right : 0.8946    validation_objective : -2.14e+03  validation_percent_right : 0.8659\n",
      "epoch: 8\n",
      "| epoch   # 08 :  train_objective : -2.449e+05    train_percent_right : 0.8989    validation_objective : -2.194e+03  validation_percent_right : 0.8695\n",
      "epoch: 9\n",
      "| epoch   # 09 :  train_objective : -2.407e+05    train_percent_right : 0.9007    validation_objective : -2.247e+03  validation_percent_right : 0.868\n",
      "epoch: 10\n",
      "| epoch   # 10 :  train_objective : -2.377e+05    train_percent_right : 0.9018    validation_objective : -2.295e+03  validation_percent_right : 0.8659\n",
      "epoch: 11\n",
      "| epoch   # 11 :  train_objective : -2.365e+05    train_percent_right : 0.902     validation_objective : -2.346e+03  validation_percent_right : 0.8642\n"
     ]
    },
    {
     "data": {
      "image/png": "[encoded data removed]",
      "text/plain": [
       "<Figure size 432x288 with 1 Axes>"
      ]
     },
     "metadata": {
      "needs_background": "light"
     },
     "output_type": "display_data"
    },
    {
     "name": "stdout",
     "output_type": "stream",
     "text": [
      "{'h_len': 20, 'lr_xu': 0.04, 'lr_yi': 0.023, 'lr_bi': 0.069, 'l2_xu': 0.002, 'l2_yi': 0.007, 'l2_bi': 0.009}\n",
      "Creating negative samples\n"
     ]
    },
    {
     "name": "stderr",
     "output_type": "stream",
     "text": [
      "100%|██████████████████████████████████████████████████████████████████████████████| 6040/6040 [06:06<00:00, 16.47it/s]\n"
     ]
    },
    {
     "name": "stdout",
     "output_type": "stream",
     "text": [
      "epoch: 1\n",
      "| epoch   # 01 :  train_objective : -6.429e+05    train_percent_right : 0.6113    validation_objective : -3.245e+03  validation_percent_right : 0.7608\n",
      "epoch: 2\n",
      "| epoch   # 02 :  train_objective : -5.871e+05    train_percent_right : 0.6827    validation_objective : -3.041e+03  validation_percent_right : 0.7964\n",
      "epoch: 3\n",
      "| epoch   # 03 :  train_objective : -4.652e+05    train_percent_right : 0.7771    validation_objective : -2.515e+03  validation_percent_right : 0.8425\n",
      "epoch: 4\n",
      "| epoch   # 04 :  train_objective : -3.988e+05    train_percent_right : 0.8181    validation_objective : -2.28e+03  validation_percent_right : 0.8568\n",
      "epoch: 5\n",
      "| epoch   # 05 :  train_objective : -3.598e+05    train_percent_right : 0.8396    validation_objective : -2.149e+03  validation_percent_right : 0.8694\n",
      "epoch: 6\n",
      "| epoch   # 06 :  train_objective : -3.343e+05    train_percent_right : 0.8537    validation_objective : -2.096e+03  validation_percent_right : 0.8671\n",
      "epoch: 7\n",
      "| epoch   # 07 :  train_objective : -3.151e+05    train_percent_right : 0.8641    validation_objective : -2.041e+03  validation_percent_right : 0.871\n",
      "epoch: 8\n",
      "| epoch   # 08 :  train_objective : -3.003e+05    train_percent_right : 0.8723    validation_objective : -1.994e+03  validation_percent_right : 0.8743\n",
      "epoch: 9\n",
      "| epoch   # 09 :  train_objective : -2.897e+05    train_percent_right : 0.8772    validation_objective : -1.988e+03  validation_percent_right : 0.8733\n",
      "epoch: 10\n",
      "| epoch   # 10 :  train_objective : -2.793e+05    train_percent_right : 0.8825    validation_objective : -1.955e+03  validation_percent_right : 0.872\n",
      "epoch: 11\n",
      "| epoch   # 11 :  train_objective : -2.731e+05    train_percent_right : 0.8855    validation_objective : -1.923e+03  validation_percent_right : 0.8772\n",
      "epoch: 12\n",
      "| epoch   # 12 :  train_objective : -2.679e+05    train_percent_right : 0.8876    validation_objective : -1.927e+03  validation_percent_right : 0.8773\n",
      "epoch: 13\n",
      "| epoch   # 13 :  train_objective : -2.648e+05    train_percent_right : 0.8891    validation_objective : -1.913e+03  validation_percent_right : 0.8775\n",
      "epoch: 14\n",
      "| epoch   # 14 :  train_objective : -2.623e+05    train_percent_right : 0.8902    validation_objective : -1.942e+03  validation_percent_right : 0.8738\n",
      "epoch: 15\n",
      "| epoch   # 15 :  train_objective : -2.603e+05    train_percent_right : 0.8907    validation_objective : -1.943e+03  validation_percent_right : 0.8793\n",
      "epoch: 16\n",
      "| epoch   # 16 :  train_objective : -2.582e+05    train_percent_right : 0.8916    validation_objective : -1.926e+03  validation_percent_right : 0.8767\n",
      "epoch: 17\n",
      "| epoch   # 17 :  train_objective : -2.566e+05    train_percent_right : 0.8924    validation_objective : -1.926e+03  validation_percent_right : 0.8788\n",
      "epoch: 18\n",
      "| epoch   # 18 :  train_objective : -2.554e+05    train_percent_right : 0.8928    validation_objective : -1.917e+03  validation_percent_right : 0.8806\n",
      "epoch: 19\n",
      "| epoch   # 19 :  train_objective : -2.548e+05    train_percent_right : 0.8933    validation_objective : -1.914e+03  validation_percent_right : 0.8796\n",
      "epoch: 20\n",
      "| epoch   # 20 :  train_objective : -2.535e+05    train_percent_right : 0.8939    validation_objective : -1.916e+03  validation_percent_right : 0.8776\n",
      "epoch: 21\n",
      "| epoch   # 21 :  train_objective : -2.53e+05     train_percent_right : 0.8937    validation_objective : -1.908e+03  validation_percent_right : 0.8808\n",
      "epoch: 22\n",
      "| epoch   # 22 :  train_objective : -2.526e+05    train_percent_right : 0.8936    validation_objective : -1.94e+03  validation_percent_right : 0.8776\n",
      "epoch: 23\n",
      "| epoch   # 23 :  train_objective : -2.519e+05    train_percent_right : 0.8943    validation_objective : -1.923e+03  validation_percent_right : 0.8781\n",
      "epoch: 24\n",
      "| epoch   # 24 :  train_objective : -2.518e+05    train_percent_right : 0.8939    validation_objective : -1.925e+03  validation_percent_right : 0.8781\n",
      "epoch: 25\n",
      "| epoch   # 25 :  train_objective : -2.509e+05    train_percent_right : 0.8943    validation_objective : -1.941e+03  validation_percent_right : 0.8772\n",
      "epoch: 26\n",
      "| epoch   # 26 :  train_objective : -2.506e+05    train_percent_right : 0.8945    validation_objective : -1.928e+03  validation_percent_right : 0.8793\n",
      "epoch: 27\n",
      "| epoch   # 27 :  train_objective : -2.503e+05    train_percent_right : 0.8943    validation_objective : -1.937e+03  validation_percent_right : 0.8773\n",
      "epoch: 28\n",
      "| epoch   # 28 :  train_objective : -2.497e+05    train_percent_right : 0.8946    validation_objective : -1.944e+03  validation_percent_right : 0.881\n",
      "epoch: 29\n",
      "| epoch   # 29 :  train_objective : -2.49e+05     train_percent_right : 0.8949    validation_objective : -1.955e+03  validation_percent_right : 0.8778\n",
      "epoch: 30\n",
      "| epoch   # 30 :  train_objective : -2.488e+05    train_percent_right : 0.8948    validation_objective : -1.947e+03  validation_percent_right : 0.8763\n",
      "epoch: 31\n",
      "| epoch   # 31 :  train_objective : -2.483e+05    train_percent_right : 0.8951    validation_objective : -1.974e+03  validation_percent_right : 0.8743\n"
     ]
    },
    {
     "data": {
      "image/png": "[encoded data removed]",
      "text/plain": [
       "<Figure size 432x288 with 1 Axes>"
      ]
     },
     "metadata": {
      "needs_background": "light"
     },
     "output_type": "display_data"
    },
    {
     "name": "stderr",
     "output_type": "stream",
     "text": [
      "\r",
      "  0%|                                                                                         | 0/6040 [00:00<?, ?it/s]"
     ]
    },
    {
     "name": "stdout",
     "output_type": "stream",
     "text": [
      "{'h_len': 28, 'lr_xu': 0.099, 'lr_yi': 0.066, 'lr_bi': 0.065, 'l2_xu': 0.001, 'l2_yi': 0.001, 'l2_bi': 0.006}\n",
      "Creating negative samples\n"
     ]
    },
    {
     "name": "stderr",
     "output_type": "stream",
     "text": [
      "100%|██████████████████████████████████████████████████████████████████████████████| 6040/6040 [04:56<00:00, 20.37it/s]\n"
     ]
    },
    {
     "name": "stdout",
     "output_type": "stream",
     "text": [
      "epoch: 1\n",
      "| epoch   # 01 :  train_objective : -4.748e+05    train_percent_right : 0.7687    validation_objective : -2.523e+03  validation_percent_right : 0.8298\n",
      "epoch: 2\n",
      "| epoch   # 02 :  train_objective : -5.018e+05    train_percent_right : 0.8222    validation_objective : -6.291e+03  validation_percent_right : 0.777\n",
      "epoch: 3\n"
     ]
    },
    {
     "name": "stderr",
     "output_type": "stream",
     "text": [
      "<ipython-input-25-0418ef616f53>:169: RuntimeWarning: divide by zero encountered in log\n",
      "  log_likelihood += np.log(prediction)\n"
     ]
    },
    {
     "name": "stdout",
     "output_type": "stream",
     "text": [
      "| epoch   # 03 :  train_objective : -inf          train_percent_right : 0.5683    validation_objective : -inf     validation_percent_right : 0.5661\n",
      "epoch: 4\n",
      "| epoch   # 04 :  train_objective : -inf          train_percent_right : 0.5206    validation_objective : -inf     validation_percent_right : 0.5268\n",
      "epoch: 5\n",
      "| epoch   # 05 :  train_objective : -inf          train_percent_right : 0.5152    validation_objective : -inf     validation_percent_right : 0.5139\n",
      "epoch: 6\n",
      "| epoch   # 06 :  train_objective : -inf          train_percent_right : 0.513     validation_objective : -inf     validation_percent_right : 0.5222\n",
      "epoch: 7\n",
      "| epoch   # 07 :  train_objective : -inf          train_percent_right : 0.514     validation_objective : -inf     validation_percent_right : 0.5127\n",
      "epoch: 8\n",
      "| epoch   # 08 :  train_objective : -inf          train_percent_right : 0.5148    validation_objective : -inf     validation_percent_right : 0.5048\n",
      "epoch: 9\n",
      "| epoch   # 09 :  train_objective : -inf          train_percent_right : 0.5141    validation_objective : -inf     validation_percent_right : 0.5175\n",
      "epoch: 10\n",
      "| epoch   # 10 :  train_objective : -inf          train_percent_right : 0.5124    validation_objective : -inf     validation_percent_right : 0.5126\n",
      "epoch: 11\n",
      "| epoch   # 11 :  train_objective : -inf          train_percent_right : 0.5139    validation_objective : -inf     validation_percent_right : 0.5156\n",
      "epoch: 12\n",
      "| epoch   # 12 :  train_objective : -inf          train_percent_right : 0.5161    validation_objective : -inf     validation_percent_right : 0.5162\n",
      "epoch: 13\n",
      "| epoch   # 13 :  train_objective : -inf          train_percent_right : 0.5146    validation_objective : -inf     validation_percent_right : 0.5273\n",
      "epoch: 14\n",
      "| epoch   # 14 :  train_objective : -inf          train_percent_right : 0.5129    validation_objective : -inf     validation_percent_right : 0.5109\n",
      "epoch: 15\n",
      "| epoch   # 15 :  train_objective : -inf          train_percent_right : 0.5144    validation_objective : -inf     validation_percent_right : 0.5162\n",
      "epoch: 16\n",
      "| epoch   # 16 :  train_objective : -inf          train_percent_right : 0.5152    validation_objective : -inf     validation_percent_right : 0.5205\n",
      "epoch: 17\n",
      "| epoch   # 17 :  train_objective : -inf          train_percent_right : 0.5147    validation_objective : -inf     validation_percent_right : 0.5184\n",
      "epoch: 18\n",
      "| epoch   # 18 :  train_objective : -inf          train_percent_right : 0.514     validation_objective : -inf     validation_percent_right : 0.523\n",
      "epoch: 19\n",
      "| epoch   # 19 :  train_objective : -inf          train_percent_right : 0.5119    validation_objective : -inf     validation_percent_right : 0.5114\n",
      "epoch: 20\n",
      "| epoch   # 20 :  train_objective : -inf          train_percent_right : 0.512     validation_objective : -inf     validation_percent_right : 0.5172\n",
      "epoch: 21\n",
      "| epoch   # 21 :  train_objective : -inf          train_percent_right : 0.5142    validation_objective : -inf     validation_percent_right : 0.5278\n",
      "epoch: 22\n",
      "| epoch   # 22 :  train_objective : -inf          train_percent_right : 0.5153    validation_objective : -inf     validation_percent_right : 0.5022\n",
      "epoch: 23\n",
      "| epoch   # 23 :  train_objective : -inf          train_percent_right : 0.5138    validation_objective : -inf     validation_percent_right : 0.5157\n",
      "epoch: 24\n",
      "| epoch   # 24 :  train_objective : -inf          train_percent_right : 0.5148    validation_objective : -inf     validation_percent_right : 0.5141\n",
      "epoch: 25\n",
      "| epoch   # 25 :  train_objective : -inf          train_percent_right : 0.5173    validation_objective : -inf     validation_percent_right : 0.5194\n",
      "epoch: 26\n",
      "| epoch   # 26 :  train_objective : -inf          train_percent_right : 0.5165    validation_objective : -inf     validation_percent_right : 0.5184\n",
      "epoch: 27\n",
      "| epoch   # 27 :  train_objective : -inf          train_percent_right : 0.5161    validation_objective : -inf     validation_percent_right : 0.5283\n",
      "epoch: 28\n",
      "| epoch   # 28 :  train_objective : -inf          train_percent_right : 0.513     validation_objective : -inf     validation_percent_right : 0.5131\n",
      "epoch: 29\n",
      "| epoch   # 29 :  train_objective : -inf          train_percent_right : 0.5148    validation_objective : -inf     validation_percent_right : 0.5142\n",
      "epoch: 30\n",
      "| epoch   # 30 :  train_objective : -inf          train_percent_right : 0.513     validation_objective : -inf     validation_percent_right : 0.5127\n",
      "epoch: 31\n",
      "| epoch   # 31 :  train_objective : -inf          train_percent_right : 0.5148    validation_objective : -inf     validation_percent_right : 0.524\n",
      "epoch: 32\n",
      "| epoch   # 32 :  train_objective : -inf          train_percent_right : 0.5146    validation_objective : -inf     validation_percent_right : 0.5283\n",
      "epoch: 33\n",
      "| epoch   # 33 :  train_objective : nan           train_percent_right : 0.0       validation_objective : nan      validation_percent_right : 0.0\n",
      "epoch: 34\n",
      "| epoch   # 34 :  train_objective : nan           train_percent_right : 0.0       validation_objective : nan      validation_percent_right : 0.0\n",
      "epoch: 35\n",
      "| epoch   # 35 :  train_objective : nan           train_percent_right : 0.0       validation_objective : nan      validation_percent_right : 0.0\n"
     ]
    },
    {
     "data": {
      "image/png": "[encoded data removed]",
      "text/plain": [
       "<Figure size 432x288 with 1 Axes>"
      ]
     },
     "metadata": {
      "needs_background": "light"
     },
     "output_type": "display_data"
    },
    {
     "name": "stderr",
     "output_type": "stream",
     "text": [
      "\r",
      "  0%|                                                                                         | 0/6040 [00:00<?, ?it/s]"
     ]
    },
    {
     "name": "stdout",
     "output_type": "stream",
     "text": [
      "{'h_len': 36, 'lr_xu': 0.014, 'lr_yi': 0.098, 'lr_bi': 0.031, 'l2_xu': 0.002, 'l2_yi': 0.007, 'l2_bi': 0.004}\n",
      "Creating negative samples\n"
     ]
    },
    {
     "name": "stderr",
     "output_type": "stream",
     "text": [
      "100%|██████████████████████████████████████████████████████████████████████████████| 6040/6040 [06:06<00:00, 16.48it/s]\n"
     ]
    },
    {
     "name": "stdout",
     "output_type": "stream",
     "text": [
      "epoch: 1\n",
      "| epoch   # 01 :  train_objective : -6.393e+05    train_percent_right : 0.6172    validation_objective : -3.184e+03  validation_percent_right : 0.7733\n",
      "epoch: 2\n",
      "| epoch   # 02 :  train_objective : -5.463e+05    train_percent_right : 0.7195    validation_objective : -2.877e+03  validation_percent_right : 0.8164\n",
      "epoch: 3\n",
      "| epoch   # 03 :  train_objective : -4.379e+05    train_percent_right : 0.7978    validation_objective : -2.48e+03  validation_percent_right : 0.8526\n",
      "epoch: 4\n",
      "| epoch   # 04 :  train_objective : -3.875e+05    train_percent_right : 0.8277    validation_objective : -2.291e+03  validation_percent_right : 0.869\n",
      "epoch: 5\n",
      "| epoch   # 05 :  train_objective : -3.551e+05    train_percent_right : 0.8459    validation_objective : -2.205e+03  validation_percent_right : 0.8715\n",
      "epoch: 6\n",
      "| epoch   # 06 :  train_objective : -3.353e+05    train_percent_right : 0.8563    validation_objective : -2.131e+03  validation_percent_right : 0.8788\n",
      "epoch: 7\n",
      "| epoch   # 07 :  train_objective : -3.199e+05    train_percent_right : 0.8644    validation_objective : -2.086e+03  validation_percent_right : 0.8786\n",
      "epoch: 8\n",
      "| epoch   # 08 :  train_objective : -3.061e+05    train_percent_right : 0.8719    validation_objective : -2.06e+03  validation_percent_right : 0.8767\n",
      "epoch: 9\n",
      "| epoch   # 09 :  train_objective : -2.95e+05     train_percent_right : 0.878     validation_objective : -2.047e+03  validation_percent_right : 0.8796\n",
      "epoch: 10\n",
      "| epoch   # 10 :  train_objective : -2.84e+05     train_percent_right : 0.8836    validation_objective : -2.018e+03  validation_percent_right : 0.8811\n",
      "epoch: 11\n",
      "| epoch   # 11 :  train_objective : -2.748e+05    train_percent_right : 0.8888    validation_objective : -1.973e+03  validation_percent_right : 0.8853\n",
      "epoch: 12\n",
      "| epoch   # 12 :  train_objective : -2.67e+05     train_percent_right : 0.8926    validation_objective : -1.971e+03  validation_percent_right : 0.8864\n",
      "epoch: 13\n",
      "| epoch   # 13 :  train_objective : -2.6e+05      train_percent_right : 0.8964    validation_objective : -1.976e+03  validation_percent_right : 0.8854\n",
      "epoch: 14\n",
      "| epoch   # 14 :  train_objective : -2.532e+05    train_percent_right : 0.9001    validation_objective : -1.948e+03  validation_percent_right : 0.8894\n",
      "epoch: 15\n",
      "| epoch   # 15 :  train_objective : -2.487e+05    train_percent_right : 0.9022    validation_objective : -1.943e+03  validation_percent_right : 0.8871\n",
      "epoch: 16\n",
      "| epoch   # 16 :  train_objective : -2.443e+05    train_percent_right : 0.9045    validation_objective : -1.941e+03  validation_percent_right : 0.8854\n",
      "epoch: 17\n",
      "| epoch   # 17 :  train_objective : -2.399e+05    train_percent_right : 0.906     validation_objective : -1.923e+03  validation_percent_right : 0.8924\n",
      "epoch: 18\n",
      "| epoch   # 18 :  train_objective : -2.366e+05    train_percent_right : 0.9077    validation_objective : -1.928e+03  validation_percent_right : 0.8884\n",
      "epoch: 19\n",
      "| epoch   # 19 :  train_objective : -2.348e+05    train_percent_right : 0.9084    validation_objective : -1.944e+03  validation_percent_right : 0.8901\n",
      "epoch: 20\n",
      "| epoch   # 20 :  train_objective : -2.329e+05    train_percent_right : 0.9091    validation_objective : -1.932e+03  validation_percent_right : 0.8858\n",
      "epoch: 21\n",
      "| epoch   # 21 :  train_objective : -2.302e+05    train_percent_right : 0.9106    validation_objective : -1.931e+03  validation_percent_right : 0.8873\n",
      "epoch: 22\n",
      "| epoch   # 22 :  train_objective : -2.287e+05    train_percent_right : 0.911     validation_objective : -1.925e+03  validation_percent_right : 0.8876\n",
      "epoch: 23\n",
      "| epoch   # 23 :  train_objective : -2.269e+05    train_percent_right : 0.9116    validation_objective : -1.941e+03  validation_percent_right : 0.8858\n",
      "epoch: 24\n",
      "| epoch   # 24 :  train_objective : -2.265e+05    train_percent_right : 0.9118    validation_objective : -1.924e+03  validation_percent_right : 0.8906\n",
      "epoch: 25\n",
      "| epoch   # 25 :  train_objective : -2.26e+05     train_percent_right : 0.9117    validation_objective : -1.913e+03  validation_percent_right : 0.8863\n",
      "epoch: 26\n",
      "| epoch   # 26 :  train_objective : -2.245e+05    train_percent_right : 0.9121    validation_objective : -1.916e+03  validation_percent_right : 0.8859\n",
      "epoch: 27\n",
      "| epoch   # 27 :  train_objective : -2.235e+05    train_percent_right : 0.9125    validation_objective : -1.93e+03  validation_percent_right : 0.8853\n"
     ]
    },
    {
     "data": {
      "image/png": "[encoded data removed]",
      "text/plain": [
       "<Figure size 432x288 with 1 Axes>"
      ]
     },
     "metadata": {
      "needs_background": "light"
     },
     "output_type": "display_data"
    },
    {
     "name": "stderr",
     "output_type": "stream",
     "text": [
      "\r",
      "  0%|                                                                                         | 0/6040 [00:00<?, ?it/s]"
     ]
    },
    {
     "name": "stdout",
     "output_type": "stream",
     "text": [
      "{'h_len': 28, 'lr_xu': 0.052, 'lr_yi': 0.087, 'lr_bi': 0.071, 'l2_xu': 0.005, 'l2_yi': 0.001, 'l2_bi': 0.009}\n",
      "Creating negative samples\n"
     ]
    },
    {
     "name": "stderr",
     "output_type": "stream",
     "text": [
      "100%|██████████████████████████████████████████████████████████████████████████████| 6040/6040 [05:23<00:00, 18.68it/s]\n"
     ]
    },
    {
     "name": "stdout",
     "output_type": "stream",
     "text": [
      "epoch: 1\n",
      "| epoch   # 01 :  train_objective : -5.398e+05    train_percent_right : 0.7206    validation_objective : -2.821e+03  validation_percent_right : 0.8157\n",
      "epoch: 2\n",
      "| epoch   # 02 :  train_objective : -3.62e+05     train_percent_right : 0.8371    validation_objective : -2.262e+03  validation_percent_right : 0.8449\n",
      "epoch: 3\n",
      "| epoch   # 03 :  train_objective : -3.465e+05    train_percent_right : 0.855     validation_objective : -3.049e+03  validation_percent_right : 0.8224\n",
      "epoch: 4\n"
     ]
    },
    {
     "name": "stderr",
     "output_type": "stream",
     "text": [
      "<ipython-input-25-0418ef616f53>:169: RuntimeWarning: divide by zero encountered in log\n",
      "  log_likelihood += np.log(prediction)\n"
     ]
    },
    {
     "name": "stdout",
     "output_type": "stream",
     "text": [
      "| epoch   # 04 :  train_objective : -inf          train_percent_right : 0.7845    validation_objective : -inf     validation_percent_right : 0.7285\n",
      "epoch: 5\n",
      "| epoch   # 05 :  train_objective : -inf          train_percent_right : 0.6242    validation_objective : -inf     validation_percent_right : 0.6051\n",
      "epoch: 6\n",
      "| epoch   # 06 :  train_objective : -inf          train_percent_right : 0.5989    validation_objective : -inf     validation_percent_right : 0.5772\n",
      "epoch: 7\n",
      "| epoch   # 07 :  train_objective : -inf          train_percent_right : 0.5566    validation_objective : -inf     validation_percent_right : 0.5515\n",
      "epoch: 8\n",
      "| epoch   # 08 :  train_objective : -inf          train_percent_right : 0.5356    validation_objective : -inf     validation_percent_right : 0.5323\n"
     ]
    },
    {
     "data": {
      "image/png": "[encoded data removed]",
      "text/plain": [
       "<Figure size 432x288 with 1 Axes>"
      ]
     },
     "metadata": {
      "needs_background": "light"
     },
     "output_type": "display_data"
    },
    {
     "name": "stderr",
     "output_type": "stream",
     "text": [
      "\r",
      "  0%|                                                                                         | 0/6040 [00:00<?, ?it/s]"
     ]
    },
    {
     "name": "stdout",
     "output_type": "stream",
     "text": [
      "{'h_len': 32, 'lr_xu': 0.045, 'lr_yi': 0.011, 'lr_bi': 0.031, 'l2_xu': 0.003, 'l2_yi': 0.007, 'l2_bi': 0.006}\n",
      "Creating negative samples\n"
     ]
    },
    {
     "name": "stderr",
     "output_type": "stream",
     "text": [
      "100%|██████████████████████████████████████████████████████████████████████████████| 6040/6040 [06:19<00:00, 15.90it/s]\n"
     ]
    },
    {
     "name": "stdout",
     "output_type": "stream",
     "text": [
      "epoch: 1\n",
      "| epoch   # 01 :  train_objective : -6.4e+05      train_percent_right : 0.6159    validation_objective : -3.21e+03  validation_percent_right : 0.778\n",
      "epoch: 2\n",
      "| epoch   # 02 :  train_objective : -6.366e+05    train_percent_right : 0.6212    validation_objective : -3.2e+03  validation_percent_right : 0.7662\n",
      "epoch: 3\n",
      "| epoch   # 03 :  train_objective : -5.619e+05    train_percent_right : 0.7076    validation_objective : -2.909e+03  validation_percent_right : 0.819\n",
      "epoch: 4\n",
      "| epoch   # 04 :  train_objective : -4.778e+05    train_percent_right : 0.7701    validation_objective : -2.548e+03  validation_percent_right : 0.8422\n",
      "epoch: 5\n",
      "| epoch   # 05 :  train_objective : -4.157e+05    train_percent_right : 0.8097    validation_objective : -2.309e+03  validation_percent_right : 0.8632\n",
      "epoch: 6\n",
      "| epoch   # 06 :  train_objective : -3.753e+05    train_percent_right : 0.8325    validation_objective : -2.199e+03  validation_percent_right : 0.8656\n",
      "epoch: 7\n",
      "| epoch   # 07 :  train_objective : -3.486e+05    train_percent_right : 0.847     validation_objective : -2.118e+03  validation_percent_right : 0.8682\n",
      "epoch: 8\n",
      "| epoch   # 08 :  train_objective : -3.291e+05    train_percent_right : 0.8574    validation_objective : -2.059e+03  validation_percent_right : 0.8705\n",
      "epoch: 9\n",
      "| epoch   # 09 :  train_objective : -3.143e+05    train_percent_right : 0.8649    validation_objective : -2.013e+03  validation_percent_right : 0.8742\n",
      "epoch: 10\n",
      "| epoch   # 10 :  train_objective : -3.006e+05    train_percent_right : 0.8717    validation_objective : -1.967e+03  validation_percent_right : 0.8775\n",
      "epoch: 11\n",
      "| epoch   # 11 :  train_objective : -2.893e+05    train_percent_right : 0.878     validation_objective : -1.95e+03  validation_percent_right : 0.8806\n",
      "epoch: 12\n",
      "| epoch   # 12 :  train_objective : -2.795e+05    train_percent_right : 0.8831    validation_objective : -1.956e+03  validation_percent_right : 0.8796\n",
      "epoch: 13\n",
      "| epoch   # 13 :  train_objective : -2.712e+05    train_percent_right : 0.8877    validation_objective : -1.941e+03  validation_percent_right : 0.8821\n",
      "epoch: 14\n",
      "| epoch   # 14 :  train_objective : -2.624e+05    train_percent_right : 0.8924    validation_objective : -1.93e+03  validation_percent_right : 0.8838\n",
      "epoch: 15\n",
      "| epoch   # 15 :  train_objective : -2.546e+05    train_percent_right : 0.8963    validation_objective : -1.92e+03  validation_percent_right : 0.8841\n",
      "epoch: 16\n",
      "| epoch   # 16 :  train_objective : -2.474e+05    train_percent_right : 0.9003    validation_objective : -1.913e+03  validation_percent_right : 0.8859\n",
      "epoch: 17\n",
      "| epoch   # 17 :  train_objective : -2.426e+05    train_percent_right : 0.9026    validation_objective : -1.909e+03  validation_percent_right : 0.8848\n",
      "epoch: 18\n",
      "| epoch   # 18 :  train_objective : -2.374e+05    train_percent_right : 0.9052    validation_objective : -1.908e+03  validation_percent_right : 0.8864\n",
      "epoch: 19\n",
      "| epoch   # 19 :  train_objective : -2.33e+05     train_percent_right : 0.9075    validation_objective : -1.917e+03  validation_percent_right : 0.8858\n",
      "epoch: 20\n",
      "| epoch   # 20 :  train_objective : -2.307e+05    train_percent_right : 0.908     validation_objective : -1.914e+03  validation_percent_right : 0.8864\n",
      "epoch: 21\n",
      "| epoch   # 21 :  train_objective : -2.274e+05    train_percent_right : 0.9098    validation_objective : -1.922e+03  validation_percent_right : 0.8882\n",
      "epoch: 22\n",
      "| epoch   # 22 :  train_objective : -2.25e+05     train_percent_right : 0.9107    validation_objective : -1.945e+03  validation_percent_right : 0.8861\n",
      "epoch: 23\n",
      "| epoch   # 23 :  train_objective : -2.237e+05    train_percent_right : 0.9117    validation_objective : -1.925e+03  validation_percent_right : 0.8834\n",
      "epoch: 24\n",
      "| epoch   # 24 :  train_objective : -2.217e+05    train_percent_right : 0.9124    validation_objective : -1.929e+03  validation_percent_right : 0.8849\n",
      "epoch: 25\n",
      "| epoch   # 25 :  train_objective : -2.203e+05    train_percent_right : 0.9131    validation_objective : -1.931e+03  validation_percent_right : 0.8879\n",
      "epoch: 26\n",
      "| epoch   # 26 :  train_objective : -2.195e+05    train_percent_right : 0.9135    validation_objective : -1.926e+03  validation_percent_right : 0.8901\n",
      "epoch: 27\n",
      "| epoch   # 27 :  train_objective : -2.187e+05    train_percent_right : 0.9136    validation_objective : -1.941e+03  validation_percent_right : 0.8892\n",
      "epoch: 28\n",
      "| epoch   # 28 :  train_objective : -2.174e+05    train_percent_right : 0.9141    validation_objective : -1.938e+03  validation_percent_right : 0.8904\n",
      "epoch: 29\n",
      "| epoch   # 29 :  train_objective : -2.163e+05    train_percent_right : 0.9147    validation_objective : -1.945e+03  validation_percent_right : 0.8871\n",
      "epoch: 30\n",
      "| epoch   # 30 :  train_objective : -2.16e+05     train_percent_right : 0.9146    validation_objective : -1.948e+03  validation_percent_right : 0.8849\n",
      "epoch: 31\n",
      "| epoch   # 31 :  train_objective : -2.155e+05    train_percent_right : 0.9147    validation_objective : -1.926e+03  validation_percent_right : 0.8907\n",
      "epoch: 32\n",
      "| epoch   # 32 :  train_objective : -2.144e+05    train_percent_right : 0.9155    validation_objective : -1.934e+03  validation_percent_right : 0.8894\n",
      "epoch: 33\n",
      "| epoch   # 33 :  train_objective : -2.147e+05    train_percent_right : 0.915     validation_objective : -1.961e+03  validation_percent_right : 0.8854\n",
      "epoch: 34\n",
      "| epoch   # 34 :  train_objective : -2.136e+05    train_percent_right : 0.9152    validation_objective : -1.967e+03  validation_percent_right : 0.8861\n",
      "epoch: 35\n",
      "| epoch   # 35 :  train_objective : -2.131e+05    train_percent_right : 0.9162    validation_objective : -1.955e+03  validation_percent_right : 0.8873\n"
     ]
    },
    {
     "data": {
      "image/png": "[encoded data removed]",
      "text/plain": [
       "<Figure size 432x288 with 1 Axes>"
      ]
     },
     "metadata": {
      "needs_background": "light"
     },
     "output_type": "display_data"
    },
    {
     "name": "stdout",
     "output_type": "stream",
     "text": [
      "{'h_len': 28, 'lr_xu': 0.026, 'lr_yi': 0.045, 'lr_bi': 0.026, 'l2_xu': 0.008, 'l2_yi': 0.005, 'l2_bi': 0.003}\n",
      "Creating negative samples\n"
     ]
    },
    {
     "name": "stderr",
     "output_type": "stream",
     "text": [
      "100%|██████████████████████████████████████████████████████████████████████████████| 6040/6040 [06:02<00:00, 16.65it/s]\n"
     ]
    },
    {
     "name": "stdout",
     "output_type": "stream",
     "text": [
      "epoch: 1\n",
      "| epoch   # 01 :  train_objective : -6.394e+05    train_percent_right : 0.6167    validation_objective : -3.192e+03  validation_percent_right : 0.7752\n",
      "epoch: 2\n",
      "| epoch   # 02 :  train_objective : -5.635e+05    train_percent_right : 0.7058    validation_objective : -2.935e+03  validation_percent_right : 0.8123\n",
      "epoch: 3\n",
      "| epoch   # 03 :  train_objective : -4.419e+05    train_percent_right : 0.7933    validation_objective : -2.43e+03  validation_percent_right : 0.8533\n",
      "epoch: 4\n",
      "| epoch   # 04 :  train_objective : -3.818e+05    train_percent_right : 0.8281    validation_objective : -2.216e+03  validation_percent_right : 0.8662\n",
      "epoch: 5\n",
      "| epoch   # 05 :  train_objective : -3.46e+05     train_percent_right : 0.8485    validation_objective : -2.133e+03  validation_percent_right : 0.8685\n",
      "epoch: 6\n",
      "| epoch   # 06 :  train_objective : -3.219e+05    train_percent_right : 0.8615    validation_objective : -2.066e+03  validation_percent_right : 0.8719\n",
      "epoch: 7\n",
      "| epoch   # 07 :  train_objective : -3.031e+05    train_percent_right : 0.8718    validation_objective : -2.016e+03  validation_percent_right : 0.8772\n",
      "epoch: 8\n",
      "| epoch   # 08 :  train_objective : -2.885e+05    train_percent_right : 0.8795    validation_objective : -1.996e+03  validation_percent_right : 0.8815\n",
      "epoch: 9\n",
      "| epoch   # 09 :  train_objective : -2.756e+05    train_percent_right : 0.8863    validation_objective : -1.979e+03  validation_percent_right : 0.8831\n",
      "epoch: 10\n",
      "| epoch   # 10 :  train_objective : -2.659e+05    train_percent_right : 0.8914    validation_objective : -1.973e+03  validation_percent_right : 0.8838\n",
      "epoch: 11\n",
      "| epoch   # 11 :  train_objective : -2.572e+05    train_percent_right : 0.8961    validation_objective : -1.954e+03  validation_percent_right : 0.8843\n",
      "epoch: 12\n",
      "| epoch   # 12 :  train_objective : -2.499e+05    train_percent_right : 0.9003    validation_objective : -1.952e+03  validation_percent_right : 0.8851\n",
      "epoch: 13\n",
      "| epoch   # 13 :  train_objective : -2.446e+05    train_percent_right : 0.9029    validation_objective : -1.934e+03  validation_percent_right : 0.8889\n",
      "epoch: 14\n",
      "| epoch   # 14 :  train_objective : -2.405e+05    train_percent_right : 0.9047    validation_objective : -1.946e+03  validation_percent_right : 0.8868\n",
      "epoch: 15\n",
      "| epoch   # 15 :  train_objective : -2.373e+05    train_percent_right : 0.906     validation_objective : -1.949e+03  validation_percent_right : 0.8869\n",
      "epoch: 16\n",
      "| epoch   # 16 :  train_objective : -2.345e+05    train_percent_right : 0.9076    validation_objective : -1.953e+03  validation_percent_right : 0.8889\n",
      "epoch: 17\n",
      "| epoch   # 17 :  train_objective : -2.337e+05    train_percent_right : 0.9077    validation_objective : -1.971e+03  validation_percent_right : 0.8873\n",
      "epoch: 18\n",
      "| epoch   # 18 :  train_objective : -2.314e+05    train_percent_right : 0.9085    validation_objective : -1.966e+03  validation_percent_right : 0.8881\n",
      "epoch: 19\n",
      "| epoch   # 19 :  train_objective : -2.304e+05    train_percent_right : 0.9093    validation_objective : -1.966e+03  validation_percent_right : 0.8833\n",
      "epoch: 20\n",
      "| epoch   # 20 :  train_objective : -2.291e+05    train_percent_right : 0.9094    validation_objective : -1.97e+03  validation_percent_right : 0.8897\n",
      "epoch: 21\n",
      "| epoch   # 21 :  train_objective : -2.276e+05    train_percent_right : 0.9102    validation_objective : -1.989e+03  validation_percent_right : 0.8873\n",
      "epoch: 22\n",
      "| epoch   # 22 :  train_objective : -2.273e+05    train_percent_right : 0.9102    validation_objective : -2.002e+03  validation_percent_right : 0.8887\n",
      "epoch: 23\n",
      "| epoch   # 23 :  train_objective : -2.271e+05    train_percent_right : 0.9103    validation_objective : -1.99e+03  validation_percent_right : 0.8882\n",
      "epoch: 24\n",
      "| epoch   # 24 :  train_objective : -2.253e+05    train_percent_right : 0.9116    validation_objective : -2.01e+03  validation_percent_right : 0.8894\n",
      "epoch: 25\n",
      "| epoch   # 25 :  train_objective : -2.249e+05    train_percent_right : 0.9114    validation_objective : -1.996e+03  validation_percent_right : 0.8866\n",
      "epoch: 26\n",
      "| epoch   # 26 :  train_objective : -2.251e+05    train_percent_right : 0.9113    validation_objective : -1.999e+03  validation_percent_right : 0.8899\n",
      "epoch: 27\n",
      "| epoch   # 27 :  train_objective : -2.244e+05    train_percent_right : 0.9114    validation_objective : -1.998e+03  validation_percent_right : 0.8897\n",
      "epoch: 28\n",
      "| epoch   # 28 :  train_objective : -2.242e+05    train_percent_right : 0.9115    validation_objective : -2.018e+03  validation_percent_right : 0.8886\n",
      "epoch: 29\n",
      "| epoch   # 29 :  train_objective : -2.237e+05    train_percent_right : 0.9118    validation_objective : -2.033e+03  validation_percent_right : 0.8884\n"
     ]
    },
    {
     "data": {
      "image/png": "[encoded data removed]",
      "text/plain": [
       "<Figure size 432x288 with 1 Axes>"
      ]
     },
     "metadata": {
      "needs_background": "light"
     },
     "output_type": "display_data"
    },
    {
     "name": "stderr",
     "output_type": "stream",
     "text": [
      "\r",
      "  0%|                                                                                         | 0/6040 [00:00<?, ?it/s]"
     ]
    },
    {
     "name": "stdout",
     "output_type": "stream",
     "text": [
      "{'h_len': 24, 'lr_xu': 0.013, 'lr_yi': 0.086, 'lr_bi': 0.05, 'l2_xu': 0.005, 'l2_yi': 0.009, 'l2_bi': 0.008}\n",
      "Creating negative samples\n"
     ]
    },
    {
     "name": "stderr",
     "output_type": "stream",
     "text": [
      "100%|██████████████████████████████████████████████████████████████████████████████| 6040/6040 [05:09<00:00, 19.54it/s]\n"
     ]
    },
    {
     "name": "stdout",
     "output_type": "stream",
     "text": [
      "epoch: 1\n",
      "| epoch   # 01 :  train_objective : -6.416e+05    train_percent_right : 0.6137    validation_objective : -3.234e+03  validation_percent_right : 0.7669\n",
      "epoch: 2\n",
      "| epoch   # 02 :  train_objective : -5.864e+05    train_percent_right : 0.6833    validation_objective : -3.06e+03  validation_percent_right : 0.8022\n",
      "epoch: 3\n",
      "| epoch   # 03 :  train_objective : -4.8e+05      train_percent_right : 0.7705    validation_objective : -2.66e+03  validation_percent_right : 0.8411\n",
      "epoch: 4\n",
      "| epoch   # 04 :  train_objective : -4.204e+05    train_percent_right : 0.809     validation_objective : -2.476e+03  validation_percent_right : 0.8571\n",
      "epoch: 5\n",
      "| epoch   # 05 :  train_objective : -3.883e+05    train_percent_right : 0.8279    validation_objective : -2.373e+03  validation_percent_right : 0.8642\n",
      "epoch: 6\n",
      "| epoch   # 06 :  train_objective : -3.669e+05    train_percent_right : 0.8396    validation_objective : -2.309e+03  validation_percent_right : 0.8717\n",
      "epoch: 7\n",
      "| epoch   # 07 :  train_objective : -3.504e+05    train_percent_right : 0.8492    validation_objective : -2.243e+03  validation_percent_right : 0.8733\n",
      "epoch: 8\n",
      "| epoch   # 08 :  train_objective : -3.363e+05    train_percent_right : 0.8566    validation_objective : -2.211e+03  validation_percent_right : 0.8762\n",
      "epoch: 9\n",
      "| epoch   # 09 :  train_objective : -3.258e+05    train_percent_right : 0.8625    validation_objective : -2.172e+03  validation_percent_right : 0.8785\n",
      "epoch: 10\n",
      "| epoch   # 10 :  train_objective : -3.164e+05    train_percent_right : 0.8676    validation_objective : -2.156e+03  validation_percent_right : 0.8811\n",
      "epoch: 11\n",
      "| epoch   # 11 :  train_objective : -3.094e+05    train_percent_right : 0.8709    validation_objective : -2.172e+03  validation_percent_right : 0.876\n",
      "epoch: 12\n",
      "| epoch   # 12 :  train_objective : -3.019e+05    train_percent_right : 0.8753    validation_objective : -2.143e+03  validation_percent_right : 0.8788\n",
      "epoch: 13\n",
      "| epoch   # 13 :  train_objective : -2.974e+05    train_percent_right : 0.8773    validation_objective : -2.134e+03  validation_percent_right : 0.8783\n",
      "epoch: 14\n",
      "| epoch   # 14 :  train_objective : -2.914e+05    train_percent_right : 0.8803    validation_objective : -2.103e+03  validation_percent_right : 0.8828\n",
      "epoch: 15\n",
      "| epoch   # 15 :  train_objective : -2.872e+05    train_percent_right : 0.8826    validation_objective : -2.11e+03  validation_percent_right : 0.8823\n",
      "epoch: 16\n",
      "| epoch   # 16 :  train_objective : -2.831e+05    train_percent_right : 0.8845    validation_objective : -2.095e+03  validation_percent_right : 0.8858\n",
      "epoch: 17\n",
      "| epoch   # 17 :  train_objective : -2.805e+05    train_percent_right : 0.8856    validation_objective : -2.097e+03  validation_percent_right : 0.8785\n",
      "epoch: 18\n",
      "| epoch   # 18 :  train_objective : -2.776e+05    train_percent_right : 0.887     validation_objective : -2.115e+03  validation_percent_right : 0.8815\n",
      "epoch: 19\n",
      "| epoch   # 19 :  train_objective : -2.761e+05    train_percent_right : 0.8875    validation_objective : -2.116e+03  validation_percent_right : 0.8776\n",
      "epoch: 20\n",
      "| epoch   # 20 :  train_objective : -2.737e+05    train_percent_right : 0.8885    validation_objective : -2.071e+03  validation_percent_right : 0.8844\n",
      "epoch: 21\n",
      "| epoch   # 21 :  train_objective : -2.719e+05    train_percent_right : 0.8894    validation_objective : -2.093e+03  validation_percent_right : 0.8818\n",
      "epoch: 22\n",
      "| epoch   # 22 :  train_objective : -2.704e+05    train_percent_right : 0.8899    validation_objective : -2.119e+03  validation_percent_right : 0.877\n",
      "epoch: 23\n",
      "| epoch   # 23 :  train_objective : -2.689e+05    train_percent_right : 0.8911    validation_objective : -2.078e+03  validation_percent_right : 0.8818\n",
      "epoch: 24\n",
      "| epoch   # 24 :  train_objective : -2.676e+05    train_percent_right : 0.8913    validation_objective : -2.1e+03  validation_percent_right : 0.8803\n",
      "epoch: 25\n",
      "| epoch   # 25 :  train_objective : -2.665e+05    train_percent_right : 0.8916    validation_objective : -2.075e+03  validation_percent_right : 0.8831\n",
      "epoch: 26\n",
      "| epoch   # 26 :  train_objective : -2.66e+05     train_percent_right : 0.8918    validation_objective : -2.079e+03  validation_percent_right : 0.8841\n",
      "epoch: 27\n",
      "| epoch   # 27 :  train_objective : -2.652e+05    train_percent_right : 0.8924    validation_objective : -2.08e+03  validation_percent_right : 0.8815\n",
      "epoch: 28\n",
      "| epoch   # 28 :  train_objective : -2.646e+05    train_percent_right : 0.8925    validation_objective : -2.089e+03  validation_percent_right : 0.8813\n",
      "epoch: 29\n",
      "| epoch   # 29 :  train_objective : -2.637e+05    train_percent_right : 0.8927    validation_objective : -2.059e+03  validation_percent_right : 0.8854\n",
      "epoch: 30\n",
      "| epoch   # 30 :  train_objective : -2.624e+05    train_percent_right : 0.8934    validation_objective : -2.078e+03  validation_percent_right : 0.8818\n",
      "epoch: 31\n",
      "| epoch   # 31 :  train_objective : -2.619e+05    train_percent_right : 0.8931    validation_objective : -2.072e+03  validation_percent_right : 0.8825\n",
      "epoch: 32\n",
      "| epoch   # 32 :  train_objective : -2.625e+05    train_percent_right : 0.8927    validation_objective : -2.087e+03  validation_percent_right : 0.8838\n",
      "epoch: 33\n",
      "| epoch   # 33 :  train_objective : -2.617e+05    train_percent_right : 0.8937    validation_objective : -2.082e+03  validation_percent_right : 0.8808\n",
      "epoch: 34\n",
      "| epoch   # 34 :  train_objective : -2.609e+05    train_percent_right : 0.8936    validation_objective : -2.069e+03  validation_percent_right : 0.8836\n",
      "epoch: 35\n",
      "| epoch   # 35 :  train_objective : -2.61e+05     train_percent_right : 0.8934    validation_objective : -2.082e+03  validation_percent_right : 0.8825\n"
     ]
    },
    {
     "data": {
      "image/png": "[encoded data removed]",
      "text/plain": [
       "<Figure size 432x288 with 1 Axes>"
      ]
     },
     "metadata": {
      "needs_background": "light"
     },
     "output_type": "display_data"
    },
    {
     "name": "stderr",
     "output_type": "stream",
     "text": [
      "\r",
      "  0%|                                                                                         | 0/6040 [00:00<?, ?it/s]"
     ]
    },
    {
     "name": "stdout",
     "output_type": "stream",
     "text": [
      "{'h_len': 28, 'lr_xu': 0.061, 'lr_yi': 0.057, 'lr_bi': 0.097, 'l2_xu': 0.009, 'l2_yi': 0.008, 'l2_bi': 0.006}\n",
      "Creating negative samples\n"
     ]
    },
    {
     "name": "stderr",
     "output_type": "stream",
     "text": [
      "100%|██████████████████████████████████████████████████████████████████████████████| 6040/6040 [05:29<00:00, 18.31it/s]\n"
     ]
    },
    {
     "name": "stdout",
     "output_type": "stream",
     "text": [
      "epoch: 1\n",
      "| epoch   # 01 :  train_objective : -6.063e+05    train_percent_right : 0.6585    validation_objective : -3.101e+03  validation_percent_right : 0.7887\n",
      "epoch: 2\n",
      "| epoch   # 02 :  train_objective : -4.087e+05    train_percent_right : 0.8106    validation_objective : -2.368e+03  validation_percent_right : 0.8493\n",
      "epoch: 3\n",
      "| epoch   # 03 :  train_objective : -3.399e+05    train_percent_right : 0.8505    validation_objective : -2.202e+03  validation_percent_right : 0.8626\n",
      "epoch: 4\n",
      "| epoch   # 04 :  train_objective : -3.041e+05    train_percent_right : 0.8702    validation_objective : -2.147e+03  validation_percent_right : 0.8684\n",
      "epoch: 5\n",
      "| epoch   # 05 :  train_objective : -2.787e+05    train_percent_right : 0.8839    validation_objective : -2.134e+03  validation_percent_right : 0.8738\n",
      "epoch: 6\n",
      "| epoch   # 06 :  train_objective : -2.61e+05     train_percent_right : 0.8934    validation_objective : -2.143e+03  validation_percent_right : 0.8805\n",
      "epoch: 7\n",
      "| epoch   # 07 :  train_objective : -2.505e+05    train_percent_right : 0.8993    validation_objective : -2.133e+03  validation_percent_right : 0.8778\n",
      "epoch: 8\n",
      "| epoch   # 08 :  train_objective : -2.444e+05    train_percent_right : 0.902     validation_objective : -2.169e+03  validation_percent_right : 0.8776\n",
      "epoch: 9\n",
      "| epoch   # 09 :  train_objective : -2.406e+05    train_percent_right : 0.9036    validation_objective : -2.2e+03  validation_percent_right : 0.876\n"
     ]
    },
    {
     "data": {
      "image/png": "[encoded data removed]",
      "text/plain": [
       "<Figure size 432x288 with 1 Axes>"
      ]
     },
     "metadata": {
      "needs_background": "light"
     },
     "output_type": "display_data"
    },
    {
     "name": "stderr",
     "output_type": "stream",
     "text": [
      "\r",
      "  0%|                                                                                         | 0/6040 [00:00<?, ?it/s]"
     ]
    },
    {
     "name": "stdout",
     "output_type": "stream",
     "text": [
      "{'h_len': 28, 'lr_xu': 0.097, 'lr_yi': 0.065, 'lr_bi': 0.035, 'l2_xu': 0.004, 'l2_yi': 0.002, 'l2_bi': 0.001}\n",
      "Creating negative samples\n"
     ]
    },
    {
     "name": "stderr",
     "output_type": "stream",
     "text": [
      "100%|██████████████████████████████████████████████████████████████████████████████| 6040/6040 [05:47<00:00, 17.40it/s]\n"
     ]
    },
    {
     "name": "stdout",
     "output_type": "stream",
     "text": [
      "epoch: 1\n",
      "| epoch   # 01 :  train_objective : -4.772e+05    train_percent_right : 0.7678    validation_objective : -2.539e+03  validation_percent_right : 0.8343\n",
      "epoch: 2\n",
      "| epoch   # 02 :  train_objective : -3.631e+05    train_percent_right : 0.8414    validation_objective : -2.679e+03  validation_percent_right : 0.8262\n",
      "epoch: 3\n"
     ]
    },
    {
     "name": "stderr",
     "output_type": "stream",
     "text": [
      "<ipython-input-25-0418ef616f53>:169: RuntimeWarning: divide by zero encountered in log\n",
      "  log_likelihood += np.log(prediction)\n"
     ]
    },
    {
     "name": "stdout",
     "output_type": "stream",
     "text": [
      "| epoch   # 03 :  train_objective : -inf          train_percent_right : 0.6965    validation_objective : -inf     validation_percent_right : 0.6594\n",
      "epoch: 4\n",
      "| epoch   # 04 :  train_objective : -inf          train_percent_right : 0.5676    validation_objective : -inf     validation_percent_right : 0.5575\n",
      "epoch: 5\n",
      "| epoch   # 05 :  train_objective : -inf          train_percent_right : 0.5279    validation_objective : -inf     validation_percent_right : 0.5257\n",
      "epoch: 6\n",
      "| epoch   # 06 :  train_objective : -inf          train_percent_right : 0.5196    validation_objective : -inf     validation_percent_right : 0.5262\n",
      "epoch: 7\n",
      "| epoch   # 07 :  train_objective : -inf          train_percent_right : 0.5194    validation_objective : -inf     validation_percent_right : 0.5164\n",
      "epoch: 8\n",
      "| epoch   # 08 :  train_objective : -inf          train_percent_right : 0.5193    validation_objective : -inf     validation_percent_right : 0.5272\n",
      "epoch: 9\n",
      "| epoch   # 09 :  train_objective : -inf          train_percent_right : 0.5218    validation_objective : -inf     validation_percent_right : 0.5263\n",
      "epoch: 10\n",
      "| epoch   # 10 :  train_objective : -inf          train_percent_right : 0.5179    validation_objective : -inf     validation_percent_right : 0.5219\n",
      "epoch: 11\n",
      "| epoch   # 11 :  train_objective : -inf          train_percent_right : 0.5189    validation_objective : -inf     validation_percent_right : 0.5174\n"
     ]
    },
    {
     "data": {
      "image/png": "[encoded data removed]",
      "text/plain": [
       "<Figure size 432x288 with 1 Axes>"
      ]
     },
     "metadata": {
      "needs_background": "light"
     },
     "output_type": "display_data"
    },
    {
     "data": {
      "image/png": "[encoded data removed]",
      "text/plain": [
       "<Figure size 432x288 with 1 Axes>"
      ]
     },
     "metadata": {
      "needs_background": "light"
     },
     "output_type": "display_data"
    }
   ],
   "source": [
    "# create validation set\n",
    "validation_creator = ValidationCreator(CONFIG.validation_creator_sampler_type)\n",
    "train, validation = validation_creator.get(train.copy())\n",
    "# add attributes to config\n",
    "CONFIG.add_attributes(n_users=len(user_map), n_items=len(item_map))\n",
    "# create matrix factorization object\n",
    "mf = BPRMatrixFactorizationWithBiasesSGD(CONFIG)\n",
    "# run the model\n",
    "run_exp(mf, train.copy(), user_map, item_map, validation)"
   ]
  },
  {
   "cell_type": "markdown",
   "metadata": {},
   "source": [
    "<b> show the results of tuning"
   ]
  },
  {
   "cell_type": "code",
   "execution_count": 39,
   "metadata": {
    "scrolled": true
   },
   "outputs": [
    {
     "data": {
      "text/html": [
       "<style  type=\"text/css\" >\n",
       "#T_ff17adaa_6257_11ec_9c60_9c305b6fce10row0_col7{\n",
       "            width:  10em;\n",
       "             height:  80%;\n",
       "            background:  linear-gradient(90deg,#86BDEE 100.0%, transparent 100.0%);\n",
       "        }#T_ff17adaa_6257_11ec_9c60_9c305b6fce10row1_col7{\n",
       "            width:  10em;\n",
       "             height:  80%;\n",
       "            background:  linear-gradient(90deg,#86BDEE 99.7%, transparent 99.7%);\n",
       "        }#T_ff17adaa_6257_11ec_9c60_9c305b6fce10row2_col7{\n",
       "            width:  10em;\n",
       "             height:  80%;\n",
       "            background:  linear-gradient(90deg,#86BDEE 99.6%, transparent 99.6%);\n",
       "        }#T_ff17adaa_6257_11ec_9c60_9c305b6fce10row3_col7{\n",
       "            width:  10em;\n",
       "             height:  80%;\n",
       "            background:  linear-gradient(90deg,#86BDEE 99.2%, transparent 99.2%);\n",
       "        }#T_ff17adaa_6257_11ec_9c60_9c305b6fce10row4_col7,#T_ff17adaa_6257_11ec_9c60_9c305b6fce10row5_col7{\n",
       "            width:  10em;\n",
       "             height:  80%;\n",
       "            background:  linear-gradient(90deg,#86BDEE 98.7%, transparent 98.7%);\n",
       "        }#T_ff17adaa_6257_11ec_9c60_9c305b6fce10row6_col7{\n",
       "            width:  10em;\n",
       "             height:  80%;\n",
       "            background:  linear-gradient(90deg,#86BDEE 97.6%, transparent 97.6%);\n",
       "        }#T_ff17adaa_6257_11ec_9c60_9c305b6fce10row7_col7{\n",
       "            width:  10em;\n",
       "             height:  80%;\n",
       "            background:  linear-gradient(90deg,#86BDEE 64.9%, transparent 64.9%);\n",
       "        }#T_ff17adaa_6257_11ec_9c60_9c305b6fce10row8_col7{\n",
       "            width:  10em;\n",
       "             height:  80%;\n",
       "            background:  linear-gradient(90deg,#86BDEE 59.2%, transparent 59.2%);\n",
       "        }#T_ff17adaa_6257_11ec_9c60_9c305b6fce10row9_col7{\n",
       "            width:  10em;\n",
       "             height:  80%;\n",
       "        }</style><table id=\"T_ff17adaa_6257_11ec_9c60_9c305b6fce10\" ><thead>    <tr>        <th class=\"blank level0\" ></th>        <th class=\"col_heading level0 col0\" >lr_xu</th>        <th class=\"col_heading level0 col1\" >lr_yi</th>        <th class=\"col_heading level0 col2\" >lr_bi</th>        <th class=\"col_heading level0 col3\" >lambda_xu</th>        <th class=\"col_heading level0 col4\" >lambda_yi</th>        <th class=\"col_heading level0 col5\" >lambda_bi</th>        <th class=\"col_heading level0 col6\" >hidden_dimension_size</th>        <th class=\"col_heading level0 col7\" >result</th>    </tr></thead><tbody>\n",
       "                <tr>\n",
       "                        <th id=\"T_ff17adaa_6257_11ec_9c60_9c305b6fce10level0_row0\" class=\"row_heading level0 row0\" >6</th>\n",
       "                        <td id=\"T_ff17adaa_6257_11ec_9c60_9c305b6fce10row0_col0\" class=\"data row0 col0\" >0.025603</td>\n",
       "                        <td id=\"T_ff17adaa_6257_11ec_9c60_9c305b6fce10row0_col1\" class=\"data row0 col1\" >0.045195</td>\n",
       "                        <td id=\"T_ff17adaa_6257_11ec_9c60_9c305b6fce10row0_col2\" class=\"data row0 col2\" >0.026401</td>\n",
       "                        <td id=\"T_ff17adaa_6257_11ec_9c60_9c305b6fce10row0_col3\" class=\"data row0 col3\" >0.007798</td>\n",
       "                        <td id=\"T_ff17adaa_6257_11ec_9c60_9c305b6fce10row0_col4\" class=\"data row0 col4\" >0.004826</td>\n",
       "                        <td id=\"T_ff17adaa_6257_11ec_9c60_9c305b6fce10row0_col5\" class=\"data row0 col5\" >0.002871</td>\n",
       "                        <td id=\"T_ff17adaa_6257_11ec_9c60_9c305b6fce10row0_col6\" class=\"data row0 col6\" >28</td>\n",
       "                        <td id=\"T_ff17adaa_6257_11ec_9c60_9c305b6fce10row0_col7\" class=\"data row0 col7\" >0.889735</td>\n",
       "            </tr>\n",
       "            <tr>\n",
       "                        <th id=\"T_ff17adaa_6257_11ec_9c60_9c305b6fce10level0_row1\" class=\"row_heading level0 row1\" >5</th>\n",
       "                        <td id=\"T_ff17adaa_6257_11ec_9c60_9c305b6fce10row1_col0\" class=\"data row1 col0\" >0.044687</td>\n",
       "                        <td id=\"T_ff17adaa_6257_11ec_9c60_9c305b6fce10row1_col1\" class=\"data row1 col1\" >0.011437</td>\n",
       "                        <td id=\"T_ff17adaa_6257_11ec_9c60_9c305b6fce10row1_col2\" class=\"data row1 col2\" >0.030780</td>\n",
       "                        <td id=\"T_ff17adaa_6257_11ec_9c60_9c305b6fce10row1_col3\" class=\"data row1 col3\" >0.003169</td>\n",
       "                        <td id=\"T_ff17adaa_6257_11ec_9c60_9c305b6fce10row1_col4\" class=\"data row1 col4\" >0.007149</td>\n",
       "                        <td id=\"T_ff17adaa_6257_11ec_9c60_9c305b6fce10row1_col5\" class=\"data row1 col5\" >0.006490</td>\n",
       "                        <td id=\"T_ff17adaa_6257_11ec_9c60_9c305b6fce10row1_col6\" class=\"data row1 col6\" >32</td>\n",
       "                        <td id=\"T_ff17adaa_6257_11ec_9c60_9c305b6fce10row1_col7\" class=\"data row1 col7\" >0.887252</td>\n",
       "            </tr>\n",
       "            <tr>\n",
       "                        <th id=\"T_ff17adaa_6257_11ec_9c60_9c305b6fce10level0_row2\" class=\"row_heading level0 row2\" >3</th>\n",
       "                        <td id=\"T_ff17adaa_6257_11ec_9c60_9c305b6fce10row2_col0\" class=\"data row2 col0\" >0.014200</td>\n",
       "                        <td id=\"T_ff17adaa_6257_11ec_9c60_9c305b6fce10row2_col1\" class=\"data row2 col1\" >0.097638</td>\n",
       "                        <td id=\"T_ff17adaa_6257_11ec_9c60_9c305b6fce10row2_col2\" class=\"data row2 col2\" >0.030949</td>\n",
       "                        <td id=\"T_ff17adaa_6257_11ec_9c60_9c305b6fce10row2_col3\" class=\"data row2 col3\" >0.001815</td>\n",
       "                        <td id=\"T_ff17adaa_6257_11ec_9c60_9c305b6fce10row2_col4\" class=\"data row2 col4\" >0.006565</td>\n",
       "                        <td id=\"T_ff17adaa_6257_11ec_9c60_9c305b6fce10row2_col5\" class=\"data row2 col5\" >0.004442</td>\n",
       "                        <td id=\"T_ff17adaa_6257_11ec_9c60_9c305b6fce10row2_col6\" class=\"data row2 col6\" >36</td>\n",
       "                        <td id=\"T_ff17adaa_6257_11ec_9c60_9c305b6fce10row2_col7\" class=\"data row2 col7\" >0.886258</td>\n",
       "            </tr>\n",
       "            <tr>\n",
       "                        <th id=\"T_ff17adaa_6257_11ec_9c60_9c305b6fce10level0_row3\" class=\"row_heading level0 row3\" >7</th>\n",
       "                        <td id=\"T_ff17adaa_6257_11ec_9c60_9c305b6fce10row3_col0\" class=\"data row3 col0\" >0.012818</td>\n",
       "                        <td id=\"T_ff17adaa_6257_11ec_9c60_9c305b6fce10row3_col1\" class=\"data row3 col1\" >0.085806</td>\n",
       "                        <td id=\"T_ff17adaa_6257_11ec_9c60_9c305b6fce10row3_col2\" class=\"data row3 col2\" >0.050478</td>\n",
       "                        <td id=\"T_ff17adaa_6257_11ec_9c60_9c305b6fce10row3_col3\" class=\"data row3 col3\" >0.004556</td>\n",
       "                        <td id=\"T_ff17adaa_6257_11ec_9c60_9c305b6fce10row3_col4\" class=\"data row3 col4\" >0.009340</td>\n",
       "                        <td id=\"T_ff17adaa_6257_11ec_9c60_9c305b6fce10row3_col5\" class=\"data row3 col5\" >0.007545</td>\n",
       "                        <td id=\"T_ff17adaa_6257_11ec_9c60_9c305b6fce10row3_col6\" class=\"data row3 col6\" >24</td>\n",
       "                        <td id=\"T_ff17adaa_6257_11ec_9c60_9c305b6fce10row3_col7\" class=\"data row3 col7\" >0.882450</td>\n",
       "            </tr>\n",
       "            <tr>\n",
       "                        <th id=\"T_ff17adaa_6257_11ec_9c60_9c305b6fce10level0_row4\" class=\"row_heading level0 row4\" >1</th>\n",
       "                        <td id=\"T_ff17adaa_6257_11ec_9c60_9c305b6fce10row4_col0\" class=\"data row4 col0\" >0.040034</td>\n",
       "                        <td id=\"T_ff17adaa_6257_11ec_9c60_9c305b6fce10row4_col1\" class=\"data row4 col1\" >0.022858</td>\n",
       "                        <td id=\"T_ff17adaa_6257_11ec_9c60_9c305b6fce10row4_col2\" class=\"data row4 col2\" >0.068580</td>\n",
       "                        <td id=\"T_ff17adaa_6257_11ec_9c60_9c305b6fce10row4_col3\" class=\"data row4 col3\" >0.001508</td>\n",
       "                        <td id=\"T_ff17adaa_6257_11ec_9c60_9c305b6fce10row4_col4\" class=\"data row4 col4\" >0.007498</td>\n",
       "                        <td id=\"T_ff17adaa_6257_11ec_9c60_9c305b6fce10row4_col5\" class=\"data row4 col5\" >0.009447</td>\n",
       "                        <td id=\"T_ff17adaa_6257_11ec_9c60_9c305b6fce10row4_col6\" class=\"data row4 col6\" >20</td>\n",
       "                        <td id=\"T_ff17adaa_6257_11ec_9c60_9c305b6fce10row4_col7\" class=\"data row4 col7\" >0.877815</td>\n",
       "            </tr>\n",
       "            <tr>\n",
       "                        <th id=\"T_ff17adaa_6257_11ec_9c60_9c305b6fce10level0_row5\" class=\"row_heading level0 row5\" >8</th>\n",
       "                        <td id=\"T_ff17adaa_6257_11ec_9c60_9c305b6fce10row5_col0\" class=\"data row5 col0\" >0.061340</td>\n",
       "                        <td id=\"T_ff17adaa_6257_11ec_9c60_9c305b6fce10row5_col1\" class=\"data row5 col1\" >0.056875</td>\n",
       "                        <td id=\"T_ff17adaa_6257_11ec_9c60_9c305b6fce10row5_col2\" class=\"data row5 col2\" >0.096505</td>\n",
       "                        <td id=\"T_ff17adaa_6257_11ec_9c60_9c305b6fce10row5_col3\" class=\"data row5 col3\" >0.008601</td>\n",
       "                        <td id=\"T_ff17adaa_6257_11ec_9c60_9c305b6fce10row5_col4\" class=\"data row5 col4\" >0.007726</td>\n",
       "                        <td id=\"T_ff17adaa_6257_11ec_9c60_9c305b6fce10row5_col5\" class=\"data row5 col5\" >0.005857</td>\n",
       "                        <td id=\"T_ff17adaa_6257_11ec_9c60_9c305b6fce10row5_col6\" class=\"data row5 col6\" >28</td>\n",
       "                        <td id=\"T_ff17adaa_6257_11ec_9c60_9c305b6fce10row5_col7\" class=\"data row5 col7\" >0.877815</td>\n",
       "            </tr>\n",
       "            <tr>\n",
       "                        <th id=\"T_ff17adaa_6257_11ec_9c60_9c305b6fce10level0_row6\" class=\"row_heading level0 row6\" >0</th>\n",
       "                        <td id=\"T_ff17adaa_6257_11ec_9c60_9c305b6fce10row6_col0\" class=\"data row6 col0\" >0.081689</td>\n",
       "                        <td id=\"T_ff17adaa_6257_11ec_9c60_9c305b6fce10row6_col1\" class=\"data row6 col1\" >0.026509</td>\n",
       "                        <td id=\"T_ff17adaa_6257_11ec_9c60_9c305b6fce10row6_col2\" class=\"data row6 col2\" >0.080172</td>\n",
       "                        <td id=\"T_ff17adaa_6257_11ec_9c60_9c305b6fce10row6_col3\" class=\"data row6 col3\" >0.006372</td>\n",
       "                        <td id=\"T_ff17adaa_6257_11ec_9c60_9c305b6fce10row6_col4\" class=\"data row6 col4\" >0.005012</td>\n",
       "                        <td id=\"T_ff17adaa_6257_11ec_9c60_9c305b6fce10row6_col5\" class=\"data row6 col5\" >0.001900</td>\n",
       "                        <td id=\"T_ff17adaa_6257_11ec_9c60_9c305b6fce10row6_col6\" class=\"data row6 col6\" >28</td>\n",
       "                        <td id=\"T_ff17adaa_6257_11ec_9c60_9c305b6fce10row6_col7\" class=\"data row6 col7\" >0.868046</td>\n",
       "            </tr>\n",
       "            <tr>\n",
       "                        <th id=\"T_ff17adaa_6257_11ec_9c60_9c305b6fce10level0_row7\" class=\"row_heading level0 row7\" >4</th>\n",
       "                        <td id=\"T_ff17adaa_6257_11ec_9c60_9c305b6fce10row7_col0\" class=\"data row7 col0\" >0.052009</td>\n",
       "                        <td id=\"T_ff17adaa_6257_11ec_9c60_9c305b6fce10row7_col1\" class=\"data row7 col1\" >0.087395</td>\n",
       "                        <td id=\"T_ff17adaa_6257_11ec_9c60_9c305b6fce10row7_col2\" class=\"data row7 col2\" >0.071228</td>\n",
       "                        <td id=\"T_ff17adaa_6257_11ec_9c60_9c305b6fce10row7_col3\" class=\"data row7 col3\" >0.005054</td>\n",
       "                        <td id=\"T_ff17adaa_6257_11ec_9c60_9c305b6fce10row7_col4\" class=\"data row7 col4\" >0.001119</td>\n",
       "                        <td id=\"T_ff17adaa_6257_11ec_9c60_9c305b6fce10row7_col5\" class=\"data row7 col5\" >0.009480</td>\n",
       "                        <td id=\"T_ff17adaa_6257_11ec_9c60_9c305b6fce10row7_col6\" class=\"data row7 col6\" >28</td>\n",
       "                        <td id=\"T_ff17adaa_6257_11ec_9c60_9c305b6fce10row7_col7\" class=\"data row7 col7\" >0.577152</td>\n",
       "            </tr>\n",
       "            <tr>\n",
       "                        <th id=\"T_ff17adaa_6257_11ec_9c60_9c305b6fce10level0_row8\" class=\"row_heading level0 row8\" >9</th>\n",
       "                        <td id=\"T_ff17adaa_6257_11ec_9c60_9c305b6fce10row8_col0\" class=\"data row8 col0\" >0.096873</td>\n",
       "                        <td id=\"T_ff17adaa_6257_11ec_9c60_9c305b6fce10row8_col1\" class=\"data row8 col1\" >0.064633</td>\n",
       "                        <td id=\"T_ff17adaa_6257_11ec_9c60_9c305b6fce10row8_col2\" class=\"data row8 col2\" >0.034840</td>\n",
       "                        <td id=\"T_ff17adaa_6257_11ec_9c60_9c305b6fce10row8_col3\" class=\"data row8 col3\" >0.003666</td>\n",
       "                        <td id=\"T_ff17adaa_6257_11ec_9c60_9c305b6fce10row8_col4\" class=\"data row8 col4\" >0.002487</td>\n",
       "                        <td id=\"T_ff17adaa_6257_11ec_9c60_9c305b6fce10row8_col5\" class=\"data row8 col5\" >0.001141</td>\n",
       "                        <td id=\"T_ff17adaa_6257_11ec_9c60_9c305b6fce10row8_col6\" class=\"data row8 col6\" >28</td>\n",
       "                        <td id=\"T_ff17adaa_6257_11ec_9c60_9c305b6fce10row8_col7\" class=\"data row8 col7\" >0.526325</td>\n",
       "            </tr>\n",
       "            <tr>\n",
       "                        <th id=\"T_ff17adaa_6257_11ec_9c60_9c305b6fce10level0_row9\" class=\"row_heading level0 row9\" >2</th>\n",
       "                        <td id=\"T_ff17adaa_6257_11ec_9c60_9c305b6fce10row9_col0\" class=\"data row9 col0\" >0.099299</td>\n",
       "                        <td id=\"T_ff17adaa_6257_11ec_9c60_9c305b6fce10row9_col1\" class=\"data row9 col1\" >0.065573</td>\n",
       "                        <td id=\"T_ff17adaa_6257_11ec_9c60_9c305b6fce10row9_col2\" class=\"data row9 col2\" >0.065049</td>\n",
       "                        <td id=\"T_ff17adaa_6257_11ec_9c60_9c305b6fce10row9_col3\" class=\"data row9 col3\" >0.001064</td>\n",
       "                        <td id=\"T_ff17adaa_6257_11ec_9c60_9c305b6fce10row9_col4\" class=\"data row9 col4\" >0.001208</td>\n",
       "                        <td id=\"T_ff17adaa_6257_11ec_9c60_9c305b6fce10row9_col5\" class=\"data row9 col5\" >0.005723</td>\n",
       "                        <td id=\"T_ff17adaa_6257_11ec_9c60_9c305b6fce10row9_col6\" class=\"data row9 col6\" >28</td>\n",
       "                        <td id=\"T_ff17adaa_6257_11ec_9c60_9c305b6fce10row9_col7\" class=\"data row9 col7\" >0.000000</td>\n",
       "            </tr>\n",
       "    </tbody></table>"
      ],
      "text/plain": [
       "<pandas.io.formats.style.Styler at 0x1a54998e250>"
      ]
     },
     "execution_count": 39,
     "metadata": {},
     "output_type": "execute_result"
    }
   ],
   "source": [
    "# load the pickl efile for the parameters from the tuning\n",
    "res = skopt.load(r\"checkpoint_popularity.pkl\")\n",
    "# conevrt the result to df\n",
    "sgd_results = pd.DataFrame(res.x_iters, columns = ['lr_xu', 'lr_yi','lr_bi','lambda_xu','lambda_yi','lambda_bi','hidden_dimension_size'])\n",
    "# put the result column with the correct values\n",
    "sgd_results['result'] = res.func_vals \n",
    "# sort the result by the score from the largest to the smallest\n",
    "sgd_results = sgd_results.sort_values(by = 'result', ascending= False)\n",
    "# display the results\n",
    "sgd_results.style.bar(subset=['result'], align='mid', color=['#86BDEE'])"
   ]
  },
  {
   "cell_type": "markdown",
   "metadata": {},
   "source": [
    "<b> define the BPR config by the best parameters with popularity method"
   ]
  },
  {
   "cell_type": "code",
   "execution_count": 40,
   "metadata": {},
   "outputs": [],
   "source": [
    "BPR_CONFIG_popularity = Config(\n",
    "    print_metrics=True,\n",
    "    hidden_dimension=28,\n",
    "    lr_xu=0.025603,\n",
    "    lr_yi=0.045195,\n",
    "    lr_bi=0.026401,\n",
    "    l2_xu=0.007798,\n",
    "    l2_yi=0.004826,\n",
    "    l2_bi=0.002871,\n",
    "    epochs=26,\n",
    "    seed=SEED,\n",
    "    negative_sampler_type=NEGATIVE_SAMPLER_TYPE,\n",
    "    validation_creator_sampler_type=VALIDATION_CREATOR_SAMPLER_TYPE)"
   ]
  },
  {
   "cell_type": "markdown",
   "metadata": {},
   "source": [
    "<b> caculate MPR and HIT RATIO at k on validation set"
   ]
  },
  {
   "cell_type": "code",
   "execution_count": 41,
   "metadata": {},
   "outputs": [],
   "source": [
    "# HYPER_PARAM_SEARCH or manual config- set to TRUE to search the best parameters\n",
    "HYPER_PARAM_SEARCH = False\n",
    "\n",
    "# Save and load\n",
    "MF_SAVE_TRAIN_VALIDATION = False  \n",
    "MF_LOAD_TRAIN_VALIDATION = True\n",
    "LOAD_NEGATIVE = True\n",
    "\n",
    "CONFIG = BPR_CONFIG_popularity\n",
    "\n",
    "@skopt.utils.use_named_args(space)\n",
    "def objective(**params):\n",
    "    mf.set_params(**params)\n",
    "    print({i: np.round(v, 3) for i, v in mf.__dict__.items() if i in params.keys()})\n",
    "    return mf.fit(train.copy(), user_map, item_map, validation.copy())"
   ]
  },
  {
   "cell_type": "code",
   "execution_count": 43,
   "metadata": {
    "scrolled": true
   },
   "outputs": [
    {
     "name": "stdout",
     "output_type": "stream",
     "text": [
      "epoch: 1\n",
      "| epoch   # 01 :  train_objective : -6.396e+05    train_percent_right : 0.6164    validation_objective : -3.203e+03  validation_percent_right : 0.7725\n",
      "epoch: 2\n",
      "| epoch   # 02 :  train_objective : -5.578e+05    train_percent_right : 0.713     validation_objective : -2.906e+03  validation_percent_right : 0.8219\n",
      "epoch: 3\n",
      "| epoch   # 03 :  train_objective : -4.386e+05    train_percent_right : 0.7957    validation_objective : -2.407e+03  validation_percent_right : 0.8523\n",
      "epoch: 4\n",
      "| epoch   # 04 :  train_objective : -3.812e+05    train_percent_right : 0.8285    validation_objective : -2.229e+03  validation_percent_right : 0.8646\n",
      "epoch: 5\n",
      "| epoch   # 05 :  train_objective : -3.462e+05    train_percent_right : 0.8486    validation_objective : -2.135e+03  validation_percent_right : 0.8728\n",
      "epoch: 6\n",
      "| epoch   # 06 :  train_objective : -3.226e+05    train_percent_right : 0.8609    validation_objective : -2.071e+03  validation_percent_right : 0.8717\n",
      "epoch: 7\n",
      "| epoch   # 07 :  train_objective : -3.043e+05    train_percent_right : 0.8704    validation_objective : -2.011e+03  validation_percent_right : 0.877\n",
      "epoch: 8\n",
      "| epoch   # 08 :  train_objective : -2.891e+05    train_percent_right : 0.8792    validation_objective : -1.998e+03  validation_percent_right : 0.8834\n",
      "epoch: 9\n",
      "| epoch   # 09 :  train_objective : -2.771e+05    train_percent_right : 0.8858    validation_objective : -1.957e+03  validation_percent_right : 0.8861\n",
      "epoch: 10\n",
      "| epoch   # 10 :  train_objective : -2.659e+05    train_percent_right : 0.8917    validation_objective : -1.953e+03  validation_percent_right : 0.8861\n",
      "epoch: 11\n",
      "| epoch   # 11 :  train_objective : -2.569e+05    train_percent_right : 0.8967    validation_objective : -1.956e+03  validation_percent_right : 0.8902\n",
      "epoch: 12\n",
      "| epoch   # 12 :  train_objective : -2.499e+05    train_percent_right : 0.9003    validation_objective : -1.967e+03  validation_percent_right : 0.8839\n",
      "epoch: 13\n",
      "| epoch   # 13 :  train_objective : -2.449e+05    train_percent_right : 0.9024    validation_objective : -1.986e+03  validation_percent_right : 0.8829\n",
      "epoch: 14\n",
      "| epoch   # 14 :  train_objective : -2.415e+05    train_percent_right : 0.9044    validation_objective : -1.958e+03  validation_percent_right : 0.8887\n",
      "epoch: 15\n",
      "| epoch   # 15 :  train_objective : -2.386e+05    train_percent_right : 0.905     validation_objective : -1.985e+03  validation_percent_right : 0.8869\n",
      "epoch: 16\n",
      "| epoch   # 16 :  train_objective : -2.359e+05    train_percent_right : 0.9065    validation_objective : -1.985e+03  validation_percent_right : 0.8868\n",
      "epoch: 17\n",
      "| epoch   # 17 :  train_objective : -2.342e+05    train_percent_right : 0.9072    validation_objective : -1.987e+03  validation_percent_right : 0.8877\n",
      "epoch: 18\n",
      "| epoch   # 18 :  train_objective : -2.32e+05     train_percent_right : 0.9082    validation_objective : -1.991e+03  validation_percent_right : 0.8838\n",
      "epoch: 19\n",
      "| epoch   # 19 :  train_objective : -2.31e+05     train_percent_right : 0.9088    validation_objective : -2.001e+03  validation_percent_right : 0.8811\n",
      "epoch: 20\n",
      "| epoch   # 20 :  train_objective : -2.303e+05    train_percent_right : 0.9089    validation_objective : -2.009e+03  validation_percent_right : 0.8866\n",
      "epoch: 21\n",
      "| epoch   # 21 :  train_objective : -2.286e+05    train_percent_right : 0.9097    validation_objective : -2e+03   validation_percent_right : 0.8886\n",
      "epoch: 22\n",
      "| epoch   # 22 :  train_objective : -2.284e+05    train_percent_right : 0.9094    validation_objective : -2.017e+03  validation_percent_right : 0.8859\n",
      "epoch: 23\n",
      "| epoch   # 23 :  train_objective : -2.276e+05    train_percent_right : 0.9103    validation_objective : -2.027e+03  validation_percent_right : 0.8868\n",
      "epoch: 24\n",
      "| epoch   # 24 :  train_objective : -2.275e+05    train_percent_right : 0.9099    validation_objective : -2.05e+03  validation_percent_right : 0.8844\n",
      "epoch: 25\n",
      "| epoch   # 25 :  train_objective : -2.267e+05    train_percent_right : 0.9105    validation_objective : -2.027e+03  validation_percent_right : 0.8846\n",
      "epoch: 26\n",
      "| epoch   # 26 :  train_objective : -2.252e+05    train_percent_right : 0.9109    validation_objective : -2.037e+03  validation_percent_right : 0.8873\n",
      "{'precision_at_1_all_items': 0.0097682119205298, 'precision_at_1_items_user_did_not_rank': 0.04304635761589404, 'precision_at_10_all_items': 0.0759933774834437, 'precision_at_10_items_user_did_not_rank': 0.17235099337748344, 'precision_at_50_all_items': 0.24486754966887417, 'precision_at_50_items_user_did_not_rank': 0.3882450331125828, 'mpr_all_items': 0.1032646951050576}\n"
     ]
    }
   ],
   "source": [
    "# read the csv file (train data)\n",
    "train = pd.read_csv(TRAIN_PATH)\n",
    "# appply the preprocess_for_mf function to get train, validation, dictionary for users and dictionary for items\n",
    "train_4, user_map, item_map = preprocess_for_mf(train.copy())\n",
    "# create validation set\n",
    "validation_creator = ValidationCreator(CONFIG.validation_creator_sampler_type)\n",
    "# read the train and validation (we created before)\n",
    "train_4, validation_4 = validation_creator.get(train_4.copy())\n",
    "# add attributes to config\n",
    "CONFIG.add_attributes(n_users=len(user_map), n_items=len(item_map))\n",
    "# create matrix factorization object\n",
    "mf = BPRMatrixFactorizationWithBiasesSGD(CONFIG)\n",
    "# run the model\n",
    "run_exp(mf, train_4.copy(), user_map, item_map, validation_4)"
   ]
  },
  {
   "cell_type": "markdown",
   "metadata": {},
   "source": [
    "<b> Run the final models with popularity </b> <br>\n",
    "run with the best parameters we got from the tuning"
   ]
  },
  {
   "cell_type": "code",
   "execution_count": 44,
   "metadata": {},
   "outputs": [
    {
     "name": "stderr",
     "output_type": "stream",
     "text": [
      "\r",
      "  0%|                                                                                         | 0/6040 [00:00<?, ?it/s]"
     ]
    },
    {
     "name": "stdout",
     "output_type": "stream",
     "text": [
      "Creating negative samples\n"
     ]
    },
    {
     "name": "stderr",
     "output_type": "stream",
     "text": [
      "100%|██████████████████████████████████████████████████████████████████████████████| 6040/6040 [05:34<00:00, 18.04it/s]\n"
     ]
    },
    {
     "name": "stdout",
     "output_type": "stream",
     "text": [
      "epoch: 1\n",
      "| epoch   # 01 :  train_objective : -6.422e+05    train_percent_right : 0.6183  \n",
      "epoch: 2\n",
      "| epoch   # 02 :  train_objective : -5.575e+05    train_percent_right : 0.7148  \n",
      "epoch: 3\n",
      "| epoch   # 03 :  train_objective : -4.413e+05    train_percent_right : 0.7955  \n",
      "epoch: 4\n",
      "| epoch   # 04 :  train_objective : -3.813e+05    train_percent_right : 0.8302  \n",
      "epoch: 5\n",
      "| epoch   # 05 :  train_objective : -3.44e+05     train_percent_right : 0.8509  \n",
      "epoch: 6\n",
      "| epoch   # 06 :  train_objective : -3.207e+05    train_percent_right : 0.8632  \n",
      "epoch: 7\n",
      "| epoch   # 07 :  train_objective : -3.031e+05    train_percent_right : 0.8728  \n",
      "epoch: 8\n",
      "| epoch   # 08 :  train_objective : -2.877e+05    train_percent_right : 0.881   \n",
      "epoch: 9\n",
      "| epoch   # 09 :  train_objective : -2.753e+05    train_percent_right : 0.8875  \n",
      "epoch: 10\n",
      "| epoch   # 10 :  train_objective : -2.652e+05    train_percent_right : 0.8926  \n",
      "epoch: 11\n",
      "| epoch   # 11 :  train_objective : -2.564e+05    train_percent_right : 0.8974  \n",
      "epoch: 12\n",
      "| epoch   # 12 :  train_objective : -2.496e+05    train_percent_right : 0.9012  \n",
      "epoch: 13\n",
      "| epoch   # 13 :  train_objective : -2.442e+05    train_percent_right : 0.9036  \n",
      "epoch: 14\n",
      "| epoch   # 14 :  train_objective : -2.401e+05    train_percent_right : 0.9051  \n",
      "epoch: 15\n",
      "| epoch   # 15 :  train_objective : -2.373e+05    train_percent_right : 0.9069  \n",
      "epoch: 16\n",
      "| epoch   # 16 :  train_objective : -2.351e+05    train_percent_right : 0.9079  \n",
      "epoch: 17\n",
      "| epoch   # 17 :  train_objective : -2.328e+05    train_percent_right : 0.9086  \n",
      "epoch: 18\n",
      "| epoch   # 18 :  train_objective : -2.309e+05    train_percent_right : 0.9097  \n",
      "epoch: 19\n",
      "| epoch   # 19 :  train_objective : -2.304e+05    train_percent_right : 0.9098  \n",
      "epoch: 20\n",
      "| epoch   # 20 :  train_objective : -2.284e+05    train_percent_right : 0.9104  \n",
      "epoch: 21\n",
      "| epoch   # 21 :  train_objective : -2.284e+05    train_percent_right : 0.9105  \n",
      "epoch: 22\n",
      "| epoch   # 22 :  train_objective : -2.273e+05    train_percent_right : 0.9112  \n",
      "epoch: 23\n",
      "| epoch   # 23 :  train_objective : -2.27e+05     train_percent_right : 0.9111  \n",
      "epoch: 24\n",
      "| epoch   # 24 :  train_objective : -2.256e+05    train_percent_right : 0.9117  \n",
      "epoch: 25\n",
      "| epoch   # 25 :  train_objective : -2.255e+05    train_percent_right : 0.9116  \n",
      "epoch: 26\n",
      "| epoch   # 26 :  train_objective : -2.255e+05    train_percent_right : 0.9114  \n",
      "item1 exist in test but not in train\n"
     ]
    }
   ],
   "source": [
    "LOAD_NEGATIVE = False\n",
    "# Final Run on all of the train data\n",
    "# read the train data ans get the user and item map\n",
    "train = pd.read_csv(TRAIN_PATH)\n",
    "train_5, user_map, item_map = preprocess_for_mf(train.copy())\n",
    "# define the config\n",
    "config = CONFIG\n",
    "# create matrix factorization object\n",
    "mf = BPRMatrixFactorizationWithBiasesSGD(CONFIG)\n",
    "# fit the data\n",
    "mf.fit(train_5, user_map, item_map)\n",
    "# predict for test\n",
    "mf.predict_on_test_set()"
   ]
  },
  {
   "cell_type": "code",
   "execution_count": null,
   "metadata": {},
   "outputs": [],
   "source": []
  }
 ],
 "metadata": {
  "kernelspec": {
   "display_name": "Python 3",
   "language": "python",
   "name": "python3"
  },
  "language_info": {
   "codemirror_mode": {
    "name": "ipython",
    "version": 3
   },
   "file_extension": ".py",
   "mimetype": "text/x-python",
   "name": "python",
   "nbconvert_exporter": "python",
   "pygments_lexer": "ipython3",
   "version": "3.8.5"
  }
 },
 "nbformat": 4,
 "nbformat_minor": 4
}
